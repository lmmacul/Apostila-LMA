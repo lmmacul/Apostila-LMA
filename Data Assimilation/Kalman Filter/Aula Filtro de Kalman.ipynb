{
 "cells": [
  {
   "cell_type": "code",
   "execution_count": 1,
   "metadata": {
    "slideshow": {
     "slide_type": "skip"
    }
   },
   "outputs": [],
   "source": [
    "import numpy as np\n",
    "from collections import namedtuple\n",
    "from matplotlib import pyplot as plt \n",
    "from ipywidgets import interact, FloatSlider, IntSlider, fixed, interactive\n",
    "from filterpy.kalman import predict, update\n",
    "from filterpy.stats import plot_covariance\n",
    "from scipy.linalg import inv\n",
    "%run utils.py"
   ]
  },
  {
   "cell_type": "markdown",
   "metadata": {
    "slideshow": {
     "slide_type": "slide"
    }
   },
   "source": [
    "# KALMAN FILTER"
   ]
  },
  {
   "cell_type": "markdown",
   "metadata": {
    "slideshow": {
     "slide_type": "fragment"
    }
   },
   "source": [
    "1. Introdução à Assimilação de Dados\n",
    "- Revisão de Estatística e Variáveis Normais\n",
    "- Kalman Filter Unidimensional\n",
    "- Revisão sobre Variáveis Normais Multivariadas\n",
    "- Kalman Filter Multivariado"
   ]
  },
  {
   "cell_type": "markdown",
   "metadata": {
    "slideshow": {
     "slide_type": "slide"
    }
   },
   "source": [
    "## Assimilação de dados"
   ]
  },
  {
   "cell_type": "markdown",
   "metadata": {
    "slideshow": {
     "slide_type": "fragment"
    }
   },
   "source": [
    "**Idéia principal**\n",
    "\n",
    "Combinar Conhecimento teórico sobre um sistema com dados observados"
   ]
  },
  {
   "cell_type": "markdown",
   "metadata": {
    "slideshow": {
     "slide_type": "subslide"
    }
   },
   "source": [
    "### Modelo Matemático\n",
    "\n",
    "Representa conhecimento teórico sobre o sistema\n",
    "\n",
    "**Modelos de sistemas dinâmicos**\n",
    "\n",
    "- Utilizam equações de diferenciais e equações de diferença\n",
    " - Dependem do estado anterior do sistema\n",
    "- Modelos são aproximações da realidade\n",
    "- Viés de projeções - Modelos não são perfeitos!"
   ]
  },
  {
   "cell_type": "markdown",
   "metadata": {
    "slideshow": {
     "slide_type": "fragment"
    }
   },
   "source": [
    "<center><img src=\"./fig/07-matrix-1.w570.h712 (2).jpg\" style=\"width: 35% \"></center>"
   ]
  },
  {
   "cell_type": "markdown",
   "metadata": {
    "slideshow": {
     "slide_type": "subslide"
    }
   },
   "source": [
    "## Medição de Dados\n",
    "\n",
    "- Dados coletados do ambiente real\n",
    " - Podem não ser precisos o suficiente"
   ]
  },
  {
   "cell_type": "markdown",
   "metadata": {
    "slideshow": {
     "slide_type": "subslide"
    }
   },
   "source": [
    "## Exemplo\n",
    "\n",
    "**GPS de um carro**\n",
    "\n",
    "- Acurácia pode ser baixa\n",
    " - Estimativa de uma região onde o carro pode estar localizado"
   ]
  },
  {
   "cell_type": "markdown",
   "metadata": {
    "slideshow": {
     "slide_type": "fragment"
    }
   },
   "source": [
    "- Sabemos a região em que o carro estava há um momento atrás"
   ]
  },
  {
   "cell_type": "markdown",
   "metadata": {
    "slideshow": {
     "slide_type": "fragment"
    }
   },
   "source": [
    "- Sabemos o modelo que descreve o comportamento do carro\n",
    " - $\\Delta S = S + v \\cdot t$"
   ]
  },
  {
   "cell_type": "markdown",
   "metadata": {
    "slideshow": {
     "slide_type": "subslide"
    }
   },
   "source": [
    "## Exemplo\n",
    "\n",
    "**GPS de um carro**\n",
    "- $\\Delta S = S + v \\cdot t$\n",
    "- Então, se soubermos a velocidade do carro, podemos prever sua proxima posição aproximada\n"
   ]
  },
  {
   "cell_type": "markdown",
   "metadata": {
    "slideshow": {
     "slide_type": "fragment"
    }
   },
   "source": [
    "**Então temos duas fontes fontes de informação!**\n",
    "\n",
    "- Posição prevista pelo modelo\n",
    "- Posição estimada pelo GPS"
   ]
  },
  {
   "cell_type": "markdown",
   "metadata": {
    "slideshow": {
     "slide_type": "fragment"
    }
   },
   "source": [
    "O trabalho do algoritmo de assimilação de dados é unir as duas informações para melhorar a estimativa da posição do carro"
   ]
  },
  {
   "cell_type": "markdown",
   "metadata": {
    "slideshow": {
     "slide_type": "subslide"
    }
   },
   "source": [
    "## Distinto de machine learning\n",
    "\n",
    "- Machine learning \n",
    " - Não possuímos nenhum conhecimento prévio do sistema.\n",
    " - Aprende apenas pelos dados.\n",
    "- Assimilação de dados\n",
    " - Já conhecemos o comportamento do sistema\n",
    " - Geralmente, precisamos de menos informações para ajustar o modelo"
   ]
  },
  {
   "cell_type": "markdown",
   "metadata": {
    "slideshow": {
     "slide_type": "slide"
    }
   },
   "source": [
    "# Revisão de Estatística e Variáveis Normais\n"
   ]
  },
  {
   "cell_type": "markdown",
   "metadata": {
    "slideshow": {
     "slide_type": "subslide"
    }
   },
   "source": [
    "## **Objetivo: Função Gaussiana**\n",
    "\n",
    "- Funções Gaussianas são muito utilizadas para representar incertezas no mundo real.\n",
    "\n",
    "- No Kalman Filter queremos descrever variáveis como funções gaussianas.\n",
    "\n",
    "<img src=\"./fig/gausscurve.png\" style=\"width: 400px;\">\n"
   ]
  },
  {
   "cell_type": "markdown",
   "metadata": {
    "slideshow": {
     "slide_type": "subslide"
    }
   },
   "source": [
    "### **Função de Distribuição Gaussiana**\n",
    "\n",
    "- Função de distribuição de probabilidade contínua que pode ser descrita através de dois parâmetros,uma média ($\\mu$) e uma variância ($\\sigma^2$). \n",
    "\n",
    "$$ \n",
    "f(x, \\mu, \\sigma) = \\frac{1}{\\sigma\\sqrt{2\\pi}} \\exp\\big [{-\\frac{(x-\\mu)^2}{2\\sigma^2} }\\big ]\n",
    "$$\n",
    "\n",
    "Quem são os valores que descrevem uma Gaussiana?"
   ]
  },
  {
   "cell_type": "markdown",
   "metadata": {
    "slideshow": {
     "slide_type": "subslide"
    }
   },
   "source": [
    "### - Média\n",
    "\n",
    "A média associada a uma função probabilidade é uma tendência de resultados de um evento evento a permanecerem ao redor de um evento médio. \"Em média\" os resultados de um evento estão próximos da média. Podemos considerar a média como uma previsão de um evento.\n"
   ]
  },
  {
   "cell_type": "markdown",
   "metadata": {
    "slideshow": {
     "slide_type": "subslide"
    }
   },
   "source": [
    "### - Variância\n",
    "\n",
    "A variância associada a uma função de probabildade é o quanto os resultados de um evento se distanciam da média. Quanto maior a variância, menos conhecemos do evento que estudamos e menos precisa é a previsão feita. Quanto menor a variância, mais conhecemos do evento que está sendo estudado e mais precisa é a previsão feita."
   ]
  },
  {
   "cell_type": "markdown",
   "metadata": {
    "slideshow": {
     "slide_type": "subslide"
    }
   },
   "source": [
    "Notação para função Gaussiana: ${\\displaystyle X\\sim {N}(\\mu ,\\sigma ^{2}).}$ \n",
    "\n",
    "- Na função Gaussiana, a probabilidade do evento obter um resultado próximo da média é muito maior do que um resultado longe da média.\n",
    "\n",
    "<center><img src=\"./fig/probgaussiana.png\" style=\"width: 50%;\"></center>"
   ]
  },
  {
   "cell_type": "code",
   "execution_count": 2,
   "metadata": {
    "slideshow": {
     "slide_type": "subslide"
    }
   },
   "outputs": [
    {
     "data": {
      "application/vnd.jupyter.widget-view+json": {
       "model_id": "c555195421234f5ca04e26d78c2580e8",
       "version_major": 2,
       "version_minor": 0
      },
      "text/plain": [
       "interactive(children=(FloatSlider(value=0.0, description='x_mean', max=8.0, min=-8.0), FloatSlider(value=0.6, …"
      ]
     },
     "metadata": {},
     "output_type": "display_data"
    }
   ],
   "source": [
    "interact(plot_gaussian,\n",
    "         x_mean = FloatSlider(value = 0, min = -8, max = 8),\n",
    "         x_var = FloatSlider(value = 0.6, min = 0, max = 5));"
   ]
  },
  {
   "cell_type": "markdown",
   "metadata": {
    "slideshow": {
     "slide_type": "subslide"
    }
   },
   "source": [
    "## **Operações associadas a Gaussianas:**\n",
    "\n",
    "Para o Filtro de Kalman, vamos utilizar conceitos de operações entre funções Gaussianas de variáveis aleatórias **independentes**.\n"
   ]
  },
  {
   "cell_type": "markdown",
   "metadata": {
    "slideshow": {
     "slide_type": "subslide"
    }
   },
   "source": [
    "### - Soma \n",
    "\n",
    "Dado dois eventos independentes ${\\displaystyle X\\sim {N}(\\mu\n",
    "_1 ,\\sigma_1 ^{2})}$ e ${\\displaystyle Y\\sim {N}(\\mu_2 ,\\sigma_2 ^{2})}$. \n",
    "\n",
    "Sua soma resulta em um evento com os parâmetros:\n",
    "\n",
    "$$\\begin{gathered}\\mu = \\mu_1 + \\mu_2 \\\\\n",
    "\\sigma^2 = \\sigma^2_1 + \\sigma^2_2\n",
    "\\end{gathered}$$\n",
    "\n",
    "Essa operação pode ser provada através de convolução."
   ]
  },
  {
   "cell_type": "code",
   "execution_count": 3,
   "metadata": {
    "slideshow": {
     "slide_type": "subslide"
    }
   },
   "outputs": [
    {
     "data": {
      "application/vnd.jupyter.widget-view+json": {
       "model_id": "cfa4577941ba426bb772ad7e99d0baf8",
       "version_major": 2,
       "version_minor": 0
      },
      "text/plain": [
       "interactive(children=(FloatSlider(value=0.0, description='x_mean', max=5.0), FloatSlider(value=0.6, descriptio…"
      ]
     },
     "metadata": {},
     "output_type": "display_data"
    }
   ],
   "source": [
    "interact(plot_gaussian_sum,\n",
    "         x_mean = FloatSlider(value = 0, min = 0, max = 5),\n",
    "         x_var = FloatSlider(value = 0.6, min = .1, max = 3),\n",
    "         dx_mean = FloatSlider(value = .4, min = -1, max = 1),\n",
    "         dx_var = FloatSlider(value = 0.3, min = .1, max = 3));"
   ]
  },
  {
   "cell_type": "markdown",
   "metadata": {
    "slideshow": {
     "slide_type": "subslide"
    }
   },
   "source": [
    "### - Multiplicação\n",
    "\n",
    "Dado dois eventos independentes: ${\\displaystyle X\\sim {N}(\\mu_1 ,\\sigma_1 ^{2})}$ e ${\\displaystyle Y\\sim {N}(\\mu_2 ,\\sigma_2 ^{2})}$. \n",
    "\n",
    "A multiplicação  resulta em uma função gaussiana de parâmetros:\n",
    " \n",
    "$$\n",
    "\\mu =\\frac{\\sigma_1^2\\mu_2 + \\sigma_2^2\\mu_1}{\\sigma_1^2+\\sigma_2^2}\n",
    "$$\n",
    "\n",
    "$$\n",
    "\\sigma^2 =\\frac{\\sigma_1^2\\sigma_2^2}{\\sigma_1^2+\\sigma_2^2}\n",
    "$$\n",
    "\n",
    "Essa operação provém da fórmula de Bayes.\n",
    "\n"
   ]
  },
  {
   "cell_type": "markdown",
   "metadata": {
    "slideshow": {
     "slide_type": "subslide"
    }
   },
   "source": [
    "\n",
    "- A gaussiana resultante da multiplicação de duas gaussianas independentes sempre terá variância menor do que as variâncias das gaussianas originais. \n"
   ]
  },
  {
   "cell_type": "markdown",
   "metadata": {
    "slideshow": {
     "slide_type": "fragment"
    }
   },
   "source": [
    "\n",
    "- Então, com essa operação você está diminuindo sua incerteza em relação a um novo evento. "
   ]
  },
  {
   "cell_type": "markdown",
   "metadata": {
    "slideshow": {
     "slide_type": "fragment"
    }
   },
   "source": [
    "\n",
    "- Para Análise de dados: quanto mais informações você tem sobre um determinado processo, menos incerteza de seu resultado. \n"
   ]
  },
  {
   "cell_type": "markdown",
   "metadata": {
    "slideshow": {
     "slide_type": "fragment"
    }
   },
   "source": [
    "\n",
    "- O Kalman Filter usa essa propriedade matemática de minimização de variância para garantir seus resultados.\n"
   ]
  },
  {
   "cell_type": "code",
   "execution_count": 4,
   "metadata": {
    "slideshow": {
     "slide_type": "subslide"
    }
   },
   "outputs": [
    {
     "data": {
      "application/vnd.jupyter.widget-view+json": {
       "model_id": "dd2369ed184d42c2bca2cd50ead6c66f",
       "version_major": 2,
       "version_minor": 0
      },
      "text/plain": [
       "interactive(children=(FloatSlider(value=-2.5, description='x_mean', max=3.0, min=-3.0), FloatSlider(value=0.6,…"
      ]
     },
     "metadata": {},
     "output_type": "display_data"
    }
   ],
   "source": [
    "interact(plot_gaussian_multiplication,\n",
    "         x_mean = FloatSlider(value = -2.5, min = -3, max = 3),\n",
    "         x_var = FloatSlider(value = 0.6, min = 0, max = 3),\n",
    "         z_mean = FloatSlider(value = 2.5, min = 0, max = 3),\n",
    "         z_var = FloatSlider(value = 1.1, min = 0, max = 3));"
   ]
  },
  {
   "cell_type": "markdown",
   "metadata": {
    "slideshow": {
     "slide_type": "slide"
    }
   },
   "source": [
    "# Filtro de Kalman Unidimensional \n",
    "\n",
    "<center><img src=\"./fig/esquema_kf_1.jpg\" style=\"width: 60%\"></center>"
   ]
  },
  {
   "cell_type": "markdown",
   "metadata": {
    "slideshow": {
     "slide_type": "subslide"
    }
   },
   "source": [
    "## Passos Filtro de Kalman \n",
    "\n",
    "<center><img src=\"./fig/data_assimilation.png\" style = \"width: 50%\"></center>"
   ]
  },
  {
   "cell_type": "markdown",
   "metadata": {
    "slideshow": {
     "slide_type": "skip"
    }
   },
   "source": [
    "## Passos do filtro de Kalman\n",
    "\n",
    "<center><img src=\"./fig/gh_estimate3.png\" style=\"width: 70%\"></center>"
   ]
  },
  {
   "cell_type": "markdown",
   "metadata": {
    "slideshow": {
     "slide_type": "subslide"
    }
   },
   "source": [
    "## Prediction\n",
    "\n",
    "- Utiliza modelo matemático para prever o estado proximo passo de tempo\n",
    " - O resultado da predição é chamado de ***prior***"
   ]
  },
  {
   "cell_type": "markdown",
   "metadata": {
    "slideshow": {
     "slide_type": "subslide"
    }
   },
   "source": [
    "## Prediction\n",
    "\n",
    "- Cálculo da média do *prior*\n",
    "\n",
    "$$\\mu = \\mu_1 + \\mu_2 \\quad \\to \\quad \\bar x = x + dx$$\n",
    "\n",
    "- Cálculo da variância do *prior*\n",
    "\n",
    "$$\\sigma^2 = \\sigma^2_1 + \\sigma^2_2 \\quad \\to \\quad \\bar \\sigma_x^2 = \\sigma_x^2 + \\sigma_{dx}^2$$\n",
    "\n",
    "Onde:\n",
    "\n",
    "- $x$ é a média do *posterior* no passo de tempo anterior;\n",
    "- $\\sigma_x^2$ é a variância do *posterior* no passo de tempo anterior;\n",
    "- $dx$ é o resultado do cálculo da derivada realizado pelo modelo;\n",
    "- $\\sigma_{dx}^2$ é a variância do modelo (e.g. a incerteza da predição)."
   ]
  },
  {
   "cell_type": "markdown",
   "metadata": {
    "slideshow": {
     "slide_type": "subslide"
    }
   },
   "source": [
    "## Update - Média\n",
    "\n",
    "- Podemos derivar a fórmula da média de uma 'multiplicação' de duas gaussianas independentes:\n",
    "\n",
    "$$\\mu=\\frac{\\bar\\sigma_x^2\\, \\mu_z + \\sigma_z^2 \\, \\bar x} {\\bar\\sigma_x^2 + \\sigma_z^2} \\quad \\to \\quad \\mu = \\left( \\frac{\\bar\\sigma_x^2}{\\bar\\sigma_x^2 + \\sigma_z^2}\\right) \\mu_z + \\left(\\frac{\\sigma_z^2}{\\bar\\sigma_x^2 + \\sigma_z^2}\\right)\\bar x$$\n",
    "\n",
    "Onde:\n",
    "- $\\bar x$ é a média do *prior*\n",
    "- $\\bar \\sigma_x^2$ é a variância do *prior*\n",
    "- $\\mu_z$ é o valor da medição\n",
    "- $\\sigma_z^2$ é a variância do sensor"
   ]
  },
  {
   "cell_type": "markdown",
   "metadata": {
    "slideshow": {
     "slide_type": "subslide"
    }
   },
   "source": [
    "## Update - Média\n",
    "\n",
    "- Podemos derivar a fórmula da média de uma 'multiplicação' de duas gaussianas independentes:\n",
    "\n",
    "$$\\mu = \\left( \\frac{\\bar\\sigma_x^2}{\\bar\\sigma_x^2 + \\sigma_z^2}\\right) \\mu_z + \\left(\\frac{\\sigma_z^2}{\\bar\\sigma_x^2 + \\sigma_z^2}\\right)\\bar x$$\n",
    "\n",
    "$$\\mu = W_1 \\mu_z + W_2 \\bar x \\quad \\to \\quad W_2 = (1 - W_1)$$\n",
    "\n",
    "$$\\begin{aligned}\n",
    "\\mu &= K \\mu_z + (1-K) \\bar x\\\\\n",
    "&= \\bar x + K(\\mu_z - \\bar x)\n",
    "\\end{aligned}$$\n",
    "\n",
    "- $\\bar x$ é a média do *prior*\n",
    "- $\\bar \\sigma_x^2$ é a variância do *prior*\n",
    "- $\\mu_z$ é o valor da medição\n",
    "- $\\sigma_z^2$ é a variância do sensor\n",
    "- K é a proporção chamada de ***Kalman gain***"
   ]
  },
  {
   "cell_type": "markdown",
   "metadata": {
    "slideshow": {
     "slide_type": "subslide"
    }
   },
   "source": [
    "## Update - Variância\n",
    "- Também podemos expressar a variância em termos do *Kalman gain*\n",
    "\n",
    "$$K = \\left( \\frac{\\bar\\sigma_x^2}{\\bar\\sigma_x^2 + \\sigma_z^2}\\right)$$\n",
    "\n",
    "$$\\begin{aligned}\n",
    "\\sigma^2 &= \\frac{\\bar\\sigma^2 \\sigma_z^2 } {\\bar\\sigma^2 + \\sigma_z^2} \\\\\n",
    "&= K\\sigma_z^2 \\\\\n",
    "&= (1-K)\\bar\\sigma^2 \n",
    "\\end{aligned}$$"
   ]
  },
  {
   "cell_type": "markdown",
   "metadata": {
    "slideshow": {
     "slide_type": "subslide"
    }
   },
   "source": [
    "## Filtro de Kalman\n",
    "\n",
    "**Predict**\n",
    "\n",
    "$$\\bar x = x + dx$$\n",
    "$$\\sigma_x^2 = \\sigma_x^2 + \\sigma_{dx}^2$$\n",
    "\n",
    "**Update**\n",
    "\n",
    "$$K = \\left( \\frac{\\bar\\sigma_x^2}{\\bar\\sigma_x^2 + \\sigma_z^2}\\right)$$\n",
    "$$\\mu = \\bar x + K(\\mu_z - \\bar x)$$\n",
    "$$\\sigma^2 = (1-K)\\bar\\sigma^2$$\n",
    "\n",
    "- $\\bar x$ é a média do *prior*\n",
    "- $\\bar \\sigma_x^2$ é a variância do *prior*\n",
    "- $\\mu_z$ é o valor da medição\n",
    "- $\\sigma_z^2$ é a variância do sensor\n",
    "- K é a proporção chamada de ***Kalman gain***"
   ]
  },
  {
   "cell_type": "code",
   "execution_count": 5,
   "metadata": {
    "slideshow": {
     "slide_type": "slide"
    }
   },
   "outputs": [],
   "source": [
    "def predict(posterior, modelo):\n",
    "    x, P = posterior # Media e variancia do posterior no passo anterior\n",
    "    dx, Q = modelo # Media e variancia do modelo\n",
    "    x = x + dx\n",
    "    P = P + Q\n",
    "    return gaussian(x, P)"
   ]
  },
  {
   "cell_type": "code",
   "execution_count": 6,
   "metadata": {
    "slideshow": {
     "slide_type": "fragment"
    }
   },
   "outputs": [],
   "source": [
    "def update(prior, measurement):\n",
    "    x, P = prior        # Media e variancia do prior\n",
    "    z, R = measurement  # Media e variancia do sensor\n",
    "    \n",
    "    y = z - x        # Residual\n",
    "    K = P / (P + R)  # Kalman gain\n",
    "\n",
    "    x = x + K*y      # Media do novo posterior\n",
    "    P = (1 - K) * P  # Variancia do novo posterior\n",
    "    return gaussian(x, P)"
   ]
  },
  {
   "cell_type": "code",
   "execution_count": 7,
   "metadata": {
    "slideshow": {
     "slide_type": "fragment"
    }
   },
   "outputs": [],
   "source": [
    "def movimento(t, posicao, velocidade):\n",
    "    return velocidade"
   ]
  },
  {
   "cell_type": "code",
   "execution_count": 8,
   "metadata": {
    "slideshow": {
     "slide_type": "subslide"
    }
   },
   "outputs": [],
   "source": [
    "# Inicializacao do Modelo\n",
    "posicao = 0\n",
    "velocidade = 5 # Velocidade constante\n",
    "tf = 10\n",
    "dt = 0.5\n",
    "Q = 1 # Variancia do modelo\n",
    "R = 5 # Variancia do sensor\n",
    "\n",
    "pos_real = [posicao]\n",
    "zs = [posicao + np.random.normal(0, R)]\n",
    "\n",
    "for t in np.arange(0, tf, dt):\n",
    "    # Incrementa posicao\n",
    "    ruido_sistema = np.random.normal(0, Q)\n",
    "    posicao = posicao + movimento(t, posicao, velocidade) * dt + ruido_sistema\n",
    "    pos_real.append(posicao)\n",
    "    \n",
    "    # Acrescenta ruido do sensor\n",
    "    zs.append(posicao + np.random.normal(0, R))"
   ]
  },
  {
   "cell_type": "code",
   "execution_count": 9,
   "metadata": {
    "slideshow": {
     "slide_type": "subslide"
    }
   },
   "outputs": [
    {
     "data": {
      "image/png": "[encoded data removed]",
      "text/plain": [
       "<Figure size 648x432 with 1 Axes>"
      ]
     },
     "metadata": {
      "needs_background": "light"
     },
     "output_type": "display_data"
    }
   ],
   "source": [
    "plt.figure(figsize = (9, 6))\n",
    "plt.plot(pos_real)\n",
    "plt.plot(zs, 'xr', mew = 2, ms = 8)\n",
    "plt.grid()\n",
    "plt.title(\"Dados simulados + medições com ruído \")\n",
    "plt.legend([\"Posicao real\", \"Posicao medida\"], prop={'size': 15});"
   ]
  },
  {
   "cell_type": "code",
   "execution_count": 10,
   "metadata": {
    "slideshow": {
     "slide_type": "subslide"
    }
   },
   "outputs": [],
   "source": [
    "# Inicializacao\n",
    "# Para ilustrar o funcionamento do filtro,\n",
    "# a posição inicial (posterior[0]) recebe zs[0] + 50\n",
    "posterior = gaussian(zs[0]+50, R)\n",
    "predito = []\n",
    "estimado = []\n",
    "modelo = []\n",
    "for z in zs:\n",
    "    dx = movimento(t, posterior.mean, velocidade) * dt\n",
    "    \n",
    "    prior = predict(posterior, gaussian(dx, Q))\n",
    "    posterior = update(prior, gaussian(z, R))\n",
    "    \n",
    "    modelo.append(gaussian(dx, Q))\n",
    "    predito.append(prior)\n",
    "    estimado.append(posterior)"
   ]
  },
  {
   "cell_type": "code",
   "execution_count": 11,
   "metadata": {
    "slideshow": {
     "slide_type": "subslide"
    }
   },
   "outputs": [
    {
     "data": {
      "application/vnd.jupyter.widget-view+json": {
       "model_id": "86fea24074d24789bc5e9f1dced60cdd",
       "version_major": 2,
       "version_minor": 0
      },
      "text/plain": [
       "interactive(children=(IntSlider(value=1, description='step', max=76, min=1), Output()), _dom_classes=('widget-…"
      ]
     },
     "metadata": {},
     "output_type": "display_data"
    }
   ],
   "source": [
    "interact(plot_kalman_steps, step = IntSlider(1, 1, (int(tf/dt)-1)*4),\n",
    "        pos_real = fixed(pos_real), modelo = fixed(modelo),\n",
    "        predito = fixed(predito), estimado = fixed(estimado),\n",
    "        zs = fixed(zs), R = fixed(R));"
   ]
  },
  {
   "cell_type": "markdown",
   "metadata": {
    "slideshow": {
     "slide_type": "slide"
    }
   },
   "source": [
    "# Gaussianas Multivariadas"
   ]
  },
  {
   "cell_type": "markdown",
   "metadata": {
    "slideshow": {
     "slide_type": "subslide"
    }
   },
   "source": [
    "## **Objetivo: Função Gaussiana Multivariada**\n",
    "\n",
    "- Agora estamos interessados em modelar problemas com diversas variáveis. \n",
    "- Queremos obter as propriedades matemáticas e operações entre Funções Gaussianas.\n",
    "\n"
   ]
  },
  {
   "cell_type": "markdown",
   "metadata": {
    "slideshow": {
     "slide_type": "subslide"
    }
   },
   "source": [
    "## Considerações:\n",
    "\n"
   ]
  },
  {
   "cell_type": "markdown",
   "metadata": {
    "slideshow": {
     "slide_type": "fragment"
    }
   },
   "source": [
    "- Tem diversas variáveis de modelo e diversas variáveis medidas.\n"
   ]
  },
  {
   "cell_type": "markdown",
   "metadata": {
    "slideshow": {
     "slide_type": "fragment"
    }
   },
   "source": [
    "- Essas variáveis podem ou não interferir no resultado uma da outra.\n"
   ]
  },
  {
   "cell_type": "markdown",
   "metadata": {
    "slideshow": {
     "slide_type": "fragment"
    }
   },
   "source": [
    "- A incerteza associada a essas variáveis podem ou não interferir no resultado uma da outra."
   ]
  },
  {
   "cell_type": "markdown",
   "metadata": {
    "slideshow": {
     "slide_type": "subslide"
    }
   },
   "source": [
    "Então agora vamos lidar com um conjunto de dados multidimensional. Cada variável de modelo é associada a sua própria média, assim como cada variável medida.:\n",
    "\n",
    "$\n",
    "\\vec{x} = \\begin{bmatrix}x_1\\\\x_2\\\\ \\vdots \\\\x_n\\end{bmatrix}  $ $\\vec{z} = \\begin{bmatrix}z_1\\\\z_2\\\\ \\vdots \\\\z_n\\end{bmatrix}$\n",
    "\n",
    "Note que agora o resultado do modelo $\\vec{x}$ e as medições $\\vec{z}$ são caracterizados como vetores."
   ]
  },
  {
   "cell_type": "markdown",
   "metadata": {
    "slideshow": {
     "slide_type": "subslide"
    }
   },
   "source": [
    "### **Covariância**\n"
   ]
  },
  {
   "cell_type": "markdown",
   "metadata": {
    "slideshow": {
     "slide_type": "fragment"
    }
   },
   "source": [
    "- Agora que consideramos diversas variáveis que podem depender uma das outras, é esperado que a imprecisão de uma afete outra. "
   ]
  },
  {
   "cell_type": "markdown",
   "metadata": {
    "slideshow": {
     "slide_type": "fragment"
    }
   },
   "source": [
    "\n",
    "- Na matriz de covariânica guardamos informação da relação de variância entre todas as variáveis."
   ]
  },
  {
   "cell_type": "markdown",
   "metadata": {
    "slideshow": {
     "slide_type": "fragment"
    }
   },
   "source": [
    "$$\n",
    "P = \\begin{bmatrix}\n",
    "  P_1^2 & P_{12} & \\cdots & P_{1n} \\\\\n",
    "  P_{21} & P_2^2 & \\cdots & P_{2n} \\\\\n",
    "  \\vdots  & \\vdots  & \\ddots & \\vdots  \\\\\n",
    "  P_{n1} & P_{n2} & \\cdots & P_n^2\n",
    " \\end{bmatrix}\n",
    "$$\n",
    "\n",
    "$$\n",
    "R = \\begin{bmatrix}\n",
    "  R_1^2 & R_{12} & \\cdots & R_{1n} \\\\\n",
    "  R_{21} & R_2^2 & \\cdots & R_{2n} \\\\\n",
    "  \\vdots  & \\vdots  & \\ddots & \\vdots  \\\\\n",
    "  R_{n1} & R_{n2} & \\cdots & R_n^2\n",
    " \\end{bmatrix}\n",
    "$$"
   ]
  },
  {
   "cell_type": "markdown",
   "metadata": {
    "slideshow": {
     "slide_type": "fragment"
    }
   },
   "source": [
    "- Cada elemento dessas matrizes simétricas $P$ e $R$ é uma covariância entre duas variáveis."
   ]
  },
  {
   "cell_type": "code",
   "execution_count": 12,
   "metadata": {
    "slideshow": {
     "slide_type": "subslide"
    }
   },
   "outputs": [
    {
     "data": {
      "application/vnd.jupyter.widget-view+json": {
       "model_id": "60ff273b9efb49c29745902eeee98335",
       "version_major": 2,
       "version_minor": 0
      },
      "text/plain": [
       "interactive(children=(FloatSlider(value=2.0, description='v_a', max=10.0, min=0.1), FloatSlider(value=2.0, des…"
      ]
     },
     "metadata": {},
     "output_type": "display_data"
    }
   ],
   "source": [
    "interact(interactive_covariance,\n",
    "         v_a = FloatSlider(value = 2, min = .1, max = 10),\n",
    "         v_b = FloatSlider(value = 2, min = .1, max = 10),\n",
    "         v_ab = FloatSlider(value = 0, min = -5, max = 5));"
   ]
  },
  {
   "cell_type": "markdown",
   "metadata": {
    "slideshow": {
     "slide_type": "subslide"
    }
   },
   "source": [
    "<center><img src=\"./fig/gaussiancomp.png\" style=\"width: 90%\">\n",
    "</center>"
   ]
  },
  {
   "cell_type": "code",
   "execution_count": 13,
   "metadata": {
    "slideshow": {
     "slide_type": "skip"
    }
   },
   "outputs": [],
   "source": [
    "interactive_covariance_multiply = interactive(plot_interactive_covariance_multiply,\n",
    "         x1 = FloatSlider(value = 2, min = .1, max = 10),\n",
    "         x2 = FloatSlider(value = 2, min = .1, max = 10),\n",
    "         x12 = FloatSlider(value = 0, min = 0, max = 5),\n",
    "         z1 = FloatSlider(value = 2, min = .1, max = 10),\n",
    "         z2 = FloatSlider(value = 2, min = .1, max = 10),\n",
    "         z12 = FloatSlider(value = 0, min = 0, max = 5));"
   ]
  },
  {
   "cell_type": "code",
   "execution_count": 14,
   "metadata": {
    "slideshow": {
     "slide_type": "subslide"
    }
   },
   "outputs": [
    {
     "data": {
      "application/vnd.jupyter.widget-view+json": {
       "model_id": "02a463a5f1334f49991fca62b7c13531",
       "version_major": 2,
       "version_minor": 0
      },
      "text/plain": [
       "interactive(children=(FloatSlider(value=2.0, description='x1', max=10.0, min=0.1), FloatSlider(value=2.0, desc…"
      ]
     },
     "metadata": {},
     "output_type": "display_data"
    }
   ],
   "source": [
    "interactive_covariance_multiply"
   ]
  },
  {
   "cell_type": "markdown",
   "metadata": {
    "slideshow": {
     "slide_type": "slide"
    }
   },
   "source": [
    "# Kalman Filter Multivariado"
   ]
  },
  {
   "cell_type": "markdown",
   "metadata": {
    "slideshow": {
     "slide_type": "fragment"
    }
   },
   "source": [
    "- **Gaussianas Unidimensionais** substituidas por **Gaussianas Multivariadas**."
   ]
  },
  {
   "cell_type": "markdown",
   "metadata": {
    "slideshow": {
     "slide_type": "subslide"
    }
   },
   "source": [
    "- Médias substituídas por **vetor de médias**.\n",
    "- Variâncias substituídas por **matrizes de covariâncias**.\n",
    "- Necessidade de adaptar as equações para operações vetor-matriz, utilizando a **álgebra linear**."
   ]
  },
  {
   "cell_type": "markdown",
   "metadata": {
    "slideshow": {
     "slide_type": "subslide"
    }
   },
   "source": [
    "## Kalman Filter Univariado VS Multivariado\n",
    "\n",
    "<center><img src=\"./fig/pred_update.png\" style=\"width: 70%\"></center>"
   ]
  },
  {
   "cell_type": "markdown",
   "metadata": {
    "slideshow": {
     "slide_type": "subslide"
    }
   },
   "source": [
    "# Variáveis\n",
    "\n",
    "<center><img src=\"./fig/variaveis.png\" style=\"width: \\linewidth\"></center>\n",
    "\n"
   ]
  },
  {
   "cell_type": "markdown",
   "metadata": {
    "slideshow": {
     "slide_type": "subslide"
    }
   },
   "source": [
    "# Matriz de Transição (F)\n",
    "\n",
    "- Recebe um estado e computa previsão para o estado seguinte.\n",
    "\n",
    "- Forma matricial de equações de diferenças!\n"
   ]
  },
  {
   "cell_type": "markdown",
   "metadata": {
    "slideshow": {
     "slide_type": "fragment"
    }
   },
   "source": [
    "# Função de Medições (H)\n",
    "\n",
    "- Compatilidade de unidades entre medições e variáveis de estado.\n",
    "\n",
    "- Exemplo: medição de temperatura.\n"
   ]
  },
  {
   "cell_type": "markdown",
   "metadata": {
    "slideshow": {
     "slide_type": "subslide"
    }
   },
   "source": [
    "# Variáveis de Controle (b,U)\n",
    "\n",
    "- u é a variável de controle.\n",
    "- B é a função de controle.\n",
    "- Ex. Aceleração."
   ]
  },
  {
   "cell_type": "markdown",
   "metadata": {
    "slideshow": {
     "slide_type": "subslide"
    }
   },
   "source": [
    "# Exemplo: Fazendas de Coelhos\n",
    "\n",
    "<center><img src=\"./fig/esquema.png\" style=\"width = 40%\"></center></center>\n"
   ]
  },
  {
   "cell_type": "markdown",
   "metadata": {
    "slideshow": {
     "slide_type": "subslide"
    }
   },
   "source": [
    "Vamos supor o seguinte modelo de equações de diferenças:\n",
    "\n",
    "$$x_{k+1} = 1.3x_k + 0.1y_k\\\\\n",
    "y_{k+1} = 0.2x_k + 1.4y_k $$\n",
    "\n"
   ]
  },
  {
   "cell_type": "markdown",
   "metadata": {
    "slideshow": {
     "slide_type": "fragment"
    }
   },
   "source": [
    "que, em forma matricial, pode ser escrito como\n",
    "\n",
    "$$\\left\\lbrack\\begin{array}{c}\n",
    "        x_{k+1}\\\\\n",
    "        y_{k+1}\n",
    "        \\end{array}\\right\\rbrack\n",
    "        = \\left\\lbrack\\begin{array}{cccc}\n",
    "        1.3 & 0.1 \\\\\n",
    "        0.2 & 1.4 \n",
    "        \\end{array}\\right\\rbrack\n",
    "        \\left\\lbrack\\begin{array}{c}\n",
    "        x_k\\\\\n",
    "        y_k\n",
    "        \\end{array}\\right\\rbrack.\n",
    "$$"
   ]
  },
  {
   "cell_type": "markdown",
   "metadata": {
    "slideshow": {
     "slide_type": "subslide"
    }
   },
   "source": [
    "Este será o nosso modelo, ou seja, nossa **matriz de transição**\n",
    "\n",
    "$$ F = \\left\\lbrack\\begin{array}{cccc}\n",
    "        1.3 & 0.1 \\\\\n",
    "        0.2 & 1.4 \n",
    "        \\end{array}\\right\\rbrack. $$"
   ]
  },
  {
   "cell_type": "markdown",
   "metadata": {
    "slideshow": {
     "slide_type": "subslide"
    }
   },
   "source": [
    "Vamos supor que temos sensores que medem diretamente o número de coelhos em cada fazenda."
   ]
  },
  {
   "cell_type": "markdown",
   "metadata": {
    "slideshow": {
     "slide_type": "fragment"
    }
   },
   "source": [
    "Assim, nossas **variáveis de estado** e **medições** tem a mesma unidade! Tomamos então \n",
    "\n",
    "$$ H = \\left\\lbrack\\begin{array}{cccc}\n",
    "        1 & 0 \\\\\n",
    "        0 & 1\n",
    "        \\end{array}\\right\\rbrack. $$"
   ]
  },
  {
   "cell_type": "markdown",
   "metadata": {
    "slideshow": {
     "slide_type": "subslide"
    }
   },
   "source": [
    "# Etapas\n",
    "\n",
    "Da mesma forma que o Kalman Filter Unidimensional, o caso multivariado se divide em três etapas: *inicialização, predict e update*. Vamos entender como cada um deles funciona."
   ]
  },
  {
   "cell_type": "markdown",
   "metadata": {
    "slideshow": {
     "slide_type": "subslide"
    }
   },
   "source": [
    "# *Inicialização*\n",
    "\n",
    "**Ideia:** Fornecer valor de estado inicial e matriz de covariância inicial."
   ]
  },
  {
   "cell_type": "markdown",
   "metadata": {
    "slideshow": {
     "slide_type": "subslide"
    }
   },
   "source": [
    "# *Predict Step*\n",
    "\n",
    "**Ideia:** usar o modelo fazer uma previsão sobre o estado do sistema no próximo intervalo de tempo e estimar o erro associado com essa previsão."
   ]
  },
  {
   "cell_type": "markdown",
   "metadata": {
    "slideshow": {
     "slide_type": "subslide"
    }
   },
   "source": [
    "## Passo 1\n",
    "\n",
    "Usar o modelo para computar o prior $$\\mathbf{\\bar x} = \\mathbf{Fx} + \\mathbf{Bu}.$$\n",
    "\n"
   ]
  },
  {
   "cell_type": "markdown",
   "metadata": {
    "slideshow": {
     "slide_type": "fragment"
    }
   },
   "source": [
    "## Passo 2\n",
    "\n",
    "Computar a matriz de covariância do prior $$\\mathbf{\\bar P} = \\mathbf{FPF}^\\mathsf T + \\mathbf Q. $$"
   ]
  },
  {
   "cell_type": "markdown",
   "metadata": {
    "slideshow": {
     "slide_type": "subslide"
    }
   },
   "source": [
    "<center><img src=\"./fig/pred_update.png\" style=\"width: 45%\"></center>"
   ]
  },
  {
   "cell_type": "markdown",
   "metadata": {
    "slideshow": {
     "slide_type": "subslide"
    }
   },
   "source": [
    "# Update Step\n",
    "\n",
    "**Ideia:** incorporar informações de medidas ao prior, de modo a obter estimativa final para o estado do sistema no próximo intervalo de tempo.\n",
    "\n",
    "\n"
   ]
  },
  {
   "cell_type": "markdown",
   "metadata": {
    "slideshow": {
     "slide_type": "subslide"
    }
   },
   "source": [
    "## Passo 1\n",
    "\n",
    "Obter uma medida $z$ e matriz de covariância $R$ associada a elas."
   ]
  },
  {
   "cell_type": "markdown",
   "metadata": {
    "slideshow": {
     "slide_type": "fragment"
    }
   },
   "source": [
    "\n",
    "## Passo 2\n",
    "\n",
    "Computar o residuo entre o pior e a medida $$\\mathbf y = \\mathbf z - \\mathbf{H\\bar{x}}.$$\n"
   ]
  },
  {
   "cell_type": "markdown",
   "metadata": {
    "slideshow": {
     "slide_type": "subslide"
    }
   },
   "source": [
    "## Passo 3\n",
    "\n",
    "Computar fator de escala baseado no que acreditamos ser mais acurado, nosso modelo ou medida \n",
    "\n",
    "$$\\mathbf K = \\frac{\\mathbf{\\bar{P}H}^\\mathsf T }{(\\mathbf{H\\bar{P}H}^\\mathsf T + \\mathbf R)} .$$\n"
   ]
  },
  {
   "cell_type": "markdown",
   "metadata": {
    "slideshow": {
     "slide_type": "fragment"
    }
   },
   "source": [
    "## Passo 4\n",
    "\n",
    "Usar o fator de escala para obter a estimativa final(posterior). \n",
    "\n",
    "$$x  = \\bar{\\mathbf x} + \\mathbf{Ky}$$"
   ]
  },
  {
   "cell_type": "markdown",
   "metadata": {
    "slideshow": {
     "slide_type": "subslide"
    }
   },
   "source": [
    "## Passo 5\n",
    "\n",
    "Combinar a matriz de covariância do prior e das medidas para calcular a matriz de covariância associada ao posterior\n",
    "\n",
    "$$\\mathbf P = (\\mathbf{I}-\\mathbf{KH})\\mathbf{\\bar P}.$$"
   ]
  },
  {
   "cell_type": "markdown",
   "metadata": {
    "slideshow": {
     "slide_type": "subslide"
    }
   },
   "source": [
    "<center><img src=\"./fig/pred_update.png\" style=\"width: 80%\"></center>"
   ]
  },
  {
   "cell_type": "markdown",
   "metadata": {
    "slideshow": {
     "slide_type": "subslide"
    }
   },
   "source": [
    "## Exemplo: Fazenda dos Coelhos"
   ]
  },
  {
   "cell_type": "markdown",
   "metadata": {
    "slideshow": {
     "slide_type": "fragment"
    }
   },
   "source": [
    "Vamos agora implementar o filtro para o exemplo dos coelhos. Lembre-se que tinhamos o sistema:\n",
    "\n",
    "$$\\left\\lbrack\\begin{array}{c}\n",
    "        x_{k+1}\\\\\n",
    "        y_{k+1}\n",
    "        \\end{array}\\right\\rbrack\n",
    "        = \\left\\lbrack\\begin{array}{cccc}\n",
    "        1.3 & 0.1 \\\\\n",
    "        0.2 & 1.4 \n",
    "        \\end{array}\\right\\rbrack\n",
    "        \\left\\lbrack\\begin{array}{c}\n",
    "        x_k\\\\\n",
    "        y_k\n",
    "        \\end{array}\\right\\rbrack.\n",
    "$$\n",
    "\n"
   ]
  },
  {
   "cell_type": "markdown",
   "metadata": {
    "slideshow": {
     "slide_type": "fragment"
    }
   },
   "source": [
    "E concluímos que\n",
    "\n",
    "\n",
    "$$ F = \\left\\lbrack\\begin{array}{cccc}\n",
    "        1.3 & 0.1 \\\\\n",
    "        0.2 & 1.4 \n",
    "        \\end{array}\\right\\rbrack ~~~~\\mathrm{e}~~~~\n",
    " H = \\left\\lbrack\\begin{array}{cccc}\n",
    "        1 & 0 \\\\\n",
    "        0 & 1\n",
    "        \\end{array}\\right\\rbrack. $$\n",
    "  "
   ]
  },
  {
   "cell_type": "markdown",
   "metadata": {
    "slideshow": {
     "slide_type": "subslide"
    }
   },
   "source": [
    "## Geração das Variáveis do Modelo"
   ]
  },
  {
   "cell_type": "code",
   "execution_count": 15,
   "metadata": {
    "slideshow": {
     "slide_type": "fragment"
    }
   },
   "outputs": [],
   "source": [
    "#Número inicial de coelhos em cada fazenda.\n",
    "x = np.array([10, 13])\n",
    "\n",
    "# Matriz de Covariância incial associada à estimativa de número de coelhos em cada fazenda.\n",
    "P = np.diag([1, 1])\n",
    "\n",
    "#Função de Transição\n",
    "F = np.array([[1.3, 0.1], [0.2, 1.4]])\n",
    "\n",
    "#Matriz de Covariância do Processo \n",
    "Q = cov_matrix(4, 4, -.95)\n",
    "\n",
    "#Measurement Function\n",
    "H = np.array([[1,0], [0,1]]) \n",
    "\n",
    "#Matriz de Covariância dos Sensores. Supomos que covariância é zero. Ou seja, um sensor não influencia no outro.\n",
    "R = np.array([[150,0], [0,150]])"
   ]
  },
  {
   "cell_type": "markdown",
   "metadata": {
    "slideshow": {
     "slide_type": "subslide"
    }
   },
   "source": [
    "## Geração das Observações e da Curva do Modelo"
   ]
  },
  {
   "cell_type": "code",
   "execution_count": 16,
   "metadata": {
    "slideshow": {
     "slide_type": "fragment"
    }
   },
   "outputs": [],
   "source": [
    "teo = []\n",
    "zs = []\n",
    "t0 = 0; tf = 11\n",
    "t = np.linspace(t0, tf, tf)\n",
    "\n",
    "for i in t:\n",
    "    q = np.random.multivariate_normal(mean = [0,0], cov = Q)\n",
    "    x = F @ x + q\n",
    "    teo.append(x.copy())\n",
    "\n",
    "    z = np.random.multivariate_normal(mean = [0,0], cov = R)\n",
    "    zs.append(x + z)\n",
    "\n",
    "teo = np.asarray(teo)\n",
    "zs = np.asarray(zs)"
   ]
  },
  {
   "cell_type": "markdown",
   "metadata": {
    "slideshow": {
     "slide_type": "subslide"
    }
   },
   "source": [
    "## Implementação do Kalman Filter Multivariado"
   ]
  },
  {
   "cell_type": "code",
   "execution_count": 17,
   "metadata": {
    "slideshow": {
     "slide_type": "fragment"
    }
   },
   "outputs": [],
   "source": [
    "# x inicial para o filtro de Kalman.\n",
    "x = np.array([zs[0,0], zs[0,1]]) \n",
    "\n",
    "\n",
    "\n",
    "n = len(zs) #número de observações\n",
    "pred, xs, cov = [], [], []\n",
    "for z in zs:\n",
    "    # predict\n",
    "    x = F @ x\n",
    "    P = F @ P @ F.T + Q\n",
    "    pred.append(x.copy())\n",
    "    \n",
    "    #update\n",
    "    S = H @ P @ H.T + R\n",
    "    K = P @ H.T @ inv(S)\n",
    "    y = z - H @ x\n",
    "    x += K @ y\n",
    "    P = P - K @ H @ P\n",
    "    \n",
    "    xs.append(x.copy())\n",
    "    cov.append(P.copy())\n",
    "\n",
    "pred, xs, cov = np.array(pred), np.array(xs), np.array(cov)"
   ]
  },
  {
   "cell_type": "code",
   "execution_count": 18,
   "metadata": {
    "slideshow": {
     "slide_type": "skip"
    }
   },
   "outputs": [],
   "source": [
    "def plot_coelhinhos(teo, zs, pred, xs, dono, ax):\n",
    "    #Plota os valor Estimados, Observações e Modeo\n",
    "\n",
    "    ax.plot(t,teo, '-.C4', label = ('Teorico. ' + dono))\n",
    "    ax.plot(t,zs, 'xC3', label = ('Observado (z). ' + dono))\n",
    "    ax.plot(t,pred, '.C2', label = ('Predito (Prior). ' + dono))\n",
    "    ax.plot(t,xs, 'C0', label = ('Estimado (Posterior). ' + dono))\n",
    "    ax.set_xlabel('Tempo')\n",
    "    ax.set_ylabel('Número de Coelhos')\n",
    "    ax.grid()\n",
    "    ax.legend()\n",
    "    "
   ]
  },
  {
   "cell_type": "code",
   "execution_count": 19,
   "metadata": {
    "slideshow": {
     "slide_type": "subslide"
    }
   },
   "outputs": [
    {
     "data": {
      "image/png": "[encoded data removed]",
      "text/plain": [
       "<Figure size 1080x432 with 2 Axes>"
      ]
     },
     "metadata": {
      "needs_background": "light"
     },
     "output_type": "display_data"
    }
   ],
   "source": [
    "fig = plt.figure(figsize = (15, 6))\n",
    "ax = plt.subplot(121)\n",
    "plot_coelhinhos(teo[:,0], zs[:,0], pred[:,0], xs[:,0], \"James\", ax)\n",
    "ax = plt.subplot(122)\n",
    "plot_coelhinhos(teo[:,1], zs[:,1], pred[:,1], xs[:,1], \"Mc Gregor\", ax)"
   ]
  },
  {
   "cell_type": "markdown",
   "metadata": {
    "slideshow": {
     "slide_type": "subslide"
    }
   },
   "source": [
    "## Alguns Outros Casos Possíveis"
   ]
  },
  {
   "cell_type": "markdown",
   "metadata": {
    "slideshow": {
     "slide_type": "subslide"
    }
   },
   "source": [
    "# CASO 2\n",
    "\n",
    "**Modelar (x):** número de coelhos em cada fazenda.\n",
    "\n",
    "**Medições (z):** número de coelhos na Fazenda do Jones.\n",
    "\n",
    "\n"
   ]
  },
  {
   "cell_type": "markdown",
   "metadata": {
    "slideshow": {
     "slide_type": "subslide"
    }
   },
   "source": [
    "$$\\textbf{y} = \\mathbf z - \\mathbf{H\\bar x}$$\n",
    "\n",
    "$$\n",
    "\\begin{aligned}\n",
    "\\begin{bmatrix}\\mathrm{Resíduo} \\end{bmatrix} &= \\begin{bmatrix}\\mathrm{Coelhos~Jones}\\end{bmatrix} - \\begin{bmatrix}?&?\\end{bmatrix} \\begin{bmatrix} \\mathrm{Coelhos~Jones}\\\\ \\mathrm{Coelhos~Mc~Gregor}\\end{bmatrix}\n",
    "\\end{aligned}\n",
    "$$\n",
    "\n"
   ]
  },
  {
   "cell_type": "markdown",
   "metadata": {
    "slideshow": {
     "slide_type": "fragment"
    }
   },
   "source": [
    "Note que $z$ é dado em Coelhos de Jones. Assim, o produto $H\\overline{x}$ deve também ter essa unidade. Assim, tomamos $H = \\begin{bmatrix}1&0\\end{bmatrix}$."
   ]
  },
  {
   "cell_type": "markdown",
   "metadata": {
    "slideshow": {
     "slide_type": "subslide"
    }
   },
   "source": [
    "### CASO 3\n",
    "\n",
    "**Modelar (x):** número de coelhos em cada fazenda.\n",
    "\n",
    "**Medições (z):** kg de ração consumido em cada fazenda."
   ]
  },
  {
   "cell_type": "markdown",
   "metadata": {
    "slideshow": {
     "slide_type": "subslide"
    }
   },
   "source": [
    "$$\\textbf{y} = \\mathbf z - \\mathbf{H\\bar x}$$\n",
    "\n",
    "$$\n",
    "\\begin{aligned}\n",
    "\\begin{bmatrix}\\mathrm{Resíduo} \\end{bmatrix} &= \\begin{bmatrix}\\mathrm{Kg~Ração~Jones}\\\\\\mathrm{Kg~Ração~Mc~Gregor}\\end{bmatrix} - \\begin{bmatrix}?&?\\\\?&?\\end{bmatrix} \\begin{bmatrix} \\mathrm{Coelhos~Jones}\\\\ \\mathrm{Coelhos~Mc~Gregor}\\end{bmatrix}\n",
    "\\end{aligned}\n",
    "$$\n",
    "\n"
   ]
  },
  {
   "cell_type": "markdown",
   "metadata": {
    "slideshow": {
     "slide_type": "fragment"
    }
   },
   "source": [
    "Vamos considerar que cada coelho come, teoricamente, $0.2kg$ de ração por dia na fazenda do Jones e $0.3kg$ de ração por dia na fazenda do Mc Gregor. Então, tomamos $H = \\begin{bmatrix}0.2&0\\\\0&0.3\\end{bmatrix}$."
   ]
  },
  {
   "cell_type": "markdown",
   "metadata": {
    "slideshow": {
     "slide_type": "subslide"
    }
   },
   "source": [
    "### CASO 4\n",
    "\n",
    "**Modelar (x):** número de coelhos em cada fazenda.\n",
    "**Medições (z):** kg de ração consumido na fazenda do Jones.\n",
    "\n"
   ]
  },
  {
   "cell_type": "markdown",
   "metadata": {
    "slideshow": {
     "slide_type": "subslide"
    }
   },
   "source": [
    "$$\n",
    "\\begin{aligned}\n",
    "\\textbf{y} &= \\mathbf z - \\mathbf{H\\bar x}  \\\\\n",
    "\\begin{bmatrix}\\mathrm{Resíduo} \\end{bmatrix} &= \\begin{bmatrix}\\mathrm{Kg~Ração~Jones}\\end{bmatrix} - \\begin{bmatrix}?&?\\end{bmatrix} \\begin{bmatrix} \\mathrm{Coelhos~Jones}\\\\ \\mathrm{Coelhos~Mc~Gregor}\\end{bmatrix}\n",
    "\\end{aligned}\n",
    "$$\n"
   ]
  },
  {
   "cell_type": "markdown",
   "metadata": {
    "slideshow": {
     "slide_type": "fragment"
    }
   },
   "source": [
    "\n",
    "Note que $z$ é dado em Coelhos de Jones. Assim, o produto $H\\overline{x}$ deve também ter essa unidade. Assim, tomamos $H = \\begin{bmatrix}0.2&0\\end{bmatrix}$.\n"
   ]
  },
  {
   "cell_type": "code",
   "execution_count": 20,
   "metadata": {
    "slideshow": {
     "slide_type": "skip"
    }
   },
   "outputs": [],
   "source": [
    "# %%HTML\n",
    "# <style>\n",
    "\n",
    "# .container {\n",
    "#     width: 85% !important;\n",
    "# }\n",
    "\n",
    "# .rendered_html {\n",
    "#   font-size: 0.73em;\n",
    "# }\n",
    "# .rendered_html table, .rendered_html th, .rendered_html tr, .rendered_html td {\n",
    "#      font-size: 100%;\n",
    "# }\n",
    "\n",
    "# # .CodeMirror {\n",
    "# #     font-size: 1em;\n",
    "# # #     width: 100vw;\n",
    "# # }\n",
    "\n",
    "# .prompt{\n",
    "#     display: None;\n",
    "# }\n",
    "\n",
    "# # .output {\n",
    "# #     align-items: center;\n",
    "# # }\n",
    "\n",
    "# div.output_subarea {\n",
    "#     max-width: 100%;\n",
    "# }\n",
    "\n",
    "# </style>"
   ]
  },
  {
   "cell_type": "markdown",
   "metadata": {
    "slideshow": {
     "slide_type": "skip"
    }
   },
   "source": [
    "%%HTML\n",
    "<style>\n",
    "\n",
    ".CodeMirror {\n",
    "    width: 100vw;\n",
    "}\n",
    "\n",
    ".container {\n",
    "    width: 85% !important;\n",
    "}\n",
    "\n",
    ".rendered_html {\n",
    "  font-size: 1.4vw;\n",
    "}\n",
    ".rendered_html table, .rendered_html th, .rendered_html tr, .rendered_html td {\n",
    "     font-size: 100%;\n",
    "}\n",
    "\n",
    ".CodeMirror {\n",
    "    font-size: 0.8vw;\n",
    "}\n",
    "\n",
    ".prompt{\n",
    "    display: None;\n",
    "}\n",
    "\n",
    "</style>"
   ]
  }
 ],
 "metadata": {
  "celltoolbar": "Slideshow",
  "kernelspec": {
   "display_name": "Python 3",
   "language": "python",
   "name": "python3"
  },
  "language_info": {
   "codemirror_mode": {
    "name": "ipython",
    "version": 3
   },
   "file_extension": ".py",
   "mimetype": "text/x-python",
   "name": "python",
   "nbconvert_exporter": "python",
   "pygments_lexer": "ipython3",
   "version": "3.7.3"
  },
  "toc": {
   "base_numbering": 1,
   "nav_menu": {},
   "number_sections": false,
   "sideBar": true,
   "skip_h1_title": false,
   "title_cell": "Table of Contents",
   "title_sidebar": "Contents",
   "toc_cell": false,
   "toc_position": {},
   "toc_section_display": true,
   "toc_window_display": false
  },
  "varInspector": {
   "cols": {
    "lenName": 16,
    "lenType": 16,
    "lenVar": 40
   },
   "kernels_config": {
    "python": {
     "delete_cmd_postfix": "",
     "delete_cmd_prefix": "del ",
     "library": "var_list.py",
     "varRefreshCmd": "print(var_dic_list())"
    },
    "r": {
     "delete_cmd_postfix": ") ",
     "delete_cmd_prefix": "rm(",
     "library": "var_list.r",
     "varRefreshCmd": "cat(var_dic_list()) "
    }
   },
   "types_to_exclude": [
    "module",
    "function",
    "builtin_function_or_method",
    "instance",
    "_Feature"
   ],
   "window_display": false
  }
 },
 "nbformat": 4,
 "nbformat_minor": 4
}
