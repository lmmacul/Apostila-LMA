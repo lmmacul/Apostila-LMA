{
 "cells": [
  {
   "cell_type": "code",
   "execution_count": 0,
   "metadata": {
    "collapsed": false
   },
   "outputs": [
   ],
   "source": [
    "\n"
   ]
  },
  {
   "cell_type": "code",
   "execution_count": 1,
   "metadata": {
    "collapsed": false,
    "slideshow": {
     "slide_type": "skip"
    }
   },
   "outputs": [
   ],
   "source": [
    "import numpy as np\n",
    "from collections import namedtuple\n",
    "from matplotlib import pyplot as plt \n",
    "from ipywidgets import interact, FloatSlider, IntSlider, fixed\n",
    "from filterpy.kalman import predict, update\n",
    "from filterpy.stats import plot_covariance\n",
    "from scipy.linalg import inv\n",
    "%run utils.py"
   ]
  },
  {
   "cell_type": "markdown",
   "metadata": {
    "collapsed": false,
    "slideshow": {
     "slide_type": "slide"
    }
   },
   "source": [
    "# Kalman Filter"
   ]
  },
  {
   "cell_type": "markdown",
   "metadata": {
    "collapsed": false,
    "slideshow": {
     "slide_type": "subslide"
    }
   },
   "source": [
    "## Introdução\n",
    "### Assimilação de Dados\n",
    "A idéia principal de assimilação de dados é combinar conhecimento teórico sobre um sistema em conjunto com dados observados.\n",
    "Um modelo matemático é uma das formas de representar o conhecimento teórico sobre o sistema. Em particular, modelos de sistemas dinâmicos são muito utilizados para realizar estimativas e projeções sobre um sistema. Entretanto, de forma geral, modelos matemáticos são aproximações da realidade, e por isso não representam perfeitamente toda a complexidade do sistema modelado.\n",
    "Por outro lado, dados coletados do ambiente real, seja manualmente ou por meio de sensores, podem aprensentar erros por conta de ruído. Por isso, dependendo da aplicação, podem não ser adequados.\n",
    "A correção dos modelos e de técnicas de coleta de dados para diminuição do erro é muitas vezes inviável, seja pela complexidade do sistema ou pelo alto custo e impraticidade de obtenção de dados.\n",
    "Algoritmos de assimilação de dados utilizam modelos matemáticos em conjunto com dados observados, obtendo uma estimativa com acurácia superior a ambos.\n",
    "\n",
    "- **Exemplo GPS**\n",
    "Tomando como exemplo o GPS de um carro. Se a acurácia do GPS for baixa, teremos uma estimativa de uma região onde o carro pode estar localizado. Entretanto, sabemos a região aproximada de onde o carro estava há 1 segundo atrás. Também sabemos o comportamento da posição do carro. Podemos representar este comportamento como um modelo matemático ($\\Delta S = S + v \\cdot t$). Se soubermos a velocidade, por meio do modelo podemos projetar a posição aproximada do carro. Portanto, temos duas fontes de informação para estimar a posição atual do carro. A posição projetada pelo modelo em função da posição anterior e da velocidade, e a posição informada pelo GPS. O trabalho do filtro é unir essas informações para melhorar a estimativa atual do carro.\n",
    "\n",
    "- **Distinto de machine learning**\n",
    "Vale apena observar que técnicas de assimilação são distintas de técnicas aprendizado de máquinas. Na assimilação de dados, possuímos a priori um modelo que representa o comportamento do sistema. Em aprendizado de máquinas, o modelo é criado exclusivamente em cima dos dados observados. Por isso, assimilação de dados requer uma quantidade muito menor de dados para obter bons resultados."
   ]
  },
  {
   "cell_type": "markdown",
   "metadata": {
    "collapsed": false
   },
   "source": [
    "<img src=\"./fig/data_assimilation.png\">"
   ]
  },
  {
   "cell_type": "markdown",
   "metadata": {
    "collapsed": false
   },
   "source": [
    "## Revisão de Estatística e Variáveis Normais\n"
   ]
  },
  {
   "cell_type": "markdown",
   "metadata": {
    "collapsed": false
   },
   "source": [
    " **Objetivo: Função Gaussiana**\n",
    "\n",
    "É comum utilizar funções gaussianas para representar incertezas no mundo real. Uma função de densidade de probabilidade gaussiana nos dá a previsão que uma estimativa (média) tem muito mais chande de estar certa do que de estar errada, mas ainda assim, a probabilidade de estar errada não é nula.\n",
    "\n",
    "\n",
    "Nosso objetivo utilizando o Kalman Filter é justamente descrever eventos como funções gaussianas. Ou seja, dado que haja uma previsão do que vai acontecer, também existe uma incerteza associada. Isso porque medições e modelos tem um viés.\n",
    "\n",
    "<img src=\"./fig/gausscurve.png\" style=\"width: 400px;\">\n",
    "\n",
    "**Função de Distribuição Gaussiana**\n",
    "\n",
    "A função Gaussiana é uma função de distribuição de probabilidade contínua que pode ser descrita através de dois parâmetros, uma média ($\\mu$) e uma variância ($\\sigma^2$). A função densidade de probabilidade dela é definida como:\n",
    "$$ \n",
    "f(x, \\mu, \\sigma) = \\frac{1}{\\sigma\\sqrt{2\\pi}} \\exp\\big [{-\\frac{(x-\\mu)^2}{2\\sigma^2} }\\big ]\n",
    "$$\n",
    "\n",
    "Usando funções gaussianas, existe a possibilidade de expressar distribuições de probabilidade para todos os valores através de apenas dois parâmetros. Quem são esses valores?\n",
    "\n",
    "- Média\n",
    "\n",
    "A média associada a uma função probabilidade é uma tendência de resultados de um evento evento a permanecerem ao redor de um evento médio. \"Em média\" os resultados de um evento estão próximos da média. Podemos considerar a média como uma previsão de um evento.\n",
    "\n",
    "- Variância\n",
    "\n",
    "A variância associada a uma função de probabildade é o quanto os resultados de um evento se distanciam da média. Quanto maior a variância, menos conhecemos do evento que estudamos e menos precisa é a previsão feita. Quanto menor a variância, mais conhecemos do evento que está sendo estudado e mais precisa é a previsão feita.\n",
    "\n",
    "Então, queremos associar uma variável aleatória (um evento ou fenômeno que não temos conhecimento sobre) a dois parâmetros. Podemos fazer isso utilizando a notação ${\\displaystyle X\\sim {N}(\\mu ,\\sigma ^{2}).}$ \n",
    "\n",
    "Na função Gaussiana, a probabilidade do evento obter um resultado próximo da média é muito maior do que um resultado longe da média (previsão). Por isso ela retrata tão bem fenômenos naturais.\n",
    "\n",
    "<img src=\"./fig/probgaussiana.png\" style=\"width: 500px;\">\n"
   ]
  },
  {
   "cell_type": "code",
   "execution_count": 2,
   "metadata": {
    "collapsed": false
   },
   "outputs": [
    {
     "data": {
      "application/vnd.jupyter.widget-view+json": {
       "model_id": "a408a3d1182142e49ea8555beb6c166c",
       "version_major": 2,
       "version_minor": 0
      },
      "text/plain": [
       "interactive(children=(FloatSlider(value=0.0, description='x_mean', max=8.0, min=-8.0), FloatSlider(value=0.6, …"
      ]
     },
     "execution_count": 2,
     "metadata": {
     },
     "output_type": "execute_result"
    }
   ],
   "source": [
    "interact(\n",
    "    plot_gaussian,\n",
    "    x_mean = FloatSlider(value = 0, min = -8, max = 8),\n",
    "    x_var = FloatSlider(value = 0.6, min = 0, max = 5),\n",
    ");"
   ]
  },
  {
   "cell_type": "markdown",
   "metadata": {
    "collapsed": false
   },
   "source": [
    "**Operações associadas a Gaussianas:**\n",
    "\n",
    "Para o Filtro de Kalman, vamos utilizar conceitos de operações entre funções Gaussianas de variáveis aleatórias **independentes**.\n",
    "\n",
    "- Soma \n",
    "\n",
    "Dado dois eventos independentes $\\displaystyle X$ e $\\displaystyle Y$, vamos considerá-los descritos por uma função de distribuição normal, associando cada um deles a uma média e uma variância: ${\\displaystyle X\\sim {N}(\\mu\n",
    "_1 ,\\sigma_1 ^{2})}$ e ${\\displaystyle Y\\sim {N}(\\mu_2 ,\\sigma_2 ^{2})}$. \n",
    "\n",
    "Se precisarmos realizar a soma do valor dessas variáveis, iremos obter um resultado que também carrega incertezas. A soma de duas gaussianas resulta em uma gaussiana com parâmetros:\n",
    "\n",
    "$$\\begin{gathered}\\mu = \\mu_1 + \\mu_2 \\\\\n",
    "\\sigma^2 = \\sigma^2_1 + \\sigma^2_2\n",
    "\\end{gathered}$$\n",
    "\n",
    "Essa operação pode ser provada através de convolução.\n"
   ]
  },
  {
   "cell_type": "code",
   "execution_count": 3,
   "metadata": {
    "collapsed": false
   },
   "outputs": [
    {
     "data": {
      "application/vnd.jupyter.widget-view+json": {
       "model_id": "6b67288fcfad4f84a77ad1bfedbffdcd",
       "version_major": 2,
       "version_minor": 0
      },
      "text/plain": [
       "interactive(children=(FloatSlider(value=0.0, description='x_mean', max=5.0), FloatSlider(value=0.6, descriptio…"
      ]
     },
     "execution_count": 3,
     "metadata": {
     },
     "output_type": "execute_result"
    }
   ],
   "source": [
    "interact(\n",
    "    plot_gaussian_sum,\n",
    "    x_mean = FloatSlider(value = 0, min = 0, max = 5),\n",
    "    x_var = FloatSlider(value = 0.6, min = .1, max = 3),\n",
    "    dx_mean = FloatSlider(value = .4, min = -1, max = 1),\n",
    "    dx_var = FloatSlider(value = 0.3, min = .1, max = 3)\n",
    ");"
   ]
  },
  {
   "cell_type": "markdown",
   "metadata": {
    "collapsed": false
   },
   "source": [
    "- Multiplicação\n",
    "\n",
    "Novamente, dado dois eventos independentes $\\displaystyle X$ e $\\displaystyle Y$, vamos considerá-los descritos por uma função de distribuição normal, associando cada um deles a uma média e uma variância: ${\\displaystyle X\\sim {N}(\\mu_1 ,\\sigma_1 ^{2})}$ e ${\\displaystyle Y\\sim {N}(\\mu_2 ,\\sigma_2 ^{2})}$. \n",
    "\n",
    "Se precisarmos multiplicar essas duas variáveis, esse resultado também carregará incertezas. A multiplicação de duas gaussianas resulta em uma gaussiana com parâmetros:\n",
    " \n",
    "$$\\begin{aligned}\\mu &amp;=\\frac{\\sigma_1^2\\mu_2 + \\sigma_2^2\\mu_1}{\\sigma_1^2+\\sigma_2^2}\\\\\n",
    "\\sigma^2 &amp;=\\frac{\\sigma_1^2\\sigma_2^2}{\\sigma_1^2+\\sigma_2^2} \n",
    "\\end{aligned}$$\n",
    "\n",
    "A gaussiana resultante da multiplicação de duas gaussianas independentes sempre terá variância menor do que as variâncias das gaussianas originais. Então, com essa operação você está diminuindo sua incerteza em relação a um novo evento. Para Análise de dados: quanto mais informações você tem sobre um determinado processo, menos incerteza de seu resultado. O Kalman Filter usa essa propriedade matemática de minimização de variância para garantir seus resultados.\n",
    "\n",
    "Essa operação provém da fórmula de Bayes."
   ]
  },
  {
   "cell_type": "code",
   "execution_count": 4,
   "metadata": {
    "collapsed": false
   },
   "outputs": [
    {
     "ename": "NameError",
     "evalue": "name 'plot_gaussian_multiply' is not defined",
     "output_type": "error",
     "traceback": [
      "\u001b[0;31m---------------------------------------------------------------------------\u001b[0m",
      "\u001b[0;31mNameError\u001b[0m                                 Traceback (most recent call last)",
      "\u001b[0;32m<ipython-input-4-b03568211313>\u001b[0m in \u001b[0;36m<module>\u001b[0;34m\u001b[0m\n\u001b[1;32m      1\u001b[0m interact(\n\u001b[0;32m----> 2\u001b[0;31m     \u001b[0mplot_gaussian_multiply\u001b[0m\u001b[0;34m,\u001b[0m\u001b[0;34m\u001b[0m\u001b[0;34m\u001b[0m\u001b[0m\n\u001b[0m\u001b[1;32m      3\u001b[0m     \u001b[0mx_mean\u001b[0m \u001b[0;34m=\u001b[0m \u001b[0mFloatSlider\u001b[0m\u001b[0;34m(\u001b[0m\u001b[0mvalue\u001b[0m \u001b[0;34m=\u001b[0m \u001b[0;34m-\u001b[0m\u001b[0;36m2.5\u001b[0m\u001b[0;34m,\u001b[0m \u001b[0mmin\u001b[0m \u001b[0;34m=\u001b[0m \u001b[0;34m-\u001b[0m\u001b[0;36m3\u001b[0m\u001b[0;34m,\u001b[0m \u001b[0mmax\u001b[0m \u001b[0;34m=\u001b[0m \u001b[0;36m3\u001b[0m\u001b[0;34m)\u001b[0m\u001b[0;34m,\u001b[0m\u001b[0;34m\u001b[0m\u001b[0;34m\u001b[0m\u001b[0m\n\u001b[1;32m      4\u001b[0m     \u001b[0mx_var\u001b[0m \u001b[0;34m=\u001b[0m \u001b[0mFloatSlider\u001b[0m\u001b[0;34m(\u001b[0m\u001b[0mvalue\u001b[0m \u001b[0;34m=\u001b[0m \u001b[0;36m0.6\u001b[0m\u001b[0;34m,\u001b[0m \u001b[0mmin\u001b[0m \u001b[0;34m=\u001b[0m \u001b[0;36m0\u001b[0m\u001b[0;34m,\u001b[0m \u001b[0mmax\u001b[0m \u001b[0;34m=\u001b[0m \u001b[0;36m3\u001b[0m\u001b[0;34m)\u001b[0m\u001b[0;34m,\u001b[0m\u001b[0;34m\u001b[0m\u001b[0;34m\u001b[0m\u001b[0m\n\u001b[1;32m      5\u001b[0m     \u001b[0mz_mean\u001b[0m \u001b[0;34m=\u001b[0m \u001b[0mFloatSlider\u001b[0m\u001b[0;34m(\u001b[0m\u001b[0mvalue\u001b[0m \u001b[0;34m=\u001b[0m \u001b[0;36m2.5\u001b[0m\u001b[0;34m,\u001b[0m \u001b[0mmin\u001b[0m \u001b[0;34m=\u001b[0m \u001b[0;36m0\u001b[0m\u001b[0;34m,\u001b[0m \u001b[0mmax\u001b[0m \u001b[0;34m=\u001b[0m \u001b[0;36m3\u001b[0m\u001b[0;34m)\u001b[0m\u001b[0;34m,\u001b[0m\u001b[0;34m\u001b[0m\u001b[0;34m\u001b[0m\u001b[0m\n",
      "\u001b[0;31mNameError\u001b[0m: name 'plot_gaussian_multiply' is not defined"
     ]
    }
   ],
   "source": [
    "interact(\n",
    "    plot_gaussian_multiply,\n",
    "    x_mean = FloatSlider(value = -2.5, min = -3, max = 3),\n",
    "    x_var = FloatSlider(value = 0.6, min = 0, max = 3),\n",
    "    z_mean = FloatSlider(value = 2.5, min = 0, max = 3),\n",
    "    z_var = FloatSlider(value = 1.1, min = 0, max = 3)\n",
    ");"
   ]
  },
  {
   "cell_type": "markdown",
   "metadata": {
    "collapsed": false
   },
   "source": [
    "## Kalman Filter\n"
   ]
  },
  {
   "cell_type": "markdown",
   "metadata": {
    "collapsed": false
   },
   "source": [
    "<img src=\"./fig/esquema_kf_1.jpg\" style=\"width: 30cm\">\n",
    "\n",
    "Ideia Geral:\n",
    "- Usar uma Gaussiana para representar nossa estimativa para o estado e erro associado a ela.\n",
    "- Usar uma Gaussiana para representar as medidas e os erros associados a ela (Ex. Erro de Sensores).\n",
    "- Usar uma Gaussiana para representar o modelo e o erro associado a ele (Ex. Efeitos físicos que não são contemplados pelo modelo).\n",
    "- Usar o modelo para fazer uma previsão para o próximo estado (Chamamos essa previsão de PRIOR).\n",
    "- Obter uma estimativa final para o estado como um valor entre a medida e o PRIOR (Chamamos essa estimativa final de POSTERIOR).\n"
   ]
  },
  {
   "cell_type": "markdown",
   "metadata": {
    "collapsed": false
   },
   "source": [
    "## Kalman Filter Unidimensional"
   ]
  },
  {
   "cell_type": "markdown",
   "metadata": {
    "collapsed": false
   },
   "source": [
    "<img src=\"./fig/gh_estimate3.png\" style=\"width: 15cm\">"
   ]
  },
  {
   "cell_type": "markdown",
   "metadata": {
    "collapsed": false
   },
   "source": [
    "#### Prediction\n",
    "Na predição, utilizamos o modelo matemático para prever o estado do proximo passo de tempo. O resultado da predição é chamado de ***Prior***.\n",
    "\n",
    "Para isso, somamos a gaussiana do estado do sistema com a gaussiana da variação do estado calculada pelo modelo.\n",
    "\n",
    "**Cálculo da média do *prior***\n",
    "$$\\mu = \\mu_1 + \\mu_2 \\quad \\to \\quad \\bar x = x + dx$$\n",
    "\n",
    "**Cálculo da variância do *prior***\n",
    "$$\\sigma^2 = \\sigma^2_1 + \\sigma^2_2 \\quad \\to \\quad \\bar \\sigma_x^2 = \\sigma_x^2 + \\sigma_{dx}^2$$\n",
    "\n",
    "Onde:\n",
    "\n",
    "- $x$ é a média do *posterior* no passo de tempo anterior;\n",
    "- $\\sigma_x^2$ é a variância do *posterior* no passo de tempo anterior;\n",
    "- $dx$ é o resultado do cálculo da derivada realizado pelo modelo;\n",
    "- $\\sigma_{dx}^2$ é a variância do modelo (e.g. a incerteza da predição)."
   ]
  },
  {
   "cell_type": "markdown",
   "metadata": {
    "collapsed": false
   },
   "source": [
    "#### Update\n",
    "No update, utilizamos a medida no novo passo de tempo para diminuir a incerteza da predição (*prior*). O resultado do update é chamado de ***Posterior***\n",
    "\n",
    "**Cálculo da média do *posterior***\n",
    "\n",
    "Podemos derivar a fórmula da média de uma 'multiplicação' de duas gaussianas independentes:\n",
    "$$\\mu=\\frac{\\bar\\sigma_x^2\\, \\mu_z + \\sigma_z^2 \\, \\bar x} {\\bar\\sigma_x^2 + \\sigma_z^2}$$\n",
    "\n",
    "$$\\mu = \\left( \\frac{\\bar\\sigma_x^2}{\\bar\\sigma_x^2 + \\sigma_z^2}\\right) \\mu_z + \\left(\\frac{\\sigma_z^2}{\\bar\\sigma_x^2 + \\sigma_z^2}\\right)\\bar x$$\n",
    "\n",
    "$$\\mu = W_1 \\mu_z + W_2 \\bar x \\quad \\to \\quad W_2 = (1 - W_1)$$\n",
    "\n",
    "$$\\begin{aligned}\n",
    "\\mu &= K \\mu_z + (1-K) \\bar x\\\\\n",
    "&= \\bar x + K(\\mu_z - \\bar x)\n",
    "\\end{aligned}$$\n",
    "\n",
    "Onde:\n",
    "- $\\bar x$ é a média do *prior*\n",
    "- $\\bar \\sigma_x^2$ é a variância do *prior*\n",
    "- $\\mu_z$ é o valor da medição\n",
    "- $\\sigma_z^2$ é a variância do sensor\n",
    "- K é uma proporção chamada de ***Kalman gain***\n",
    "\n",
    "**Cálculo da variância do *posterior***\n",
    "\n",
    "Também podemos expressar a variância em termos do *Kalman gain*\n",
    "\n",
    "$$\\begin{aligned}\n",
    "\\sigma^2 &= \\frac{\\bar\\sigma^2 \\sigma_z^2 } {\\bar\\sigma^2 + \\sigma_z^2} \\\\\n",
    "&= K\\sigma_z^2 \\\\\n",
    "&= (1-K)\\bar\\sigma^2 \n",
    "\\end{aligned}$$\n",
    "\n",
    "**Resumindo**\n",
    "\n",
    "Assim, o update pode ser escrito como:\n",
    "\n",
    "$$y = \\mu_z - \\bar x$$\n",
    "$$K = \\frac {\\bar\\sigma_x^2}{\\bar\\sigma_x^2 + \\sigma_z^2}$$\n",
    "$$\\mu = \\bar x + K y$$\n",
    "$$\\sigma^2 = (1-K)\\bar\\sigma^2$$\n"
   ]
  },
  {
   "cell_type": "markdown",
   "metadata": {
    "collapsed": false
   },
   "source": [
    "<img src=\"./fig/residual_chart.png\" style=\"width: 15cm\">"
   ]
  },
  {
   "cell_type": "markdown",
   "metadata": {
    "collapsed": false
   },
   "source": [
    "## Implementação Kalman Filter Univariado"
   ]
  },
  {
   "cell_type": "code",
   "execution_count": 5,
   "metadata": {
    "collapsed": false
   },
   "outputs": [
   ],
   "source": [
    "def predict(posterior, modelo):\n",
    "    x, P = posterior # Media e variancia do posterior no passo anterior\n",
    "    dx, Q = modelo # Media e variancia do modelo\n",
    "    x = x + dx\n",
    "    P = P + Q\n",
    "    return gaussian(x, P)"
   ]
  },
  {
   "cell_type": "code",
   "execution_count": 6,
   "metadata": {
    "collapsed": false
   },
   "outputs": [
   ],
   "source": [
    "def update(prior, measurement):\n",
    "    x, P = prior        # Media e variancia do prior\n",
    "    z, R = measurement  # Media e variancia do sensor\n",
    "    \n",
    "    y = z - x        # Residual\n",
    "    K = P / (P + R)  # Kalman gain\n",
    "\n",
    "    x = x + K*y      # Media do novo posterior\n",
    "    P = (1 - K) * P  # Variancia do novo posterior\n",
    "    return gaussian(x, P)"
   ]
  },
  {
   "cell_type": "markdown",
   "metadata": {
    "collapsed": false
   },
   "source": [
    "### Modelo movimento carro"
   ]
  },
  {
   "cell_type": "code",
   "execution_count": 7,
   "metadata": {
    "collapsed": false
   },
   "outputs": [
   ],
   "source": [
    "def movimento(t, dt, posicao, velocidade):\n",
    "    return velocidade * dt"
   ]
  },
  {
   "cell_type": "code",
   "execution_count": 8,
   "metadata": {
    "collapsed": false
   },
   "outputs": [
    {
     "data": {
      "image/png": "[encoded data removed]",
      "text/plain": [
       "<Figure size 720x432 with 1 Axes>"
      ]
     },
     "execution_count": 8,
     "metadata": {
      "image/png": {
       "height": 358,
       "width": 593
      }
     },
     "output_type": "execute_result"
    }
   ],
   "source": [
    "# Inicializacao\n",
    "posicao = 0\n",
    "velocidade = 5\n",
    "tf = 10\n",
    "dt = .5\n",
    "Q = 1 # Variancia do modelo\n",
    "R = 5 # Variancia do sensor\n",
    "\n",
    "pos_real = [posicao]\n",
    "zs = [posicao + np.random.normal(0, R)]\n",
    "\n",
    "for t in np.arange(0, tf, dt):\n",
    "    # Incrementa posicao\n",
    "    ruido_sistema = np.random.normal(0, Q)\n",
    "    posicao = posicao + movimento(t, dt, posicao, velocidade) + ruido_sistema\n",
    "    pos_real.append(posicao)\n",
    "    \n",
    "    # Acrescenta ruido do sensor\n",
    "    zs.append(posicao + np.random.normal(0, R))\n",
    "\n",
    "plt.figure(figsize=(10,6))\n",
    "plt.plot(pos_real)\n",
    "plt.plot(zs, 'xr', mew = 2, ms = 8)\n",
    "plt.grid()\n",
    "plt.legend([\"Posicao real\", \"Posicao medida\"]);"
   ]
  },
  {
   "cell_type": "markdown",
   "metadata": {
    "collapsed": false
   },
   "source": [
    "### Executando filtro de kalman"
   ]
  },
  {
   "cell_type": "code",
   "execution_count": 9,
   "metadata": {
    "collapsed": false,
    "slideshow": {
     "slide_type": "slide"
    }
   },
   "outputs": [
   ],
   "source": [
    "# Inicializacao\n",
    "# Para ilustrar o funcionamento do filtro,\n",
    "# a posição inicial (posterior[0]) recebe zs[0] + 50\n",
    "posterior = gaussian(zs[0]+50, R)\n",
    "predito = []\n",
    "estimado = []\n",
    "modelo = []\n",
    "for z in zs:\n",
    "    dx = movimento(t, dt, posterior.mean, velocidade)\n",
    "    \n",
    "    prior = predict(posterior, gaussian(dx, Q))\n",
    "    posterior = update(prior, gaussian(z, R))\n",
    "    \n",
    "    modelo.append(gaussian(dx, Q))\n",
    "    predito.append(prior)\n",
    "    estimado.append(posterior)"
   ]
  },
  {
   "cell_type": "code",
   "execution_count": 10,
   "metadata": {
    "collapsed": false,
    "scrolled": true
   },
   "outputs": [
    {
     "data": {
      "application/vnd.jupyter.widget-view+json": {
       "model_id": "446ca35d54924739a907427802dbefb2",
       "version_major": 2,
       "version_minor": 0
      },
      "text/plain": [
       "interactive(children=(IntSlider(value=1, description='step', max=76, min=1), Output()), _dom_classes=('widget-…"
      ]
     },
     "execution_count": 10,
     "metadata": {
     },
     "output_type": "execute_result"
    }
   ],
   "source": [
    "interact(\n",
    "    plot_kalman_steps, \n",
    "    step = IntSlider(1, 1, (int(tf/dt)-1)*4),\n",
    "    pos_real = fixed(pos_real),\n",
    "    modelo = fixed(modelo),\n",
    "    predito = fixed(predito),\n",
    "    estimado = fixed(estimado),\n",
    "    zs = fixed(zs),\n",
    "    R = fixed(R)\n",
    ");"
   ]
  },
  {
   "cell_type": "markdown",
   "metadata": {
    "collapsed": false
   },
   "source": [
    "## Gaussianas Multivariadas"
   ]
  },
  {
   "cell_type": "markdown",
   "metadata": {
    "collapsed": false
   },
   "source": [
    "**Objetivo: Função Gaussiana Multivariada**\n",
    "\n",
    "Para modelar problemas com diversas variáveis, queremos obter as propriedades matemáticas das gaussianas para sitemas com mais que uma variável. Em problemas do mundo real, eventos probabilísticos interagem entre si e alteram o resultado um do outro. Então é natural considerar Funções Gaussianas de múltiplas variáveis.\n",
    "\n",
    "Enquanto em uma dimensão tínhamos uma variável prevista pelo modelo e uma variável medida, agora temos diversas variáveis de modelo e diversas variáveis medidas, e elas podem ou não interferir no resultado uma da outra. Além disso, sua incerteza pode ou não interferir no resultado uma da outra.\n",
    "\n",
    "Então agora vamos lidar com um conjunto de dados multidimensional. Cada variável de modelo é associada a sua própria média, assim como cada variável medida.:\n",
    "\n",
    "$\n",
    "\\vec{x} = \\begin{bmatrix}x_1\\\\x_2\\\\ \\vdots \\\\x_n\\end{bmatrix}  $ $\\vec{z} = \\begin{bmatrix}z_1\\\\z_2\\\\ \\vdots \\\\z_n\\end{bmatrix}$\n",
    "\n",
    "Note que agora o resultado do modelo $\\vec{x}$ e as medições $\\vec{z}$ são caracterizados como vetores.\n",
    "\n",
    "**Covariância**\n",
    "\n",
    "Agora que consideramos diversas variáveis que podem depender uma das outras, é esperado que a imprecisão de um resultado também afete o outro. Por isso agora iremos considerar uma matriz de covariância, onde guardamos informação da relação de variância entre todas as incógnitas.\n",
    "\n",
    "$$\n",
    "P = \\begin{bmatrix}\n",
    "  P_1^2 &amp; P_{12} &amp; \\cdots &amp; P_{1n} \\\\\n",
    "  P_{21} &amp;P_2^2 &amp; \\cdots &amp; P_{2n} \\\\\n",
    "  \\vdots  &amp; \\vdots  &amp; \\ddots &amp; \\vdots  \\\\\n",
    "  P_{n1} &amp; P_{n2} &amp; \\cdots &amp; P_n^2\n",
    " \\end{bmatrix}\n",
    "$$\n",
    "$$\n",
    "R = \\begin{bmatrix}\n",
    "  R_1^2 &amp; R_{12} &amp; \\cdots &amp; R_{1n} \\\\\n",
    "  R_{21} &amp;R_2^2 &amp; \\cdots &amp; R_{2n} \\\\\n",
    "  \\vdots  &amp; \\vdots  &amp; \\ddots &amp; \\vdots  \\\\\n",
    "  R_{n1} &amp; R_{n2} &amp; \\cdots &amp; R_n^2\n",
    " \\end{bmatrix}\n",
    "$$\n",
    "\n",
    "Note que as incertezas $P$ e $R$ associadas ao modelo e às medições são representadas matematicamente por matrizes. Cada elemento dessas matrizes simétricas é uma covariância entre duas variáveis.\n"
   ]
  },
  {
   "cell_type": "code",
   "execution_count": 11,
   "metadata": {
    "collapsed": false
   },
   "outputs": [
    {
     "data": {
      "application/vnd.jupyter.widget-view+json": {
       "model_id": "3d26bbaeb4424a2d9d49db3baec86c76",
       "version_major": 2,
       "version_minor": 0
      },
      "text/plain": [
       "interactive(children=(FloatSlider(value=2.0, description='v_a', max=10.0, min=0.1), FloatSlider(value=2.0, des…"
      ]
     },
     "execution_count": 11,
     "metadata": {
     },
     "output_type": "execute_result"
    }
   ],
   "source": [
    "interact(\n",
    "    interactive_covariance,\n",
    "    v_a = FloatSlider(value = 2, min = .1, max = 10),\n",
    "    v_b = FloatSlider(value = 2, min = .1, max = 10),\n",
    "    v_ab = FloatSlider(value = 0, min = 0, max = 5)\n",
    ");"
   ]
  },
  {
   "cell_type": "code",
   "execution_count": 12,
   "metadata": {
    "collapsed": false
   },
   "outputs": [
    {
     "ename": "NameError",
     "evalue": "name 'interactive_covariance_multiply' is not defined",
     "output_type": "error",
     "traceback": [
      "\u001b[0;31m---------------------------------------------------------------------------\u001b[0m",
      "\u001b[0;31mNameError\u001b[0m                                 Traceback (most recent call last)",
      "\u001b[0;32m<ipython-input-12-c6b800bfac0b>\u001b[0m in \u001b[0;36m<module>\u001b[0;34m\u001b[0m\n\u001b[1;32m      1\u001b[0m interact(\n\u001b[0;32m----> 2\u001b[0;31m     \u001b[0minteractive_covariance_multiply\u001b[0m\u001b[0;34m,\u001b[0m\u001b[0;34m\u001b[0m\u001b[0;34m\u001b[0m\u001b[0m\n\u001b[0m\u001b[1;32m      3\u001b[0m     \u001b[0mx1\u001b[0m \u001b[0;34m=\u001b[0m \u001b[0mFloatSlider\u001b[0m\u001b[0;34m(\u001b[0m\u001b[0mvalue\u001b[0m \u001b[0;34m=\u001b[0m \u001b[0;36m2\u001b[0m\u001b[0;34m,\u001b[0m \u001b[0mmin\u001b[0m \u001b[0;34m=\u001b[0m \u001b[0;36m.1\u001b[0m\u001b[0;34m,\u001b[0m \u001b[0mmax\u001b[0m \u001b[0;34m=\u001b[0m \u001b[0;36m10\u001b[0m\u001b[0;34m)\u001b[0m\u001b[0;34m,\u001b[0m\u001b[0;34m\u001b[0m\u001b[0;34m\u001b[0m\u001b[0m\n\u001b[1;32m      4\u001b[0m     \u001b[0mx2\u001b[0m \u001b[0;34m=\u001b[0m \u001b[0mFloatSlider\u001b[0m\u001b[0;34m(\u001b[0m\u001b[0mvalue\u001b[0m \u001b[0;34m=\u001b[0m \u001b[0;36m2\u001b[0m\u001b[0;34m,\u001b[0m \u001b[0mmin\u001b[0m \u001b[0;34m=\u001b[0m \u001b[0;36m.1\u001b[0m\u001b[0;34m,\u001b[0m \u001b[0mmax\u001b[0m \u001b[0;34m=\u001b[0m \u001b[0;36m10\u001b[0m\u001b[0;34m)\u001b[0m\u001b[0;34m,\u001b[0m\u001b[0;34m\u001b[0m\u001b[0;34m\u001b[0m\u001b[0m\n\u001b[1;32m      5\u001b[0m     \u001b[0mx12\u001b[0m \u001b[0;34m=\u001b[0m \u001b[0mFloatSlider\u001b[0m\u001b[0;34m(\u001b[0m\u001b[0mvalue\u001b[0m \u001b[0;34m=\u001b[0m \u001b[0;36m0\u001b[0m\u001b[0;34m,\u001b[0m \u001b[0mmin\u001b[0m \u001b[0;34m=\u001b[0m \u001b[0;36m0\u001b[0m\u001b[0;34m,\u001b[0m \u001b[0mmax\u001b[0m \u001b[0;34m=\u001b[0m \u001b[0;36m5\u001b[0m\u001b[0;34m)\u001b[0m\u001b[0;34m,\u001b[0m\u001b[0;34m\u001b[0m\u001b[0;34m\u001b[0m\u001b[0m\n",
      "\u001b[0;31mNameError\u001b[0m: name 'interactive_covariance_multiply' is not defined"
     ]
    }
   ],
   "source": [
    "interact(\n",
    "    interactive_covariance_multiply,\n",
    "    x1 = FloatSlider(value = 2, min = .1, max = 10),\n",
    "    x2 = FloatSlider(value = 2, min = .1, max = 10),\n",
    "    x12 = FloatSlider(value = 0, min = 0, max = 5),\n",
    "    z1 = FloatSlider(value = 2, min = .1, max = 10),\n",
    "    z2 = FloatSlider(value = 2, min = .1, max = 10),\n",
    "    z12 = FloatSlider(value = 0, min = 0, max = 5)    \n",
    ");"
   ]
  },
  {
   "cell_type": "markdown",
   "metadata": {
    "collapsed": false
   },
   "source": [
    "<img src=\"./fig/gaussiancomp.png\" style=\"width: 15cm\">\n",
    "\n",
    "\n"
   ]
  },
  {
   "cell_type": "markdown",
   "metadata": {
    "collapsed": false
   },
   "source": [
    "## Kalman Filter Multivariado"
   ]
  },
  {
   "cell_type": "markdown",
   "metadata": {
    "collapsed": false
   },
   "source": [
    "Muitas vezes estamos interessados em sistemas que não são descritos por uma, mas sim por várias variáveis de estado e que existem diversos sensores tomando medidas. Nesses casos, é necessário trabalhar com a versão multivariada do Kalman Filter, que se baseia na teoria de **Gaussianas Multivariadas.**\n",
    "\n",
    "Isso implica que a *média* e *variância* utilizados no Kalman Filter Unidimensional serão substituídos por um *vetor de médias* e uma *matriz de covariância*. Por consequência, as operações ralizadas no Kalman Fiter Unidimensional terão que ser adaptadas para operações com matrizes e vetores, usando **álgebra linear**.\n"
   ]
  },
  {
   "cell_type": "markdown",
   "metadata": {
    "collapsed": false
   },
   "source": [
    "### Kalman Filter Univariado VS Multivariado\n",
    "\n",
    "<img src=\"./fig/esquema_kf.png\" style=\"width: 15cm\">\n",
    "\n",
    "Como podemos ver no esquema, os dois algoritmos são analagos. No entanto, no caso multivariado há o acrescimo de algumas variáveis."
   ]
  },
  {
   "cell_type": "markdown",
   "metadata": {
    "collapsed": false
   },
   "source": [
    "### Variáveis\n",
    "\n",
    "Na figura abaixo, são apresentadas as variáveis envolvidas no Kalman Filter Unidimensional e Multivariado. As variáveis de estado, medidas e modelo estão presentes em ambos. Para estas variáveis, as respectivas versões são apresentadas lado a lado. Já a função de medidas e as variáveis de controle são excluisvas do Filtro Multivariado. \n",
    "\n",
    "<img src=\"./fig/variaveis.png\" style=\"width: 15cm\">\n",
    "\n",
    "\n",
    "- $(x,P)$ é o par que representa as variáveis de estado e a matriz de covariância associada.\n",
    "- $(F,Q)$ é o par que representa o modelo e a matriz de covariância associada. \n",
    "\n",
    "A matriz $F$ é chamada de **matriz de transição** (transition matrix). A ideia é que essa matriz receba um estado e compute uma previsão para o estado seguinte (forma matricial de equações de diferenças!). \n",
    "\n",
    "- $(z,R)$ é o par que representa as medidas realizadas e a matriz de covariância associada.\n",
    "- $H$ é a **função de medições** (measurement function).\n",
    "\n",
    "Em muitos casos, as variáveis que estamos interessados em estimar não correspondem à variáveis cujos sensores realizam medições. Um exemplo em que isso acontece é quando estamos interessados em modelar a temperatura em certo ambiente, mas possuímos um termometro que retorna medições de voltagem. Nesse caso, antes de incorporar as medições ao modelo, elas devem ser adaptadas para terem a mesma unidade. No caso multidimensional, essa \"correção\" é realizada pela função de medições.\n",
    "\n",
    "- $u$ é a variável de controle e $B$ é a função de controle (*opcionais*).\n",
    "\n"
   ]
  },
  {
   "cell_type": "markdown",
   "metadata": {
    "collapsed": false
   },
   "source": [
    "## Etapas\n",
    "\n",
    "Da mesma forma que o Kalman Filter Unidimensional, o caso multivariado se divide em três etapas: *inicialização, predict e update*. Vamos entender como cada um deles funciona."
   ]
  },
  {
   "cell_type": "markdown",
   "metadata": {
    "collapsed": false
   },
   "source": [
    "### *Inicialização*\n",
    "\n",
    "**Ideia:** Fornecer valor de estado inicial e matriz de covariância inicial.\n"
   ]
  },
  {
   "cell_type": "markdown",
   "metadata": {
    "collapsed": false
   },
   "source": [
    "### *Predict Step*\n",
    "\n",
    "**Ideia:** usar o modelo fazer uma previsão sobre o estado do sistema no próximo intervalo de tempo e estimar o erro associado com essa previsão.\n",
    "\n",
    "1. Usar o modelo para computar o prior $$\\mathbf{\\bar x} = \\mathbf{Fx} + \\mathbf{Bu}.$$"
   ]
  },
  {
   "cell_type": "markdown",
   "metadata": {
    "collapsed": false
   },
   "source": [
    "2. Computar a matriz de covariância do prior $$\\mathbf{\\bar P} = \\mathbf{FPF}^\\mathsf T + \\mathbf Q. $$\n",
    "\n",
    "Esta equação computa a matriz de covariância do prior com base na matriz de covariância do tempo anterior. Intuitivamente, erro do prior seria o erro que já tinhamos somado do erro que o modelo acrescenta, ou seja, $\\overline{P} = P + Q$. Na prática, é exatamente isso que esta equação faz. A matriz $F$ aparece no termo $\\mathbf{FPF}^\\mathsf T$ para projetar a matriz $P$ no espaço da função $F$. Depois que isso é feito, os erros podem ser somados normalmente. "
   ]
  },
  {
   "cell_type": "markdown",
   "metadata": {
    "collapsed": false
   },
   "source": [
    "### *Update Step*\n",
    "\n",
    "**Ideia:** incorporar informações de medidas ao prior, de modo a obter estimativa final para o estado do sistema no próximo intervalo de tempo.\n",
    "\n",
    "1. Obter uma medida $z$ e matriz de covariância $R$ associada a elas.\n",
    "2. Computar o residuo entre o pior e a medida $$\\mathbf y = \\mathbf z - \\mathbf{H\\bar{x}}.$$\n",
    "\n",
    "Esta equação implica que estamos tomando o prior, convertendo o para o espaço de medições e utilizando o resultado para computar o resíduo. Isso significa que o resíduo possui unidade igual à da medição.\n",
    "\n",
    "3. Computar fator de escala baseado no que acreditamos ser mais acurado, nosso modelo ou medida $$\\mathbf K = \\frac{\\mathbf{\\bar{P}H}^\\mathsf T }{(\\mathbf{H\\bar{P}H}^\\mathsf T + \\mathbf R)} .$$\n",
    "\n",
    "Lembramos da versão Univariada que o Kalman Gain é um fator que determina quão próximo do prior e da medição que o posterior estará. Ele era computado como a proporção da variância do prior em relação à variância total. É  exatamente isso que fazemos no caso multivariado, porém precisamos \"corrigir\" as unidades. O termo $\\mathbf{\\bar{P}H}^\\mathsf T$ toma a matriz de covariância do prior e a converte para unidades de medição, enquanto o termo $(\\mathbf{H\\bar{P}H}^\\mathsf T + \\mathbf R)$ projeta a covariância do prior no espaço das medições e o soma com a covariância das medições.\n",
    "\n",
    "4. Usar o fator de escala para obter a estimativa final(posterior). O valor estará entre o prior e a medida.\n",
    "$$x  = \\bar{\\mathbf x} + \\mathbf{Ky}$$\n",
    "\n",
    "Note que $y$ tem unidade igual à medição. Com isso, podemos concluir que o \"incremento\" esta sendo decidido apenas com base na variável que foi medida. Isso faz sentido, já que sabemos que o Kalman Gain é uma constante que relaciona medições com previsões. Ainda assim, esse \"incremento\" é utilizado para todas as variáveis, mesmo aquelas que não possuem medições associadas.\n",
    "\n",
    "5. Combinar a matriz de covariância do prior e das medidas para calcular a matriz de covariância associada ao posterior.\n",
    "$$\\mathbf P = (\\mathbf{I}-\\mathbf{KH})\\mathbf{\\bar P}.$$"
   ]
  },
  {
   "cell_type": "markdown",
   "metadata": {
    "collapsed": false
   },
   "source": [
    "## Implementação Kalman Filter Multivariado"
   ]
  },
  {
   "cell_type": "markdown",
   "metadata": {
    "collapsed": false
   },
   "source": [
    "## Exemplo: Fazenda de Coelhos 🐰\n",
    "\n",
    "Vamos supor que temos duas fazendas com criação de coelhos.\n",
    "\n",
    "<img src=\"./fig/esquema.png\" style=\"width = 5cm\">\n",
    "\n",
    "Vamos supor o seguinte modelo de equações de diferenças:\n",
    "\n",
    "$$x_{k+1} = 1.3x + 0.1y\\\\\n",
    "y_{k+1} = 0.2x + 1.4y $$\n",
    "\n",
    "que, em forma matricial, pode ser escrito como\n",
    "\n",
    "$$\\left\\lbrack\\begin{array}{c}\n",
    "        x_{k+1}\\\\\n",
    "        y_{k+1}\n",
    "        \\end{array}\\right\\rbrack\n",
    "        = \\left\\lbrack\\begin{array}{cccc}\n",
    "        1.3 & 0.1 \\\\\n",
    "        0.2 & 1.4 \n",
    "        \\end{array}\\right\\rbrack\n",
    "        \\left\\lbrack\\begin{array}{c}\n",
    "        x_k\\\\\n",
    "        y_k\n",
    "        \\end{array}\\right\\rbrack.\n",
    "$$\n",
    "\n",
    "Este será o nosso modelo, ou seja,  $$ F = \\left\\lbrack\\begin{array}{cccc}\n",
    "        1.3 & 0.1 \\\\\n",
    "        0.2 & 1.4 \n",
    "        \\end{array}\\right\\rbrack. $$"
   ]
  },
  {
   "cell_type": "markdown",
   "metadata": {
    "collapsed": false
   },
   "source": [
    "A construção da matriz $H$ depende de quais variáveis possuímos medições. Vamos inicialmente avaliar o caso mais simples, em que existe um sensor em cada fazenda que mede diretamente o número de coelhos. Em seguida, veremos quais adaptações seriam necessárias quando outras medições são feitas."
   ]
  },
  {
   "cell_type": "markdown",
   "metadata": {
    "collapsed": false
   },
   "source": [
    "### CASO 1\n",
    "\n",
    "**Modelar:** número de coelhos em cada fazenda.\n",
    "**Medições:** número de coelhos em cada fazenda.\n",
    "\n",
    "$$\n",
    "\\begin{aligned}\n",
    "\\textbf{y} &= \\mathbf z - \\mathbf{H\\bar x}  \\\\\n",
    "\\begin{bmatrix}\\mathrm{Resíduo} \\end{bmatrix} &= \\begin{bmatrix}\\mathrm{Coelhos~Jones}\\\\\\mathrm{Coelhos~Mc~Gregor}\\end{bmatrix} - \\begin{bmatrix}?&?\\\\?&?\\end{bmatrix} \\begin{bmatrix} \\mathrm{Coelhos~Jones}\\\\ \\mathrm{Coelhos~Mc~Gregor}\\end{bmatrix}\n",
    "\\end{aligned}\n",
    "$$\n",
    "\n",
    "Para ter equivalência de unidades, tomamos $H = \\begin{bmatrix}1&0\\\\0&1\\end{bmatrix}$."
   ]
  },
  {
   "cell_type": "markdown",
   "metadata": {
    "collapsed": false
   },
   "source": [
    "## Geração das Variáveis do Modelo"
   ]
  },
  {
   "cell_type": "code",
   "execution_count": 13,
   "metadata": {
    "collapsed": false
   },
   "outputs": [
    {
     "ename": "NameError",
     "evalue": "name 'cov_matrix' is not defined",
     "output_type": "error",
     "traceback": [
      "\u001b[0;31m---------------------------------------------------------------------------\u001b[0m",
      "\u001b[0;31mNameError\u001b[0m                                 Traceback (most recent call last)",
      "\u001b[0;32m<ipython-input-13-8ad57313e30b>\u001b[0m in \u001b[0;36m<module>\u001b[0;34m\u001b[0m\n\u001b[1;32m      3\u001b[0m \u001b[0;34m\u001b[0m\u001b[0m\n\u001b[1;32m      4\u001b[0m \u001b[0;31m#Matriz de Covariância do Processo\u001b[0m\u001b[0;34m\u001b[0m\u001b[0;34m\u001b[0m\u001b[0;34m\u001b[0m\u001b[0m\n\u001b[0;32m----> 5\u001b[0;31m \u001b[0mQ\u001b[0m \u001b[0;34m=\u001b[0m \u001b[0mcov_matrix\u001b[0m\u001b[0;34m(\u001b[0m\u001b[0;36m4\u001b[0m\u001b[0;34m,\u001b[0m \u001b[0;36m4\u001b[0m\u001b[0;34m,\u001b[0m \u001b[0;34m-\u001b[0m\u001b[0;36m.95\u001b[0m\u001b[0;34m)\u001b[0m\u001b[0;34m\u001b[0m\u001b[0;34m\u001b[0m\u001b[0m\n\u001b[0m\u001b[1;32m      6\u001b[0m \u001b[0;34m\u001b[0m\u001b[0m\n\u001b[1;32m      7\u001b[0m \u001b[0;31m#Matriz de Covariância dos Sensores. Supomos que covariância é zero. Ou seja, um sensor não influencia no outro.\u001b[0m\u001b[0;34m\u001b[0m\u001b[0;34m\u001b[0m\u001b[0;34m\u001b[0m\u001b[0m\n",
      "\u001b[0;31mNameError\u001b[0m: name 'cov_matrix' is not defined"
     ]
    }
   ],
   "source": [
    "#Função de Transição\n",
    "F = np.array([[1.3, 0.1], [0.2, 1.4]]) \n",
    "\n",
    "#Matriz de Covariância do Processo \n",
    "Q = cov_matrix(4, 4, -.95)\n",
    "\n",
    "#Matriz de Covariância dos Sensores. Supomos que covariância é zero. Ou seja, um sensor não influencia no outro.\n",
    "R = np.array([[150,0], [0,150]]) \n",
    "\n",
    "#Measurement Function\n",
    "H = np.array([[1,0], [0,1]])"
   ]
  },
  {
   "cell_type": "markdown",
   "metadata": {
    "collapsed": false
   },
   "source": [
    "## Geração das Observações e da Curva do Modelo"
   ]
  },
  {
   "cell_type": "code",
   "execution_count": 14,
   "metadata": {
    "collapsed": false
   },
   "outputs": [
    {
     "ename": "ValueError",
     "evalue": "cov must be 2 dimensional and square",
     "output_type": "error",
     "traceback": [
      "\u001b[0;31m---------------------------------------------------------------------------\u001b[0m",
      "\u001b[0;31mValueError\u001b[0m                                Traceback (most recent call last)",
      "\u001b[0;32m<ipython-input-14-4f813b49851c>\u001b[0m in \u001b[0;36m<module>\u001b[0;34m\u001b[0m\n\u001b[1;32m      9\u001b[0m \u001b[0;31m#Gera curva do modelo com erro (curva teórica)\u001b[0m\u001b[0;34m\u001b[0m\u001b[0;34m\u001b[0m\u001b[0;34m\u001b[0m\u001b[0m\n\u001b[1;32m     10\u001b[0m \u001b[0;32mfor\u001b[0m \u001b[0mi\u001b[0m \u001b[0;32min\u001b[0m \u001b[0mt\u001b[0m\u001b[0;34m:\u001b[0m\u001b[0;34m\u001b[0m\u001b[0;34m\u001b[0m\u001b[0m\n\u001b[0;32m---> 11\u001b[0;31m     \u001b[0mq\u001b[0m \u001b[0;34m=\u001b[0m \u001b[0mnp\u001b[0m\u001b[0;34m.\u001b[0m\u001b[0mrandom\u001b[0m\u001b[0;34m.\u001b[0m\u001b[0mmultivariate_normal\u001b[0m\u001b[0;34m(\u001b[0m\u001b[0mmean\u001b[0m \u001b[0;34m=\u001b[0m \u001b[0;34m[\u001b[0m\u001b[0;36m0\u001b[0m\u001b[0;34m,\u001b[0m\u001b[0;36m0\u001b[0m\u001b[0;34m]\u001b[0m\u001b[0;34m,\u001b[0m \u001b[0mcov\u001b[0m \u001b[0;34m=\u001b[0m \u001b[0mQ\u001b[0m\u001b[0;34m)\u001b[0m\u001b[0;34m\u001b[0m\u001b[0;34m\u001b[0m\u001b[0m\n\u001b[0m\u001b[1;32m     12\u001b[0m     \u001b[0mx\u001b[0m \u001b[0;34m=\u001b[0m \u001b[0mF\u001b[0m \u001b[0;34m@\u001b[0m \u001b[0mx\u001b[0m \u001b[0;34m+\u001b[0m \u001b[0mq\u001b[0m\u001b[0;34m\u001b[0m\u001b[0;34m\u001b[0m\u001b[0m\n\u001b[1;32m     13\u001b[0m     \u001b[0mteo\u001b[0m\u001b[0;34m.\u001b[0m\u001b[0mappend\u001b[0m\u001b[0;34m(\u001b[0m\u001b[0mx\u001b[0m\u001b[0;34m.\u001b[0m\u001b[0mcopy\u001b[0m\u001b[0;34m(\u001b[0m\u001b[0;34m)\u001b[0m\u001b[0;34m)\u001b[0m\u001b[0;34m\u001b[0m\u001b[0;34m\u001b[0m\u001b[0m\n",
      "\u001b[0;32mmtrand.pyx\u001b[0m in \u001b[0;36mmtrand.RandomState.multivariate_normal\u001b[0;34m()\u001b[0m\n",
      "\u001b[0;31mValueError\u001b[0m: cov must be 2 dimensional and square"
     ]
    }
   ],
   "source": [
    "#Número inicial de coelhos em cada fazenda.\n",
    "x = np.array([1, 3])\n",
    "\n",
    "teo = []\n",
    "zs = []\n",
    "t0 = 0; tf = 11\n",
    "t = np.linspace(t0, tf, tf)\n",
    "\n",
    "#Gera curva do modelo com erro (curva teórica)\n",
    "for i in t:\n",
    "    q = np.random.multivariate_normal(mean = [0,0], cov = Q)\n",
    "    x = F @ x + q\n",
    "    teo.append(x.copy())\n",
    "    \n",
    "    z = np.random.multivariate_normal(mean = [0,0], cov = R)\n",
    "    zs.append(x + z)\n",
    "\n",
    "teo = np.asarray(teo)\n",
    "zs = np.asarray(zs)"
   ]
  },
  {
   "cell_type": "markdown",
   "metadata": {
    "collapsed": false
   },
   "source": [
    "## Implementação do Kalman Filter Multivariado"
   ]
  },
  {
   "cell_type": "code",
   "execution_count": 15,
   "metadata": {
    "collapsed": false
   },
   "outputs": [
    {
     "ename": "TypeError",
     "evalue": "list indices must be integers or slices, not tuple",
     "output_type": "error",
     "traceback": [
      "\u001b[0;31m---------------------------------------------------------------------------\u001b[0m",
      "\u001b[0;31mTypeError\u001b[0m                                 Traceback (most recent call last)",
      "\u001b[0;32m<ipython-input-15-69598794e04a>\u001b[0m in \u001b[0;36m<module>\u001b[0;34m\u001b[0m\n\u001b[1;32m      1\u001b[0m \u001b[0;31m# x inicial para o filtro de Kalman.\u001b[0m\u001b[0;34m\u001b[0m\u001b[0;34m\u001b[0m\u001b[0;34m\u001b[0m\u001b[0m\n\u001b[0;32m----> 2\u001b[0;31m \u001b[0mx\u001b[0m \u001b[0;34m=\u001b[0m \u001b[0mnp\u001b[0m\u001b[0;34m.\u001b[0m\u001b[0marray\u001b[0m\u001b[0;34m(\u001b[0m\u001b[0;34m[\u001b[0m\u001b[0mzs\u001b[0m\u001b[0;34m[\u001b[0m\u001b[0;36m0\u001b[0m\u001b[0;34m,\u001b[0m\u001b[0;36m0\u001b[0m\u001b[0;34m]\u001b[0m\u001b[0;34m,\u001b[0m \u001b[0mzs\u001b[0m\u001b[0;34m[\u001b[0m\u001b[0;36m0\u001b[0m\u001b[0;34m,\u001b[0m\u001b[0;36m1\u001b[0m\u001b[0;34m]\u001b[0m\u001b[0;34m]\u001b[0m\u001b[0;34m)\u001b[0m\u001b[0;34m\u001b[0m\u001b[0;34m\u001b[0m\u001b[0m\n\u001b[0m\u001b[1;32m      3\u001b[0m \u001b[0;34m\u001b[0m\u001b[0m\n\u001b[1;32m      4\u001b[0m \u001b[0;31m# Matriz de Covariância incial associada à estimativa de número de coelhos em cada fazenda.\u001b[0m\u001b[0;34m\u001b[0m\u001b[0;34m\u001b[0m\u001b[0;34m\u001b[0m\u001b[0m\n\u001b[1;32m      5\u001b[0m \u001b[0mP\u001b[0m \u001b[0;34m=\u001b[0m \u001b[0mnp\u001b[0m\u001b[0;34m.\u001b[0m\u001b[0mdiag\u001b[0m\u001b[0;34m(\u001b[0m\u001b[0;34m[\u001b[0m\u001b[0;36m1\u001b[0m\u001b[0;34m,\u001b[0m \u001b[0;36m1\u001b[0m\u001b[0;34m]\u001b[0m\u001b[0;34m)\u001b[0m\u001b[0;34m\u001b[0m\u001b[0;34m\u001b[0m\u001b[0m\n",
      "\u001b[0;31mTypeError\u001b[0m: list indices must be integers or slices, not tuple"
     ]
    }
   ],
   "source": [
    "# x inicial para o filtro de Kalman.\n",
    "x = np.array([zs[0,0], zs[0,1]]) \n",
    "\n",
    "# Matriz de Covariância incial associada à estimativa de número de coelhos em cada fazenda.\n",
    "P = np.diag([1, 1])\n",
    "\n",
    "n = len(zs) #número de observações\n",
    "pred, xs, cov = [], [], []\n",
    "for z in zs:\n",
    "    # predict\n",
    "    x = F @ x\n",
    "    P = F @ P @ F.T + Q\n",
    "    pred.append(x.copy())\n",
    "    \n",
    "    #update\n",
    "    S = H @ P @ H.T + R\n",
    "    K = P @ H.T @ inv(S)\n",
    "    y = z - H @ x\n",
    "    x += K @ y\n",
    "    P = P - K @ H @ P\n",
    "    \n",
    "    xs.append(x.copy())\n",
    "    cov.append(P.copy())\n",
    "\n",
    "pred, xs, cov = np.array(pred), np.array(xs), np.array(cov)"
   ]
  },
  {
   "cell_type": "code",
   "execution_count": 16,
   "metadata": {
    "collapsed": false
   },
   "outputs": [
    {
     "ename": "NameError",
     "evalue": "name 'plot_coelhinhos' is not defined",
     "output_type": "error",
     "traceback": [
      "\u001b[0;31m---------------------------------------------------------------------------\u001b[0m",
      "\u001b[0;31mNameError\u001b[0m                                 Traceback (most recent call last)",
      "\u001b[0;32m<ipython-input-16-ae789b158bf1>\u001b[0m in \u001b[0;36m<module>\u001b[0;34m\u001b[0m\n\u001b[1;32m      1\u001b[0m \u001b[0mfig\u001b[0m \u001b[0;34m=\u001b[0m \u001b[0mplt\u001b[0m\u001b[0;34m.\u001b[0m\u001b[0mfigure\u001b[0m\u001b[0;34m(\u001b[0m\u001b[0mfigsize\u001b[0m \u001b[0;34m=\u001b[0m \u001b[0;34m(\u001b[0m\u001b[0;36m15\u001b[0m\u001b[0;34m,\u001b[0m \u001b[0;36m6\u001b[0m\u001b[0;34m)\u001b[0m\u001b[0;34m)\u001b[0m\u001b[0;34m\u001b[0m\u001b[0;34m\u001b[0m\u001b[0m\n\u001b[1;32m      2\u001b[0m \u001b[0max\u001b[0m \u001b[0;34m=\u001b[0m \u001b[0mplt\u001b[0m\u001b[0;34m.\u001b[0m\u001b[0msubplot\u001b[0m\u001b[0;34m(\u001b[0m\u001b[0;36m121\u001b[0m\u001b[0;34m)\u001b[0m\u001b[0;34m\u001b[0m\u001b[0;34m\u001b[0m\u001b[0m\n\u001b[0;32m----> 3\u001b[0;31m \u001b[0mplot_coelhinhos\u001b[0m\u001b[0;34m(\u001b[0m\u001b[0mteo\u001b[0m\u001b[0;34m[\u001b[0m\u001b[0;34m:\u001b[0m\u001b[0;34m,\u001b[0m\u001b[0;36m0\u001b[0m\u001b[0;34m]\u001b[0m\u001b[0;34m,\u001b[0m \u001b[0mzs\u001b[0m\u001b[0;34m[\u001b[0m\u001b[0;34m:\u001b[0m\u001b[0;34m,\u001b[0m\u001b[0;36m0\u001b[0m\u001b[0;34m]\u001b[0m\u001b[0;34m,\u001b[0m \u001b[0mpred\u001b[0m\u001b[0;34m[\u001b[0m\u001b[0;34m:\u001b[0m\u001b[0;34m,\u001b[0m\u001b[0;36m0\u001b[0m\u001b[0;34m]\u001b[0m\u001b[0;34m,\u001b[0m \u001b[0mxs\u001b[0m\u001b[0;34m[\u001b[0m\u001b[0;34m:\u001b[0m\u001b[0;34m,\u001b[0m\u001b[0;36m0\u001b[0m\u001b[0;34m]\u001b[0m\u001b[0;34m,\u001b[0m \u001b[0;34m\"James\"\u001b[0m\u001b[0;34m,\u001b[0m \u001b[0max\u001b[0m\u001b[0;34m)\u001b[0m\u001b[0;34m\u001b[0m\u001b[0;34m\u001b[0m\u001b[0m\n\u001b[0m\u001b[1;32m      4\u001b[0m \u001b[0max\u001b[0m \u001b[0;34m=\u001b[0m \u001b[0mplt\u001b[0m\u001b[0;34m.\u001b[0m\u001b[0msubplot\u001b[0m\u001b[0;34m(\u001b[0m\u001b[0;36m122\u001b[0m\u001b[0;34m)\u001b[0m\u001b[0;34m\u001b[0m\u001b[0;34m\u001b[0m\u001b[0m\n\u001b[1;32m      5\u001b[0m \u001b[0mplot_coelhinhos\u001b[0m\u001b[0;34m(\u001b[0m\u001b[0mteo\u001b[0m\u001b[0;34m[\u001b[0m\u001b[0;34m:\u001b[0m\u001b[0;34m,\u001b[0m\u001b[0;36m1\u001b[0m\u001b[0;34m]\u001b[0m\u001b[0;34m,\u001b[0m \u001b[0mzs\u001b[0m\u001b[0;34m[\u001b[0m\u001b[0;34m:\u001b[0m\u001b[0;34m,\u001b[0m\u001b[0;36m1\u001b[0m\u001b[0;34m]\u001b[0m\u001b[0;34m,\u001b[0m \u001b[0mpred\u001b[0m\u001b[0;34m[\u001b[0m\u001b[0;34m:\u001b[0m\u001b[0;34m,\u001b[0m\u001b[0;36m1\u001b[0m\u001b[0;34m]\u001b[0m\u001b[0;34m,\u001b[0m \u001b[0mxs\u001b[0m\u001b[0;34m[\u001b[0m\u001b[0;34m:\u001b[0m\u001b[0;34m,\u001b[0m\u001b[0;36m1\u001b[0m\u001b[0;34m]\u001b[0m\u001b[0;34m,\u001b[0m \u001b[0;34m\"Mc Gregor\"\u001b[0m\u001b[0;34m,\u001b[0m \u001b[0max\u001b[0m\u001b[0;34m)\u001b[0m\u001b[0;34m\u001b[0m\u001b[0;34m\u001b[0m\u001b[0m\n",
      "\u001b[0;31mNameError\u001b[0m: name 'plot_coelhinhos' is not defined"
     ]
    },
    {
     "data": {
      "image/png": "[encoded data removed]",
      "text/plain": [
       "<Figure size 1080x432 with 1 Axes>"
      ]
     },
     "execution_count": 16,
     "metadata": {
      "image/png": {
       "height": 360,
       "width": 425
      }
     },
     "output_type": "execute_result"
    }
   ],
   "source": [
    "fig = plt.figure(figsize = (15, 6))\n",
    "ax = plt.subplot(121)\n",
    "plot_coelhinhos(teo[:,0], zs[:,0], pred[:,0], xs[:,0], \"James\", ax)\n",
    "ax = plt.subplot(122)\n",
    "plot_coelhinhos(teo[:,1], zs[:,1], pred[:,1], xs[:,1], \"Mc Gregor\", ax)"
   ]
  },
  {
   "cell_type": "markdown",
   "metadata": {
    "collapsed": false
   },
   "source": [
    "## Algumas Outras Adaptações Possíveis"
   ]
  },
  {
   "cell_type": "markdown",
   "metadata": {
    "collapsed": false
   },
   "source": [
    "### CASO 2\n",
    "\n",
    "**Modelar (x):** número de coelhos em cada fazenda.\n",
    "**Medições (z):** número de coelhos na Fazenda do Jones.\n",
    "\n",
    "$$\n",
    "\\begin{aligned}\n",
    "\\textbf{y} &= \\mathbf z - \\mathbf{H\\bar x}  \\\\\n",
    "\\begin{bmatrix}\\mathrm{Resíduo} \\end{bmatrix} &= \\begin{bmatrix}\\mathrm{Coelhos~Jones}\\end{bmatrix} - \\begin{bmatrix}?&?\\end{bmatrix} \\begin{bmatrix} \\mathrm{Coelhos~Jones}\\\\ \\mathrm{Coelhos~Mc~Gregor}\\end{bmatrix}\n",
    "\\end{aligned}\n",
    "$$\n",
    "\n",
    "Note que $z$ é dado em Coelhos de Jones. Assim, o produto $H\\overline{x}$ deve também ter essa unidade. Assim, tomamos $H = \\begin{bmatrix}1&0\\end{bmatrix}$.\n"
   ]
  },
  {
   "cell_type": "markdown",
   "metadata": {
    "collapsed": false
   },
   "source": [
    "### CASO 3\n",
    "\n",
    "**Modelar (x):** número de coelhos em cada fazenda.\n",
    "**Medições (z):** kg de ração consumido em cada fazenda.\n",
    "\n",
    "$$\n",
    "\\begin{aligned}\n",
    "\\textbf{y} &= \\mathbf z - \\mathbf{H\\bar x}  \\\\\n",
    "\\begin{bmatrix}\\mathrm{Resíduo} \\end{bmatrix} &= \\begin{bmatrix}\\mathrm{Kg~Ração~Jones}\\\\\\mathrm{Kg~Ração~Mc~Gregor}\\end{bmatrix} - \\begin{bmatrix}?&?\\\\?&?\\end{bmatrix} \\begin{bmatrix} \\mathrm{Coelhos~Jones}\\\\ \\mathrm{Coelhos~Mc~Gregor}\\end{bmatrix}\n",
    "\\end{aligned}\n",
    "$$\n",
    "\n",
    "Vamos considerar que cada coelho come, teoricamente, $0.2kg$ de ração por dia na fazenda do Jones e $0.3kg$ de ração por dia na fazenda do Mc Gregor. Então, tomamos $H = \\begin{bmatrix}0.2&0\\\\0&0.3\\end{bmatrix}$."
   ]
  },
  {
   "cell_type": "markdown",
   "metadata": {
    "collapsed": false
   },
   "source": [
    "### CASO 4\n",
    "\n",
    "**Modelar (x):** número de coelhos em cada fazenda.\n",
    "**Medições (z):** kg de ração consumido na fazenda do Jones.\n",
    "\n",
    "$$\n",
    "\\begin{aligned}\n",
    "\\textbf{y} &= \\mathbf z - \\mathbf{H\\bar x}  \\\\\n",
    "\\begin{bmatrix}\\mathrm{Resíduo} \\end{bmatrix} &= \\begin{bmatrix}\\mathrm{Kg~Ração~Jones}\\end{bmatrix} - \\begin{bmatrix}?&?\\end{bmatrix} \\begin{bmatrix} \\mathrm{Coelhos~Jones}\\\\ \\mathrm{Coelhos~Mc~Gregor}\\end{bmatrix}\n",
    "\\end{aligned}\n",
    "$$\n",
    "\n",
    "Note que $z$ é dado em Coelhos de Jones. Assim, o produto $H\\overline{x}$ deve também ter essa unidade. Assim, tomamos $H = \\begin{bmatrix}0.2&0\\end{bmatrix}$.\n"
   ]
  },
  {
   "cell_type": "code",
   "execution_count": 0,
   "metadata": {
    "collapsed": false
   },
   "outputs": [
   ],
   "source": [
   ]
  },
  {
   "cell_type": "markdown",
   "metadata": {
    "collapsed": false
   },
   "source": [
    "## Contexto das Vaquinhas 🐄"
   ]
  },
  {
   "cell_type": "code",
   "execution_count": 0,
   "metadata": {
    "collapsed": false
   },
   "outputs": [
   ],
   "source": [
   ]
  },
  {
   "cell_type": "markdown",
   "metadata": {
    "collapsed": false
   },
   "source": [
    "### Referências\n",
    "Labbe, Roger (2018). Kalman and Bayesian Filters in Python. https://github.com/rlabbe/Kalman-and-Bayesian-Filters-in-Python, commit e84f8018366438c87189ccad40a56bf506f81ffc."
   ]
  }
 ],
 "metadata": {
  "kernelspec": {
   "display_name": "Python 3 (system-wide)",
   "language": "python",
   "metadata": {
    "cocalc": {
     "description": "Python 3 programming language",
     "priority": 100,
     "url": "https://www.python.org/"
    }
   },
   "name": "python3"
  },
  "language_info": {
   "codemirror_mode": {
    "name": "ipython",
    "version": 3
   },
   "file_extension": ".py",
   "mimetype": "text/x-python",
   "name": "python",
   "nbconvert_exporter": "python",
   "pygments_lexer": "ipython3",
   "version": "3.6.8"
  }
 },
 "nbformat": 4,
 "nbformat_minor": 0
}