{
 "cells": [
  {
   "cell_type": "markdown",
   "metadata": {},
   "source": [
    "# Sintaxe Básica"
   ]
  },
  {
   "cell_type": "markdown",
   "metadata": {},
   "source": [
    "## Print"
   ]
  },
  {
   "cell_type": "code",
   "execution_count": 35,
   "metadata": {},
   "outputs": [
    {
     "name": "stdout",
     "output_type": "stream",
     "text": [
      "[1] \"Hello World\"\n"
     ]
    }
   ],
   "source": [
    "print(\"Hello World\")"
   ]
  },
  {
   "cell_type": "markdown",
   "metadata": {},
   "source": [
    "## Comentários"
   ]
  },
  {
   "cell_type": "code",
   "execution_count": 36,
   "metadata": {},
   "outputs": [
    {
     "name": "stdout",
     "output_type": "stream",
     "text": [
      "[1] \"isso é executado\"\n"
     ]
    }
   ],
   "source": [
    "# isso é um comentário\n",
    "print(\"isso é executado\")"
   ]
  },
  {
   "cell_type": "markdown",
   "metadata": {},
   "source": [
    "## Atribuição de variáveis"
   ]
  },
  {
   "cell_type": "code",
   "execution_count": 37,
   "metadata": {},
   "outputs": [
    {
     "name": "stdout",
     "output_type": "stream",
     "text": [
      "[1] 1\n"
     ]
    }
   ],
   "source": [
    "# Correto\n",
    "var <- 1\n",
    "print(var)"
   ]
  },
  {
   "cell_type": "code",
   "execution_count": 38,
   "metadata": {},
   "outputs": [
    {
     "name": "stdout",
     "output_type": "stream",
     "text": [
      "[1] 1\n"
     ]
    }
   ],
   "source": [
    "# Incorrenta (mas funciona)\n",
    "var = 1\n",
    "print(var)"
   ]
  },
  {
   "cell_type": "markdown",
   "metadata": {},
   "source": [
    "## Tipos básicos de variáveis"
   ]
  },
  {
   "cell_type": "markdown",
   "metadata": {},
   "source": [
    "### Numérico"
   ]
  },
  {
   "cell_type": "code",
   "execution_count": 39,
   "metadata": {},
   "outputs": [
    {
     "data": {
      "text/html": [
       "TRUE"
      ],
      "text/latex": [
       "TRUE"
      ],
      "text/markdown": [
       "TRUE"
      ],
      "text/plain": [
       "[1] TRUE"
      ]
     },
     "metadata": {},
     "output_type": "display_data"
    }
   ],
   "source": [
    "is.numeric(1)"
   ]
  },
  {
   "cell_type": "markdown",
   "metadata": {},
   "source": [
    "### Float "
   ]
  },
  {
   "cell_type": "code",
   "execution_count": 40,
   "metadata": {},
   "outputs": [
    {
     "data": {
      "text/html": [
       "'double'"
      ],
      "text/latex": [
       "'double'"
      ],
      "text/markdown": [
       "'double'"
      ],
      "text/plain": [
       "[1] \"double\""
      ]
     },
     "metadata": {},
     "output_type": "display_data"
    }
   ],
   "source": [
    "var <- 1\n",
    "typeof(var)"
   ]
  },
  {
   "cell_type": "markdown",
   "metadata": {},
   "source": [
    "### Integer "
   ]
  },
  {
   "cell_type": "code",
   "execution_count": 41,
   "metadata": {},
   "outputs": [
    {
     "data": {
      "text/html": [
       "'integer'"
      ],
      "text/latex": [
       "'integer'"
      ],
      "text/markdown": [
       "'integer'"
      ],
      "text/plain": [
       "[1] \"integer\""
      ]
     },
     "metadata": {},
     "output_type": "display_data"
    }
   ],
   "source": [
    "var <- integer(1)\n",
    "typeof(var)"
   ]
  },
  {
   "cell_type": "markdown",
   "metadata": {},
   "source": [
    "### Character"
   ]
  },
  {
   "cell_type": "code",
   "execution_count": 42,
   "metadata": {},
   "outputs": [
    {
     "data": {
      "text/html": [
       "'character'"
      ],
      "text/latex": [
       "'character'"
      ],
      "text/markdown": [
       "'character'"
      ],
      "text/plain": [
       "[1] \"character\""
      ]
     },
     "metadata": {},
     "output_type": "display_data"
    }
   ],
   "source": [
    "typeof(\"isso é um character\")"
   ]
  },
  {
   "cell_type": "markdown",
   "metadata": {},
   "source": [
    "#### Concatenando Strings"
   ]
  },
  {
   "cell_type": "code",
   "execution_count": 43,
   "metadata": {},
   "outputs": [
    {
     "data": {
      "text/html": [
       "'string 1-string 2'"
      ],
      "text/latex": [
       "'string 1-string 2'"
      ],
      "text/markdown": [
       "'string 1-string 2'"
      ],
      "text/plain": [
       "[1] \"string 1-string 2\""
      ]
     },
     "metadata": {},
     "output_type": "display_data"
    }
   ],
   "source": [
    "paste(\"string 1\", \"string 2\", sep = \"-\")"
   ]
  },
  {
   "cell_type": "code",
   "execution_count": 44,
   "metadata": {},
   "outputs": [
    {
     "data": {
      "text/html": [
       "'string 1string2'"
      ],
      "text/latex": [
       "'string 1string2'"
      ],
      "text/markdown": [
       "'string 1string2'"
      ],
      "text/plain": [
       "[1] \"string 1string2\""
      ]
     },
     "metadata": {},
     "output_type": "display_data"
    }
   ],
   "source": [
    "paste0(\"string 1\", \"string2\")"
   ]
  },
  {
   "cell_type": "markdown",
   "metadata": {},
   "source": [
    "### Boolean"
   ]
  },
  {
   "cell_type": "code",
   "execution_count": 45,
   "metadata": {},
   "outputs": [
    {
     "data": {
      "text/html": [
       "TRUE"
      ],
      "text/latex": [
       "TRUE"
      ],
      "text/markdown": [
       "TRUE"
      ],
      "text/plain": [
       "[1] TRUE"
      ]
     },
     "metadata": {},
     "output_type": "display_data"
    },
    {
     "data": {
      "text/html": [
       "'logical'"
      ],
      "text/latex": [
       "'logical'"
      ],
      "text/markdown": [
       "'logical'"
      ],
      "text/plain": [
       "[1] \"logical\""
      ]
     },
     "metadata": {},
     "output_type": "display_data"
    }
   ],
   "source": [
    "TRUE\n",
    "typeof(FALSE)"
   ]
  },
  {
   "cell_type": "code",
   "execution_count": 46,
   "metadata": {},
   "outputs": [
    {
     "data": {
      "text/html": [
       "TRUE"
      ],
      "text/latex": [
       "TRUE"
      ],
      "text/markdown": [
       "TRUE"
      ],
      "text/plain": [
       "[1] TRUE"
      ]
     },
     "metadata": {},
     "output_type": "display_data"
    },
    {
     "data": {
      "text/html": [
       "FALSE"
      ],
      "text/latex": [
       "FALSE"
      ],
      "text/markdown": [
       "FALSE"
      ],
      "text/plain": [
       "[1] FALSE"
      ]
     },
     "metadata": {},
     "output_type": "display_data"
    }
   ],
   "source": [
    "T\n",
    "F"
   ]
  },
  {
   "cell_type": "markdown",
   "metadata": {},
   "source": [
    "## Operadores Numéricos"
   ]
  },
  {
   "cell_type": "code",
   "execution_count": 47,
   "metadata": {},
   "outputs": [
    {
     "data": {
      "text/html": [
       "2"
      ],
      "text/latex": [
       "2"
      ],
      "text/markdown": [
       "2"
      ],
      "text/plain": [
       "[1] 2"
      ]
     },
     "metadata": {},
     "output_type": "display_data"
    }
   ],
   "source": [
    "1 + 1 # soma"
   ]
  },
  {
   "cell_type": "code",
   "execution_count": 48,
   "metadata": {},
   "outputs": [
    {
     "data": {
      "text/html": [
       "4"
      ],
      "text/latex": [
       "4"
      ],
      "text/markdown": [
       "4"
      ],
      "text/plain": [
       "[1] 4"
      ]
     },
     "metadata": {},
     "output_type": "display_data"
    }
   ],
   "source": [
    "2 * 2 # multiplicação"
   ]
  },
  {
   "cell_type": "code",
   "execution_count": 49,
   "metadata": {},
   "outputs": [
    {
     "data": {
      "text/html": [
       "0.666666666666667"
      ],
      "text/latex": [
       "0.666666666666667"
      ],
      "text/markdown": [
       "0.666666666666667"
      ],
      "text/plain": [
       "[1] 0.6666667"
      ]
     },
     "metadata": {},
     "output_type": "display_data"
    }
   ],
   "source": [
    "2 / 3 # divisão"
   ]
  },
  {
   "cell_type": "code",
   "execution_count": 50,
   "metadata": {},
   "outputs": [
    {
     "data": {
      "text/html": [
       "8"
      ],
      "text/latex": [
       "8"
      ],
      "text/markdown": [
       "8"
      ],
      "text/plain": [
       "[1] 8"
      ]
     },
     "metadata": {},
     "output_type": "display_data"
    }
   ],
   "source": [
    "2 ^ 3 # expoente"
   ]
  },
  {
   "cell_type": "code",
   "execution_count": 51,
   "metadata": {},
   "outputs": [
    {
     "data": {
      "text/html": [
       "2"
      ],
      "text/latex": [
       "2"
      ],
      "text/markdown": [
       "2"
      ],
      "text/plain": [
       "[1] 2"
      ]
     },
     "metadata": {},
     "output_type": "display_data"
    }
   ],
   "source": [
    "sqrt(4) # raiz quadrada"
   ]
  },
  {
   "cell_type": "code",
   "execution_count": 52,
   "metadata": {},
   "outputs": [
    {
     "data": {
      "text/html": [
       "2"
      ],
      "text/latex": [
       "2"
      ],
      "text/markdown": [
       "2"
      ],
      "text/plain": [
       "[1] 2"
      ]
     },
     "metadata": {},
     "output_type": "display_data"
    }
   ],
   "source": [
    "8 ^ (1/3) # raiz nª"
   ]
  },
  {
   "cell_type": "markdown",
   "metadata": {},
   "source": [
    "# Estruturas de dados"
   ]
  },
  {
   "cell_type": "markdown",
   "metadata": {},
   "source": [
    "## Vetores "
   ]
  },
  {
   "cell_type": "code",
   "execution_count": 53,
   "metadata": {},
   "outputs": [
    {
     "name": "stdout",
     "output_type": "stream",
     "text": [
      "[1] \"1\" \"2\" \"3\" \"a\"\n",
      "[1] \"character\"\n"
     ]
    }
   ],
   "source": [
    "var <- c(1, 2, 3, \"a\")\n",
    "print(var)\n",
    "print(typeof(var))"
   ]
  },
  {
   "cell_type": "code",
   "execution_count": 54,
   "metadata": {},
   "outputs": [
    {
     "data": {
      "text/html": [
       "<ol class=list-inline>\n",
       "\t<li>'1'</li>\n",
       "\t<li>'2'</li>\n",
       "\t<li>'3'</li>\n",
       "\t<li>'a'</li>\n",
       "</ol>\n"
      ],
      "text/latex": [
       "\\begin{enumerate*}\n",
       "\\item '1'\n",
       "\\item '2'\n",
       "\\item '3'\n",
       "\\item 'a'\n",
       "\\end{enumerate*}\n"
      ],
      "text/markdown": [
       "1. '1'\n",
       "2. '2'\n",
       "3. '3'\n",
       "4. 'a'\n",
       "\n",
       "\n"
      ],
      "text/plain": [
       "[1] \"1\" \"2\" \"3\" \"a\""
      ]
     },
     "metadata": {},
     "output_type": "display_data"
    }
   ],
   "source": [
    "c(1, 2, 3, \"a\")"
   ]
  },
  {
   "cell_type": "code",
   "execution_count": 55,
   "metadata": {},
   "outputs": [
    {
     "data": {
      "text/html": [
       "<dl class=dl-horizontal>\n",
       "\t<dt>a</dt>\n",
       "\t\t<dd>1</dd>\n",
       "\t<dt>2</dt>\n",
       "\t\t<dd>3</dd>\n",
       "</dl>\n"
      ],
      "text/latex": [
       "\\begin{description*}\n",
       "\\item[a] 1\n",
       "\\item[2] 3\n",
       "\\end{description*}\n"
      ],
      "text/markdown": [
       "a\n",
       ":   12\n",
       ":   3\n",
       "\n"
      ],
      "text/plain": [
       "a   \n",
       "1 3 "
      ]
     },
     "metadata": {},
     "output_type": "display_data"
    }
   ],
   "source": [
    "var <- c(a = 1, b = 2, 3)\n",
    "var[var!=2]"
   ]
  },
  {
   "cell_type": "markdown",
   "metadata": {},
   "source": [
    "## Listas"
   ]
  },
  {
   "cell_type": "code",
   "execution_count": 56,
   "metadata": {},
   "outputs": [
    {
     "name": "stdout",
     "output_type": "stream",
     "text": [
      "$a\n",
      "[1] 1 2\n",
      "\n",
      "[[2]]\n",
      "[[2]][[1]]\n",
      "[1] \"a\"\n",
      "\n",
      "[[2]][[2]]\n",
      "[1] \"b\"\n",
      "\n",
      "\n",
      "[[3]]\n",
      "[1] 3\n",
      "\n",
      "[[4]]\n",
      "[1] 4\n",
      "\n",
      "[[5]]\n",
      "[1] \"string\"\n",
      "\n"
     ]
    }
   ],
   "source": [
    "var <- list(a = c(1, 2), list(\"a\", \"b\"), 3, 4, \"string\")\n",
    "print(var)"
   ]
  },
  {
   "cell_type": "code",
   "execution_count": 57,
   "metadata": {},
   "outputs": [
    {
     "name": "stdout",
     "output_type": "stream",
     "text": [
      " a  b c1 c2 c3 \n",
      " 1  2  1  2  3 \n"
     ]
    }
   ],
   "source": [
    "var <- list(a = 1, b = 2, c = list(1, 2, 3))\n",
    "# transforma lista em vetor (recursivo)\n",
    "print(unlist(var)) "
   ]
  },
  {
   "cell_type": "code",
   "execution_count": 58,
   "metadata": {},
   "outputs": [
    {
     "name": "stdout",
     "output_type": "stream",
     "text": [
      "$a\n",
      "[1] 1\n",
      "\n",
      "$b\n",
      "[1] 2\n",
      "\n",
      "$c1\n",
      "[1] 1\n",
      "\n",
      "$c2\n",
      "[1] 2\n",
      "\n",
      "$c3\n",
      "[1] 3\n",
      "\n"
     ]
    }
   ],
   "source": [
    "# transforma lista em vetor (não recursivo)\n",
    "print(unlist(var, recursive = F)) "
   ]
  },
  {
   "cell_type": "markdown",
   "metadata": {},
   "source": [
    "## Matrizes"
   ]
  },
  {
   "cell_type": "code",
   "execution_count": 59,
   "metadata": {},
   "outputs": [
    {
     "name": "stdout",
     "output_type": "stream",
     "text": [
      "     [,1] [,2]\n",
      "[1,]    1    3\n",
      "[2,]    2    4\n"
     ]
    }
   ],
   "source": [
    "m <- matrix(c(1, 2, 3, 4), nrow = 2, ncol = 2)\n",
    "print(m)"
   ]
  },
  {
   "cell_type": "markdown",
   "metadata": {},
   "source": [
    "## Acessando elementos por índice "
   ]
  },
  {
   "cell_type": "markdown",
   "metadata": {},
   "source": [
    "Índice começa a partir do 1"
   ]
  },
  {
   "cell_type": "code",
   "execution_count": 60,
   "metadata": {},
   "outputs": [
    {
     "data": {
      "text/html": [
       "3"
      ],
      "text/latex": [
       "3"
      ],
      "text/markdown": [
       "3"
      ],
      "text/plain": [
       "[1] 3"
      ]
     },
     "metadata": {},
     "output_type": "display_data"
    }
   ],
   "source": [
    "var <- c(1, 2, 3)\n",
    "var[3]"
   ]
  },
  {
   "cell_type": "code",
   "execution_count": 61,
   "metadata": {},
   "outputs": [
    {
     "name": "stdout",
     "output_type": "stream",
     "text": [
      "$a\n",
      "[1] 1\n",
      "\n",
      "[1] 1\n"
     ]
    }
   ],
   "source": [
    "var <- list(a = 1, 2, 3)\n",
    "print(var[1])\n",
    "print(var[[1]])"
   ]
  },
  {
   "cell_type": "code",
   "execution_count": 62,
   "metadata": {},
   "outputs": [
    {
     "name": "stdout",
     "output_type": "stream",
     "text": [
      "     [,1] [,2]\n",
      "[1,]    1    3\n",
      "[2,]    2    4\n",
      "[1] 3\n",
      "[1] 3\n"
     ]
    }
   ],
   "source": [
    "m <- matrix(c(1, 2, 3, 4), nrow = 2, ncol = 2)\n",
    "print(m)\n",
    "print(m[3]) # acessando terceiro elemento (linha 2, coluna 1)\n",
    "print(m[1,2]) # acessando linha 1, coluna 2"
   ]
  },
  {
   "cell_type": "markdown",
   "metadata": {},
   "source": [
    "## Acessando elementos por key"
   ]
  },
  {
   "cell_type": "code",
   "execution_count": 63,
   "metadata": {},
   "outputs": [
    {
     "name": "stdout",
     "output_type": "stream",
     "text": [
      "[1] 1\n"
     ]
    }
   ],
   "source": [
    "var <- c(a = 1, b = 2, c = 3)\n",
    "print(var[[\"a\"]])"
   ]
  },
  {
   "cell_type": "code",
   "execution_count": 64,
   "metadata": {},
   "outputs": [
    {
     "name": "stdout",
     "output_type": "stream",
     "text": [
      "[1] 1\n",
      "[1] 1\n"
     ]
    }
   ],
   "source": [
    "var <- list(a = 1, b = 2, c = 3)\n",
    "print(var[[\"a\"]])\n",
    "print(var$a) # alternativamente"
   ]
  },
  {
   "cell_type": "code",
   "execution_count": 65,
   "metadata": {},
   "outputs": [
    {
     "data": {
      "text/html": [
       "'double'"
      ],
      "text/latex": [
       "'double'"
      ],
      "text/markdown": [
       "'double'"
      ],
      "text/plain": [
       "[1] \"double\""
      ]
     },
     "metadata": {},
     "output_type": "display_data"
    }
   ],
   "source": [
    "typeof(var[[\"a\"]])"
   ]
  },
  {
   "cell_type": "code",
   "execution_count": 66,
   "metadata": {},
   "outputs": [
    {
     "name": "stdout",
     "output_type": "stream",
     "text": [
      "$a\n",
      "[1] 1\n",
      "\n",
      "[1] 1\n"
     ]
    }
   ],
   "source": [
    "# Obs: single brackets ( [] ) retornam um pedaço da estrutura,\n",
    "# enquanto double brackets ( [[]] ) retornam o elemento em si.\n",
    "# Funciona da mesma forma p/ indexação por índices\n",
    "print(var[\"a\"])\n",
    "print(var[[\"a\"]])"
   ]
  },
  {
   "cell_type": "markdown",
   "metadata": {},
   "source": [
    "## Slicing"
   ]
  },
  {
   "cell_type": "code",
   "execution_count": 67,
   "metadata": {},
   "outputs": [
    {
     "name": "stdout",
     "output_type": "stream",
     "text": [
      "$a\n",
      "[1] 1\n",
      "\n",
      "$b\n",
      "[1] 2\n",
      "\n"
     ]
    }
   ],
   "source": [
    "# var <- c(1, 2, 3)\n",
    "print(var[1:2])"
   ]
  },
  {
   "cell_type": "code",
   "execution_count": 68,
   "metadata": {},
   "outputs": [
    {
     "name": "stdout",
     "output_type": "stream",
     "text": [
      "[[1]]\n",
      "[1] 1\n",
      "\n",
      "[[2]]\n",
      "[1] 2\n",
      "\n"
     ]
    }
   ],
   "source": [
    "var <- list(1, 2, 3)\n",
    "# subset do primeiro ao segundo elemento (inclusivo)\n",
    "print(var[1:2])"
   ]
  },
  {
   "cell_type": "markdown",
   "metadata": {},
   "source": [
    "## Remoção de elementos"
   ]
  },
  {
   "cell_type": "code",
   "execution_count": 69,
   "metadata": {},
   "outputs": [
    {
     "name": "stdout",
     "output_type": "stream",
     "text": [
      "[[1]]\n",
      "[1] 1\n",
      "\n",
      "[[2]]\n",
      "[1] 3\n",
      "\n"
     ]
    }
   ],
   "source": [
    "var <- list(1, 2, 3)\n",
    " # removendo elemento 2\n",
    "print(var[-2])"
   ]
  },
  {
   "cell_type": "code",
   "execution_count": 70,
   "metadata": {},
   "outputs": [
    {
     "name": "stdout",
     "output_type": "stream",
     "text": [
      "[[1]]\n",
      "[1] 3\n",
      "\n"
     ]
    }
   ],
   "source": [
    "var <- list(1, 2, 3)\n",
    "# removendo do elemento 1 ao elemento 2 (inclusivo)\n",
    "var <- var[-1:-2] \n",
    "print(var)"
   ]
  },
  {
   "cell_type": "code",
   "execution_count": 71,
   "metadata": {},
   "outputs": [
    {
     "name": "stdout",
     "output_type": "stream",
     "text": [
      "[[1]]\n",
      "[1] 1\n",
      "\n",
      "[[2]]\n",
      "[1] 2\n",
      "\n"
     ]
    }
   ],
   "source": [
    "var <- list(1, 2, 3)\n",
    "# removendo ultimo elemento\n",
    "var <- var[-length(var)] \n",
    "print(var)"
   ]
  },
  {
   "cell_type": "markdown",
   "metadata": {},
   "source": [
    "## Fatores"
   ]
  },
  {
   "cell_type": "code",
   "execution_count": 72,
   "metadata": {},
   "outputs": [
    {
     "data": {
      "text/html": [
       "<ol class=list-inline>\n",
       "\t<li>a</li>\n",
       "\t<li>b</li>\n",
       "\t<li>b</li>\n",
       "\t<li>c</li>\n",
       "\t<li>a</li>\n",
       "\t<li>b</li>\n",
       "</ol>\n",
       "\n",
       "<details>\n",
       "\t<summary style=display:list-item;cursor:pointer>\n",
       "\t\t<strong>Levels</strong>:\n",
       "\t</summary>\n",
       "\t<ol class=list-inline>\n",
       "\t\t<li>'a'</li>\n",
       "\t\t<li>'b'</li>\n",
       "\t\t<li>'c'</li>\n",
       "\t</ol>\n",
       "</details>"
      ],
      "text/latex": [
       "\\begin{enumerate*}\n",
       "\\item a\n",
       "\\item b\n",
       "\\item b\n",
       "\\item c\n",
       "\\item a\n",
       "\\item b\n",
       "\\end{enumerate*}\n",
       "\n",
       "\\emph{Levels}: \\begin{enumerate*}\n",
       "\\item 'a'\n",
       "\\item 'b'\n",
       "\\item 'c'\n",
       "\\end{enumerate*}\n"
      ],
      "text/markdown": [
       "1. a\n",
       "2. b\n",
       "3. b\n",
       "4. c\n",
       "5. a\n",
       "6. b\n",
       "\n",
       "\n",
       "\n",
       "**Levels**: 1. 'a'\n",
       "2. 'b'\n",
       "3. 'c'\n",
       "\n",
       "\n"
      ],
      "text/plain": [
       "[1] a b b c a b\n",
       "Levels: a b c"
      ]
     },
     "metadata": {},
     "output_type": "display_data"
    }
   ],
   "source": [
    "f <- factor(c(\"a\", \"b\", \"b\", \"c\", \"a\", \"b\"))\n",
    "f"
   ]
  },
  {
   "cell_type": "code",
   "execution_count": 73,
   "metadata": {},
   "outputs": [
    {
     "data": {
      "text/html": [
       "<ol class=list-inline>\n",
       "\t<li>'a'</li>\n",
       "\t<li>'b'</li>\n",
       "\t<li>'c'</li>\n",
       "</ol>\n"
      ],
      "text/latex": [
       "\\begin{enumerate*}\n",
       "\\item 'a'\n",
       "\\item 'b'\n",
       "\\item 'c'\n",
       "\\end{enumerate*}\n"
      ],
      "text/markdown": [
       "1. 'a'\n",
       "2. 'b'\n",
       "3. 'c'\n",
       "\n",
       "\n"
      ],
      "text/plain": [
       "[1] \"a\" \"b\" \"c\""
      ]
     },
     "metadata": {},
     "output_type": "display_data"
    }
   ],
   "source": [
    "levels(f)"
   ]
  },
  {
   "cell_type": "markdown",
   "metadata": {},
   "source": [
    "## DataFrames"
   ]
  },
  {
   "cell_type": "code",
   "execution_count": 74,
   "metadata": {},
   "outputs": [
    {
     "data": {
      "text/html": [
       "<table>\n",
       "<thead><tr><th scope=col>nomedacoluna</th><th scope=col>col2</th><th scope=col>col3</th></tr></thead>\n",
       "<tbody>\n",
       "\t<tr><td>1</td><td>a</td><td>3</td></tr>\n",
       "\t<tr><td>2</td><td>b</td><td>4</td></tr>\n",
       "\t<tr><td>3</td><td>c</td><td>5</td></tr>\n",
       "\t<tr><td>4</td><td>d</td><td>6</td></tr>\n",
       "</tbody>\n",
       "</table>\n"
      ],
      "text/latex": [
       "\\begin{tabular}{r|lll}\n",
       " nomedacoluna & col2 & col3\\\\\n",
       "\\hline\n",
       "\t 1 & a & 3\\\\\n",
       "\t 2 & b & 4\\\\\n",
       "\t 3 & c & 5\\\\\n",
       "\t 4 & d & 6\\\\\n",
       "\\end{tabular}\n"
      ],
      "text/markdown": [
       "\n",
       "nomedacoluna | col2 | col3 | \n",
       "|---|---|---|---|\n",
       "| 1 | a | 3 | \n",
       "| 2 | b | 4 | \n",
       "| 3 | c | 5 | \n",
       "| 4 | d | 6 | \n",
       "\n",
       "\n"
      ],
      "text/plain": [
       "  nomedacoluna col2 col3\n",
       "1 1            a    3   \n",
       "2 2            b    4   \n",
       "3 3            c    5   \n",
       "4 4            d    6   "
      ]
     },
     "metadata": {},
     "output_type": "display_data"
    }
   ],
   "source": [
    "df <- data.frame(\n",
    "    nomedacoluna = c(1, 2, 3, 4),\n",
    "    col2 = c(\"a\", \"b\", \"c\", \"d\"),\n",
    "    col3 = c(3, 4, 5, 6)\n",
    "#     stringsAsFactors = F\n",
    ")\n",
    "df"
   ]
  },
  {
   "cell_type": "code",
   "execution_count": 75,
   "metadata": {},
   "outputs": [
    {
     "data": {
      "text/html": [
       "<ol class=list-inline>\n",
       "\t<li>a</li>\n",
       "\t<li>b</li>\n",
       "\t<li>c</li>\n",
       "\t<li>d</li>\n",
       "</ol>\n",
       "\n",
       "<details>\n",
       "\t<summary style=display:list-item;cursor:pointer>\n",
       "\t\t<strong>Levels</strong>:\n",
       "\t</summary>\n",
       "\t<ol class=list-inline>\n",
       "\t\t<li>'a'</li>\n",
       "\t\t<li>'b'</li>\n",
       "\t\t<li>'c'</li>\n",
       "\t\t<li>'d'</li>\n",
       "\t</ol>\n",
       "</details>"
      ],
      "text/latex": [
       "\\begin{enumerate*}\n",
       "\\item a\n",
       "\\item b\n",
       "\\item c\n",
       "\\item d\n",
       "\\end{enumerate*}\n",
       "\n",
       "\\emph{Levels}: \\begin{enumerate*}\n",
       "\\item 'a'\n",
       "\\item 'b'\n",
       "\\item 'c'\n",
       "\\item 'd'\n",
       "\\end{enumerate*}\n"
      ],
      "text/markdown": [
       "1. a\n",
       "2. b\n",
       "3. c\n",
       "4. d\n",
       "\n",
       "\n",
       "\n",
       "**Levels**: 1. 'a'\n",
       "2. 'b'\n",
       "3. 'c'\n",
       "4. 'd'\n",
       "\n",
       "\n"
      ],
      "text/plain": [
       "[1] a b c d\n",
       "Levels: a b c d"
      ]
     },
     "metadata": {},
     "output_type": "display_data"
    }
   ],
   "source": [
    "df$col2"
   ]
  },
  {
   "cell_type": "code",
   "execution_count": 76,
   "metadata": {},
   "outputs": [
    {
     "data": {
      "text/html": [
       "<table>\n",
       "<thead><tr><th scope=col>nomedacoluna</th><th scope=col>col2</th><th scope=col>col3</th></tr></thead>\n",
       "<tbody>\n",
       "\t<tr><td>1</td><td>a</td><td>3</td></tr>\n",
       "\t<tr><td>2</td><td>b</td><td>4</td></tr>\n",
       "\t<tr><td>3</td><td>c</td><td>5</td></tr>\n",
       "\t<tr><td>4</td><td>d</td><td>6</td></tr>\n",
       "\t<tr><td>1</td><td>a</td><td>3</td></tr>\n",
       "</tbody>\n",
       "</table>\n"
      ],
      "text/latex": [
       "\\begin{tabular}{r|lll}\n",
       " nomedacoluna & col2 & col3\\\\\n",
       "\\hline\n",
       "\t 1 & a & 3\\\\\n",
       "\t 2 & b & 4\\\\\n",
       "\t 3 & c & 5\\\\\n",
       "\t 4 & d & 6\\\\\n",
       "\t 1 & a & 3\\\\\n",
       "\\end{tabular}\n"
      ],
      "text/markdown": [
       "\n",
       "nomedacoluna | col2 | col3 | \n",
       "|---|---|---|---|---|\n",
       "| 1 | a | 3 | \n",
       "| 2 | b | 4 | \n",
       "| 3 | c | 5 | \n",
       "| 4 | d | 6 | \n",
       "| 1 | a | 3 | \n",
       "\n",
       "\n"
      ],
      "text/plain": [
       "  nomedacoluna col2 col3\n",
       "1 1            a    3   \n",
       "2 2            b    4   \n",
       "3 3            c    5   \n",
       "4 4            d    6   \n",
       "5 1            a    3   "
      ]
     },
     "metadata": {},
     "output_type": "display_data"
    }
   ],
   "source": [
    "# concatenando linha\n",
    "df <- rbind(df, c(1, \"a\", 3))\n",
    "df"
   ]
  },
  {
   "cell_type": "code",
   "execution_count": 77,
   "metadata": {},
   "outputs": [
    {
     "name": "stderr",
     "output_type": "stream",
     "text": [
      "Warning message in `[<-.factor`(`*tmp*`, ri, value = \"z\"):\n",
      "\"invalid factor level, NA generated\""
     ]
    },
    {
     "data": {
      "text/html": [
       "<table>\n",
       "<thead><tr><th scope=col>nomedacoluna</th><th scope=col>col2</th><th scope=col>col3</th></tr></thead>\n",
       "<tbody>\n",
       "\t<tr><td>1 </td><td>a </td><td>3 </td></tr>\n",
       "\t<tr><td>2 </td><td>b </td><td>4 </td></tr>\n",
       "\t<tr><td>3 </td><td>c </td><td>5 </td></tr>\n",
       "\t<tr><td>4 </td><td>d </td><td>6 </td></tr>\n",
       "\t<tr><td>1 </td><td>a </td><td>3 </td></tr>\n",
       "\t<tr><td>1 </td><td>NA</td><td>4 </td></tr>\n",
       "</tbody>\n",
       "</table>\n"
      ],
      "text/latex": [
       "\\begin{tabular}{r|lll}\n",
       " nomedacoluna & col2 & col3\\\\\n",
       "\\hline\n",
       "\t 1  & a  & 3 \\\\\n",
       "\t 2  & b  & 4 \\\\\n",
       "\t 3  & c  & 5 \\\\\n",
       "\t 4  & d  & 6 \\\\\n",
       "\t 1  & a  & 3 \\\\\n",
       "\t 1  & NA & 4 \\\\\n",
       "\\end{tabular}\n"
      ],
      "text/markdown": [
       "\n",
       "nomedacoluna | col2 | col3 | \n",
       "|---|---|---|---|---|---|\n",
       "| 1  | a  | 3  | \n",
       "| 2  | b  | 4  | \n",
       "| 3  | c  | 5  | \n",
       "| 4  | d  | 6  | \n",
       "| 1  | a  | 3  | \n",
       "| 1  | NA | 4  | \n",
       "\n",
       "\n"
      ],
      "text/plain": [
       "  nomedacoluna col2 col3\n",
       "1 1            a    3   \n",
       "2 2            b    4   \n",
       "3 3            c    5   \n",
       "4 4            d    6   \n",
       "5 1            a    3   \n",
       "6 1            NA   4   "
      ]
     },
     "metadata": {},
     "output_type": "display_data"
    }
   ],
   "source": [
    "# não consegue adicionar \"z\" porque o fator da col2 só possui \"a\", \"b\", \"c\" e \"d\"\n",
    "rbind(df, c(1, \"z\", 4))"
   ]
  },
  {
   "cell_type": "code",
   "execution_count": 78,
   "metadata": {},
   "outputs": [
    {
     "data": {
      "text/html": [
       "<table>\n",
       "<thead><tr><th scope=col>nomedacoluna</th><th scope=col>col2</th><th scope=col>col3</th><th scope=col>col4</th></tr></thead>\n",
       "<tbody>\n",
       "\t<tr><td>1</td><td>a</td><td>3</td><td>1</td></tr>\n",
       "\t<tr><td>2</td><td>b</td><td>4</td><td>2</td></tr>\n",
       "\t<tr><td>3</td><td>c</td><td>5</td><td>3</td></tr>\n",
       "\t<tr><td>4</td><td>d</td><td>6</td><td>4</td></tr>\n",
       "\t<tr><td>1</td><td>a</td><td>3</td><td>5</td></tr>\n",
       "</tbody>\n",
       "</table>\n"
      ],
      "text/latex": [
       "\\begin{tabular}{r|llll}\n",
       " nomedacoluna & col2 & col3 & col4\\\\\n",
       "\\hline\n",
       "\t 1 & a & 3 & 1\\\\\n",
       "\t 2 & b & 4 & 2\\\\\n",
       "\t 3 & c & 5 & 3\\\\\n",
       "\t 4 & d & 6 & 4\\\\\n",
       "\t 1 & a & 3 & 5\\\\\n",
       "\\end{tabular}\n"
      ],
      "text/markdown": [
       "\n",
       "nomedacoluna | col2 | col3 | col4 | \n",
       "|---|---|---|---|---|\n",
       "| 1 | a | 3 | 1 | \n",
       "| 2 | b | 4 | 2 | \n",
       "| 3 | c | 5 | 3 | \n",
       "| 4 | d | 6 | 4 | \n",
       "| 1 | a | 3 | 5 | \n",
       "\n",
       "\n"
      ],
      "text/plain": [
       "  nomedacoluna col2 col3 col4\n",
       "1 1            a    3    1   \n",
       "2 2            b    4    2   \n",
       "3 3            c    5    3   \n",
       "4 4            d    6    4   \n",
       "5 1            a    3    5   "
      ]
     },
     "metadata": {},
     "output_type": "display_data"
    }
   ],
   "source": [
    "# concatenando coluna\n",
    "cbind(df, col4 = c(1, 2, 3, 4, 5))"
   ]
  },
  {
   "cell_type": "code",
   "execution_count": 79,
   "metadata": {},
   "outputs": [
    {
     "data": {
      "text/html": [
       "<table>\n",
       "<thead><tr><th scope=col>nomedacoluna</th><th scope=col>col2</th><th scope=col>col3</th><th scope=col>col4</th></tr></thead>\n",
       "<tbody>\n",
       "\t<tr><td>1</td><td>a</td><td>3</td><td>1</td></tr>\n",
       "\t<tr><td>2</td><td>b</td><td>4</td><td>2</td></tr>\n",
       "\t<tr><td>3</td><td>c</td><td>5</td><td>3</td></tr>\n",
       "\t<tr><td>4</td><td>d</td><td>6</td><td>4</td></tr>\n",
       "\t<tr><td>1</td><td>a</td><td>3</td><td>5</td></tr>\n",
       "</tbody>\n",
       "</table>\n"
      ],
      "text/latex": [
       "\\begin{tabular}{r|llll}\n",
       " nomedacoluna & col2 & col3 & col4\\\\\n",
       "\\hline\n",
       "\t 1 & a & 3 & 1\\\\\n",
       "\t 2 & b & 4 & 2\\\\\n",
       "\t 3 & c & 5 & 3\\\\\n",
       "\t 4 & d & 6 & 4\\\\\n",
       "\t 1 & a & 3 & 5\\\\\n",
       "\\end{tabular}\n"
      ],
      "text/markdown": [
       "\n",
       "nomedacoluna | col2 | col3 | col4 | \n",
       "|---|---|---|---|---|\n",
       "| 1 | a | 3 | 1 | \n",
       "| 2 | b | 4 | 2 | \n",
       "| 3 | c | 5 | 3 | \n",
       "| 4 | d | 6 | 4 | \n",
       "| 1 | a | 3 | 5 | \n",
       "\n",
       "\n"
      ],
      "text/plain": [
       "  nomedacoluna col2 col3 col4\n",
       "1 1            a    3    1   \n",
       "2 2            b    4    2   \n",
       "3 3            c    5    3   \n",
       "4 4            d    6    4   \n",
       "5 1            a    3    5   "
      ]
     },
     "metadata": {},
     "output_type": "display_data"
    }
   ],
   "source": [
    "# alternativamente\n",
    "df$col4 <- c(1, 2, 3, 4, 5)\n",
    "df"
   ]
  },
  {
   "cell_type": "markdown",
   "metadata": {},
   "source": [
    "## Operações entre estruturas de dados"
   ]
  },
  {
   "cell_type": "code",
   "execution_count": 80,
   "metadata": {},
   "outputs": [],
   "source": [
    "a <- c(1, 2, 3)\n",
    "b <- c(2, 3, 4)"
   ]
  },
  {
   "cell_type": "code",
   "execution_count": 81,
   "metadata": {},
   "outputs": [
    {
     "data": {
      "text/html": [
       "<ol class=list-inline>\n",
       "\t<li>3</li>\n",
       "\t<li>5</li>\n",
       "\t<li>7</li>\n",
       "</ol>\n"
      ],
      "text/latex": [
       "\\begin{enumerate*}\n",
       "\\item 3\n",
       "\\item 5\n",
       "\\item 7\n",
       "\\end{enumerate*}\n"
      ],
      "text/markdown": [
       "1. 3\n",
       "2. 5\n",
       "3. 7\n",
       "\n",
       "\n"
      ],
      "text/plain": [
       "[1] 3 5 7"
      ]
     },
     "metadata": {},
     "output_type": "display_data"
    }
   ],
   "source": [
    "a + b"
   ]
  },
  {
   "cell_type": "code",
   "execution_count": 82,
   "metadata": {},
   "outputs": [
    {
     "data": {
      "text/html": [
       "<table>\n",
       "<tbody>\n",
       "\t<tr><td> 7</td><td>15</td></tr>\n",
       "\t<tr><td>10</td><td>22</td></tr>\n",
       "</tbody>\n",
       "</table>\n"
      ],
      "text/latex": [
       "\\begin{tabular}{ll}\n",
       "\t  7 & 15\\\\\n",
       "\t 10 & 22\\\\\n",
       "\\end{tabular}\n"
      ],
      "text/markdown": [
       "\n",
       "|  7 | 15 | \n",
       "| 10 | 22 | \n",
       "\n",
       "\n"
      ],
      "text/plain": [
       "     [,1] [,2]\n",
       "[1,]  7   15  \n",
       "[2,] 10   22  "
      ]
     },
     "metadata": {},
     "output_type": "display_data"
    }
   ],
   "source": [
    "m1 <- matrix(c(1, 2, 3, 4), nrow = 2, ncol = 2)\n",
    "m2 <- matrix(c(1, 2, 3, 4), nrow = 2, ncol = 2)\n",
    "m1 %*% m2 # multiplicação de matrizes"
   ]
  },
  {
   "cell_type": "code",
   "execution_count": 83,
   "metadata": {},
   "outputs": [
    {
     "data": {
      "text/html": [
       "<table>\n",
       "<tbody>\n",
       "\t<tr><td>1 </td><td> 9</td></tr>\n",
       "\t<tr><td>4 </td><td>16</td></tr>\n",
       "</tbody>\n",
       "</table>\n"
      ],
      "text/latex": [
       "\\begin{tabular}{ll}\n",
       "\t 1  &  9\\\\\n",
       "\t 4  & 16\\\\\n",
       "\\end{tabular}\n"
      ],
      "text/markdown": [
       "\n",
       "| 1  |  9 | \n",
       "| 4  | 16 | \n",
       "\n",
       "\n"
      ],
      "text/plain": [
       "     [,1] [,2]\n",
       "[1,] 1     9  \n",
       "[2,] 4    16  "
      ]
     },
     "metadata": {},
     "output_type": "display_data"
    }
   ],
   "source": [
    "m1 * m2 # multiplicação elemento a elemento"
   ]
  },
  {
   "cell_type": "code",
   "execution_count": 84,
   "metadata": {},
   "outputs": [
    {
     "data": {
      "text/html": [
       "<ol class=list-inline>\n",
       "\t<li>6</li>\n",
       "\t<li>8</li>\n",
       "\t<li>10</li>\n",
       "\t<li>12</li>\n",
       "</ol>\n"
      ],
      "text/latex": [
       "\\begin{enumerate*}\n",
       "\\item 6\n",
       "\\item 8\n",
       "\\item 10\n",
       "\\item 12\n",
       "\\end{enumerate*}\n"
      ],
      "text/markdown": [
       "1. 6\n",
       "2. 8\n",
       "3. 10\n",
       "4. 12\n",
       "\n",
       "\n"
      ],
      "text/plain": [
       "[1]  6  8 10 12"
      ]
     },
     "metadata": {},
     "output_type": "display_data"
    }
   ],
   "source": [
    "df1 <- data.frame(\n",
    "    nomedacoluna = c(1, 2, 3, 4),\n",
    "    col2 = c(\"a\", \"b\", \"c\", \"d\"),\n",
    "    col3 = c(3, 4, 5, 6)\n",
    ")\n",
    "\n",
    "df2 <- data.frame(\n",
    "    nomedacoluna = c(1, 2, 3, 4),\n",
    "    col2 = c(\"a\", \"b\", \"c\", \"d\"),\n",
    "    col3 = c(3, 4, 5, 6)\n",
    ")\n",
    "df1$col3 + df2$col3"
   ]
  },
  {
   "cell_type": "code",
   "execution_count": 85,
   "metadata": {},
   "outputs": [
    {
     "name": "stderr",
     "output_type": "stream",
     "text": [
      "Warning message in Ops.factor(left, right):\n",
      "\"'+' not meaningful for factors\""
     ]
    },
    {
     "data": {
      "text/html": [
       "<table>\n",
       "<thead><tr><th scope=col>nomedacoluna</th><th scope=col>col2</th><th scope=col>col3</th></tr></thead>\n",
       "<tbody>\n",
       "\t<tr><td>2 </td><td>NA</td><td> 6</td></tr>\n",
       "\t<tr><td>4 </td><td>NA</td><td> 8</td></tr>\n",
       "\t<tr><td>6 </td><td>NA</td><td>10</td></tr>\n",
       "\t<tr><td>8 </td><td>NA</td><td>12</td></tr>\n",
       "</tbody>\n",
       "</table>\n"
      ],
      "text/latex": [
       "\\begin{tabular}{r|lll}\n",
       " nomedacoluna & col2 & col3\\\\\n",
       "\\hline\n",
       "\t 2  & NA &  6\\\\\n",
       "\t 4  & NA &  8\\\\\n",
       "\t 6  & NA & 10\\\\\n",
       "\t 8  & NA & 12\\\\\n",
       "\\end{tabular}\n"
      ],
      "text/markdown": [
       "\n",
       "nomedacoluna | col2 | col3 | \n",
       "|---|---|---|---|\n",
       "| 2  | NA |  6 | \n",
       "| 4  | NA |  8 | \n",
       "| 6  | NA | 10 | \n",
       "| 8  | NA | 12 | \n",
       "\n",
       "\n"
      ],
      "text/plain": [
       "  nomedacoluna col2 col3\n",
       "1 2            NA    6  \n",
       "2 4            NA    8  \n",
       "3 6            NA   10  \n",
       "4 8            NA   12  "
      ]
     },
     "metadata": {},
     "output_type": "display_data"
    }
   ],
   "source": [
    "# não consegue somar col2 pois não é numérica\n",
    "df1 + df2"
   ]
  },
  {
   "cell_type": "markdown",
   "metadata": {},
   "source": [
    "## comando which"
   ]
  },
  {
   "cell_type": "code",
   "execution_count": 86,
   "metadata": {},
   "outputs": [
    {
     "name": "stdout",
     "output_type": "stream",
     "text": [
      "[1] 3 3\n",
      "[1] 3 3\n"
     ]
    }
   ],
   "source": [
    "var <- c(4, 3, 1, 5, 3)\n",
    "print(var[var == 3])\n",
    "print(var[which(var == 3)])"
   ]
  },
  {
   "cell_type": "markdown",
   "metadata": {},
   "source": [
    "## Concatenando listas e vetores"
   ]
  },
  {
   "cell_type": "code",
   "execution_count": 87,
   "metadata": {},
   "outputs": [
    {
     "name": "stdout",
     "output_type": "stream",
     "text": [
      "[[1]]\n",
      "[1] 1\n",
      "\n",
      "[[2]]\n",
      "[1] 2\n",
      "\n",
      "[[3]]\n",
      "[1] 3\n",
      "\n",
      "[[4]]\n",
      "[1] 4\n",
      "\n",
      "[[5]]\n",
      "[1] 5\n",
      "\n",
      "[[6]]\n",
      "[1] 6\n",
      "\n"
     ]
    }
   ],
   "source": [
    "# comando c() concatena listas e vetores\n",
    "a <- list(1, 2, 3)\n",
    "b <- list(4, 5, 6)\n",
    "print(c(a, b))"
   ]
  },
  {
   "cell_type": "markdown",
   "metadata": {},
   "source": [
    "## Comando length"
   ]
  },
  {
   "cell_type": "code",
   "execution_count": 88,
   "metadata": {},
   "outputs": [
    {
     "data": {
      "text/html": [
       "3"
      ],
      "text/latex": [
       "3"
      ],
      "text/markdown": [
       "3"
      ],
      "text/plain": [
       "[1] 3"
      ]
     },
     "metadata": {},
     "output_type": "display_data"
    }
   ],
   "source": [
    "length(c(1, 2, 3))"
   ]
  },
  {
   "cell_type": "code",
   "execution_count": 89,
   "metadata": {},
   "outputs": [
    {
     "data": {
      "text/html": [
       "4"
      ],
      "text/latex": [
       "4"
      ],
      "text/markdown": [
       "4"
      ],
      "text/plain": [
       "[1] 4"
      ]
     },
     "metadata": {},
     "output_type": "display_data"
    }
   ],
   "source": [
    "length(df)"
   ]
  },
  {
   "cell_type": "code",
   "execution_count": 90,
   "metadata": {},
   "outputs": [
    {
     "data": {
      "text/html": [
       "<ol class=list-inline>\n",
       "\t<li>5</li>\n",
       "\t<li>4</li>\n",
       "</ol>\n"
      ],
      "text/latex": [
       "\\begin{enumerate*}\n",
       "\\item 5\n",
       "\\item 4\n",
       "\\end{enumerate*}\n"
      ],
      "text/markdown": [
       "1. 5\n",
       "2. 4\n",
       "\n",
       "\n"
      ],
      "text/plain": [
       "[1] 5 4"
      ]
     },
     "metadata": {},
     "output_type": "display_data"
    }
   ],
   "source": [
    "dim(df)"
   ]
  },
  {
   "cell_type": "code",
   "execution_count": 91,
   "metadata": {},
   "outputs": [
    {
     "data": {
      "text/html": [
       "0"
      ],
      "text/latex": [
       "0"
      ],
      "text/markdown": [
       "0"
      ],
      "text/plain": [
       "[1] 0"
      ]
     },
     "metadata": {},
     "output_type": "display_data"
    }
   ],
   "source": [
    "length(NULL)"
   ]
  },
  {
   "cell_type": "code",
   "execution_count": 92,
   "metadata": {},
   "outputs": [
    {
     "data": {
      "text/html": [
       "0"
      ],
      "text/latex": [
       "0"
      ],
      "text/markdown": [
       "0"
      ],
      "text/plain": [
       "[1] 0"
      ]
     },
     "metadata": {},
     "output_type": "display_data"
    }
   ],
   "source": [
    "length(character())"
   ]
  },
  {
   "cell_type": "markdown",
   "metadata": {},
   "source": [
    "# Condicionais"
   ]
  },
  {
   "cell_type": "code",
   "execution_count": 93,
   "metadata": {},
   "outputs": [
    {
     "name": "stdout",
     "output_type": "stream",
     "text": [
      "[1] \"executa\"\n"
     ]
    }
   ],
   "source": [
    "if(TRUE) {\n",
    "    print(\"executa\")\n",
    "}\n",
    "\n",
    "if(FALSE) {\n",
    "    print(\"nao executa\")\n",
    "}"
   ]
  },
  {
   "cell_type": "code",
   "execution_count": 94,
   "metadata": {},
   "outputs": [
    {
     "name": "stdout",
     "output_type": "stream",
     "text": [
      "[1] \"so uma linha\"\n"
     ]
    }
   ],
   "source": [
    "if(TRUE)\n",
    "    print(\"so uma linha\")"
   ]
  },
  {
   "cell_type": "code",
   "execution_count": 95,
   "metadata": {},
   "outputs": [
    {
     "name": "stdout",
     "output_type": "stream",
     "text": [
      "[1] \"executa\"\n"
     ]
    }
   ],
   "source": [
    "if(FALSE)\n",
    "    \n",
    "    print(\"nao executa\")\n",
    "    print(\"executa\")"
   ]
  },
  {
   "cell_type": "code",
   "execution_count": 96,
   "metadata": {},
   "outputs": [
    {
     "name": "stdout",
     "output_type": "stream",
     "text": [
      "[1] TRUE\n",
      "[1] FALSE\n",
      "[1] FALSE\n",
      "[1] TRUE\n",
      "[1] TRUE\n",
      "[1] FALSE\n"
     ]
    }
   ],
   "source": [
    "# Comparações\n",
    "print(1 < 2)\n",
    "print(1 > 2)\n",
    "print(1 >= 2)\n",
    "print(1 <= 1)\n",
    "print(1 == 1)\n",
    "print(1 != 1)"
   ]
  },
  {
   "cell_type": "code",
   "execution_count": 97,
   "metadata": {},
   "outputs": [
    {
     "name": "stdout",
     "output_type": "stream",
     "text": [
      "[1] FALSE\n",
      "[1] TRUE\n",
      "[1] FALSE\n"
     ]
    }
   ],
   "source": [
    "print(TRUE && FALSE) # and\n",
    "print(TRUE || FALSE) # or\n",
    "print(!TRUE)"
   ]
  },
  {
   "cell_type": "code",
   "execution_count": 98,
   "metadata": {},
   "outputs": [
    {
     "name": "stdout",
     "output_type": "stream",
     "text": [
      "[1] \"else\"\n"
     ]
    }
   ],
   "source": [
    "a <- 1\n",
    "b <- 2\n",
    "if(a >= b && a == b) {\n",
    "    print(\"if\")\n",
    "} else if(a > b) {\n",
    "    print(\"else if\")\n",
    "} else {\n",
    "    print(\"else\")\n",
    "}"
   ]
  },
  {
   "cell_type": "markdown",
   "metadata": {},
   "source": [
    "# Loops"
   ]
  },
  {
   "cell_type": "markdown",
   "metadata": {},
   "source": [
    "## While"
   ]
  },
  {
   "cell_type": "code",
   "execution_count": 99,
   "metadata": {},
   "outputs": [
    {
     "name": "stdout",
     "output_type": "stream",
     "text": [
      "[1] 0\n",
      "[1] 1\n",
      "[1] 2\n",
      "[1] 3\n",
      "[1] 4\n",
      "[1] 5\n",
      "[1] 6\n",
      "[1] 7\n",
      "[1] 8\n",
      "[1] 9\n"
     ]
    }
   ],
   "source": [
    "i <- 0\n",
    "while(i < 10) {\n",
    "    print(i)\n",
    "    i = i+1\n",
    "}"
   ]
  },
  {
   "cell_type": "markdown",
   "metadata": {},
   "source": [
    "## For"
   ]
  },
  {
   "cell_type": "markdown",
   "metadata": {},
   "source": [
    "Itera em um vetor ou lista"
   ]
  },
  {
   "cell_type": "code",
   "execution_count": 100,
   "metadata": {},
   "outputs": [
    {
     "name": "stdout",
     "output_type": "stream",
     "text": [
      " [1]  1  2  3  4  5  6  7  8  9 10\n"
     ]
    }
   ],
   "source": [
    "print(1:10)"
   ]
  },
  {
   "cell_type": "code",
   "execution_count": 119,
   "metadata": {},
   "outputs": [
    {
     "name": "stdout",
     "output_type": "stream",
     "text": [
      "[1] 1\n",
      "[1] 2\n",
      "[1] 3\n",
      "[1] 4\n",
      "[1] 5\n"
     ]
    }
   ],
   "source": [
    "for (i in 1:5) {\n",
    "    print(i)\n",
    "}"
   ]
  },
  {
   "cell_type": "code",
   "execution_count": 101,
   "metadata": {},
   "outputs": [
    {
     "name": "stdout",
     "output_type": "stream",
     "text": [
      "[1] 3\n",
      "[1] 4\n",
      "[1] 7\n",
      "[1] 9\n"
     ]
    }
   ],
   "source": [
    "a = c(3, 4, 7, 9)\n",
    "for(i in a) {\n",
    "    print(i)\n",
    "}"
   ]
  },
  {
   "cell_type": "markdown",
   "metadata": {},
   "source": [
    "# Funções"
   ]
  },
  {
   "cell_type": "code",
   "execution_count": 102,
   "metadata": {},
   "outputs": [
    {
     "data": {
      "text/html": [
       "8"
      ],
      "text/latex": [
       "8"
      ],
      "text/markdown": [
       "8"
      ],
      "text/plain": [
       "[1] 8"
      ]
     },
     "metadata": {},
     "output_type": "display_data"
    }
   ],
   "source": [
    "f1 <- function(a, b = 2) {\n",
    "    a^b\n",
    "}\n",
    "f1(b = 3, 2)"
   ]
  },
  {
   "cell_type": "code",
   "execution_count": 103,
   "metadata": {},
   "outputs": [
    {
     "data": {
      "text/html": [
       "8"
      ],
      "text/latex": [
       "8"
      ],
      "text/markdown": [
       "8"
      ],
      "text/plain": [
       "[1] 8"
      ]
     },
     "metadata": {},
     "output_type": "display_data"
    }
   ],
   "source": [
    "f2<- function(a, b) \n",
    "    a^b\n",
    "f2(2, 3)"
   ]
  },
  {
   "cell_type": "markdown",
   "metadata": {},
   "source": [
    "# Environments"
   ]
  },
  {
   "cell_type": "markdown",
   "metadata": {},
   "source": [
    "## Global Environment"
   ]
  },
  {
   "cell_type": "markdown",
   "metadata": {},
   "source": [
    "global environment é o workspace do usuário"
   ]
  },
  {
   "cell_type": "code",
   "execution_count": 121,
   "metadata": {},
   "outputs": [
    {
     "data": {
      "text/plain": [
       "<environment: R_GlobalEnv>"
      ]
     },
     "metadata": {},
     "output_type": "display_data"
    }
   ],
   "source": [
    "# retorna environment global\n",
    "globalenv()"
   ]
  },
  {
   "cell_type": "code",
   "execution_count": 123,
   "metadata": {},
   "outputs": [
    {
     "data": {
      "text/html": [
       "<ol class=list-inline>\n",
       "\t<li>'a'</li>\n",
       "\t<li>'Arenstorf'</li>\n",
       "\t<li>'b'</li>\n",
       "\t<li>'df'</li>\n",
       "\t<li>'df1'</li>\n",
       "\t<li>'df2'</li>\n",
       "\t<li>'f'</li>\n",
       "\t<li>'f1'</li>\n",
       "\t<li>'f2'</li>\n",
       "\t<li>'i'</li>\n",
       "\t<li>'m'</li>\n",
       "\t<li>'m1'</li>\n",
       "\t<li>'m2'</li>\n",
       "\t<li>'mu1'</li>\n",
       "\t<li>'mu2'</li>\n",
       "\t<li>'out'</li>\n",
       "\t<li>'times'</li>\n",
       "\t<li>'var'</li>\n",
       "\t<li>'yini'</li>\n",
       "</ol>\n"
      ],
      "text/latex": [
       "\\begin{enumerate*}\n",
       "\\item 'a'\n",
       "\\item 'Arenstorf'\n",
       "\\item 'b'\n",
       "\\item 'df'\n",
       "\\item 'df1'\n",
       "\\item 'df2'\n",
       "\\item 'f'\n",
       "\\item 'f1'\n",
       "\\item 'f2'\n",
       "\\item 'i'\n",
       "\\item 'm'\n",
       "\\item 'm1'\n",
       "\\item 'm2'\n",
       "\\item 'mu1'\n",
       "\\item 'mu2'\n",
       "\\item 'out'\n",
       "\\item 'times'\n",
       "\\item 'var'\n",
       "\\item 'yini'\n",
       "\\end{enumerate*}\n"
      ],
      "text/markdown": [
       "1. 'a'\n",
       "2. 'Arenstorf'\n",
       "3. 'b'\n",
       "4. 'df'\n",
       "5. 'df1'\n",
       "6. 'df2'\n",
       "7. 'f'\n",
       "8. 'f1'\n",
       "9. 'f2'\n",
       "10. 'i'\n",
       "11. 'm'\n",
       "12. 'm1'\n",
       "13. 'm2'\n",
       "14. 'mu1'\n",
       "15. 'mu2'\n",
       "16. 'out'\n",
       "17. 'times'\n",
       "18. 'var'\n",
       "19. 'yini'\n",
       "\n",
       "\n"
      ],
      "text/plain": [
       " [1] \"a\"         \"Arenstorf\" \"b\"         \"df\"        \"df1\"       \"df2\"      \n",
       " [7] \"f\"         \"f1\"        \"f2\"        \"i\"         \"m\"         \"m1\"       \n",
       "[13] \"m2\"        \"mu1\"       \"mu2\"       \"out\"       \"times\"     \"var\"      \n",
       "[19] \"yini\"     "
      ]
     },
     "metadata": {},
     "output_type": "display_data"
    }
   ],
   "source": [
    "ls(globalenv()) # lista todas as variaveis no environment global"
   ]
  },
  {
   "cell_type": "markdown",
   "metadata": {},
   "source": [
    "## Environments de funções"
   ]
  },
  {
   "cell_type": "code",
   "execution_count": null,
   "metadata": {},
   "outputs": [],
   "source": [
    "f <- function() {\n",
    "    a <- 1\n",
    "    print(environment()) # print do environement da função\n",
    "    print(ls(environment())) # listando variaveis no environment da função\n",
    "}"
   ]
  },
  {
   "cell_type": "markdown",
   "metadata": {},
   "source": [
    "## Hierarquia de Environments"
   ]
  },
  {
   "cell_type": "code",
   "execution_count": null,
   "metadata": {},
   "outputs": [],
   "source": [
    "# Função f está no environment global\n",
    "f <- function() {\n",
    "    print(parent.env(environment()))\n",
    "}\n",
    "f()"
   ]
  },
  {
   "cell_type": "code",
   "execution_count": 124,
   "metadata": {},
   "outputs": [
    {
     "data": {
      "text/plain": [
       "<environment: package:deSolve>\n",
       "attr(,\"name\")\n",
       "[1] \"package:deSolve\"\n",
       "attr(,\"path\")\n",
       "[1] \"D:/Bruno/Documentos/R/win-library/3.5/deSolve\""
      ]
     },
     "metadata": {},
     "output_type": "display_data"
    }
   ],
   "source": [
    "# environment de pacotes são carregados hierarquicamente\n",
    "parent.env(globalenv())"
   ]
  },
  {
   "cell_type": "code",
   "execution_count": 128,
   "metadata": {},
   "outputs": [
    {
     "data": {
      "text/plain": [
       "<environment: base>"
      ]
     },
     "metadata": {},
     "output_type": "display_data"
    }
   ],
   "source": [
    "baseenv() # environemnt base, onde ficam funções e valores básicos do R"
   ]
  },
  {
   "cell_type": "code",
   "execution_count": 131,
   "metadata": {},
   "outputs": [
    {
     "data": {
      "text/plain": [
       "<environment: R_EmptyEnv>"
      ]
     },
     "metadata": {},
     "output_type": "display_data"
    }
   ],
   "source": [
    "# parent do base env é vazio (não contém nada)\n",
    "parent.env(baseenv())"
   ]
  },
  {
   "cell_type": "markdown",
   "metadata": {},
   "source": [
    "## Assign com seta dupla"
   ]
  },
  {
   "cell_type": "markdown",
   "metadata": {},
   "source": [
    "Atribui variável hierarquicamente (bottom up).<br>\n",
    "Se não encontrar nenhuma variável, atribui no environment global"
   ]
  },
  {
   "cell_type": "code",
   "execution_count": 133,
   "metadata": {},
   "outputs": [
    {
     "name": "stdout",
     "output_type": "stream",
     "text": [
      "[1] \"environment f1: a =  3\"\n",
      "[1] \"environment global: a =  1\"\n"
     ]
    }
   ],
   "source": [
    "a <- 1\n",
    "f1 <- function() {\n",
    "    a <- 2\n",
    "    \n",
    "    f2 <- function() {\n",
    "        # \"a\" recebe 3 no environment da função 1\n",
    "        # \"a\" no environment global não é alterado\n",
    "        a <<- 3 \n",
    "    }\n",
    "    f2()\n",
    "    print(paste(\"environment f1: a = \", a))\n",
    "}\n",
    "f1()\n",
    "print(paste(\"environment global: a = \", a))"
   ]
  },
  {
   "cell_type": "code",
   "execution_count": 136,
   "metadata": {},
   "outputs": [
    {
     "name": "stdout",
     "output_type": "stream",
     "text": [
      "[1] 2\n"
     ]
    }
   ],
   "source": [
    "f1 <- function() {\n",
    "    # se a variavel não é encontrada em nenhum environment\n",
    "    # de hierarquia superior, a atribuição com seta dupla\n",
    "    # ocorre no environemnt global\n",
    "    variavel_nao_existente <<- 2\n",
    "}\n",
    "f1()\n",
    "print(variavel_nao_existente)"
   ]
  },
  {
   "cell_type": "markdown",
   "metadata": {},
   "source": [
    "# Variáveis Aleatórias"
   ]
  },
  {
   "cell_type": "code",
   "execution_count": 105,
   "metadata": {},
   "outputs": [
    {
     "name": "stdout",
     "output_type": "stream",
     "text": [
      "[1] 7.536696 4.159785 5.805027 5.296639 6.164295\n"
     ]
    }
   ],
   "source": [
    "# distribuição uniforme\n",
    "print(runif(n = 5, min = 3, max = 9))"
   ]
  },
  {
   "cell_type": "code",
   "execution_count": 106,
   "metadata": {},
   "outputs": [
    {
     "name": "stdout",
     "output_type": "stream",
     "text": [
      "[1] -0.2024050 -0.9903450 -1.8178560 -1.8432988 -0.1324646\n"
     ]
    }
   ],
   "source": [
    "# distribuição normal\n",
    "print(rnorm(n = 5, mean = 0, sd = 1))"
   ]
  },
  {
   "cell_type": "code",
   "execution_count": 107,
   "metadata": {},
   "outputs": [
    {
     "name": "stdout",
     "output_type": "stream",
     "text": [
      "[1] 3 2 1\n"
     ]
    }
   ],
   "source": [
    "# Amostrando 5 elementos da lista (sem repetição de elementos)\n",
    "print(sample(1:5, 3))"
   ]
  },
  {
   "cell_type": "code",
   "execution_count": 108,
   "metadata": {},
   "outputs": [
    {
     "name": "stdout",
     "output_type": "stream",
     "text": [
      " [1] 4 4 5 3 3 2 5 1 2 3\n"
     ]
    }
   ],
   "source": [
    "# Amostrando 5 elementos da lista (com repetição de elementos)\n",
    "print(sample(1:5, 10, replace = T))"
   ]
  },
  {
   "cell_type": "markdown",
   "metadata": {},
   "source": [
    "# Plots"
   ]
  },
  {
   "cell_type": "code",
   "execution_count": 109,
   "metadata": {},
   "outputs": [],
   "source": [
    "# estou fazendo isso apenas p/ a plot não ficar muito grande\n",
    "# não é necessário quando utilizando RStudio\n",
    "options(repr.plot.width=5, repr.plot.height=5)"
   ]
  },
  {
   "cell_type": "code",
   "execution_count": 110,
   "metadata": {},
   "outputs": [
    {
     "data": {
      "image/png": "[encoded data removed]",
      "text/plain": [
       "plot without title"
      ]
     },
     "metadata": {},
     "output_type": "display_data"
    }
   ],
   "source": [
    "plot(runif(20, 0, 10))"
   ]
  },
  {
   "cell_type": "code",
   "execution_count": 137,
   "metadata": {},
   "outputs": [
    {
     "data": {
      "image/png": "[encoded data removed]",
      "text/plain": [
       "plot without title"
      ]
     },
     "metadata": {},
     "output_type": "display_data"
    }
   ],
   "source": [
    "# tipos diferentes de plots\n",
    "plot(runif(20, 0, 10), type = \"l\") "
   ]
  },
  {
   "cell_type": "code",
   "execution_count": 113,
   "metadata": {},
   "outputs": [
    {
     "data": {
      "image/png": "[encoded data removed]",
      "text/plain": [
       "plot without title"
      ]
     },
     "metadata": {},
     "output_type": "display_data"
    },
    {
     "data": {
      "image/png": "[encoded data removed]",
      "text/plain": [
       "plot without title"
      ]
     },
     "metadata": {},
     "output_type": "display_data"
    }
   ],
   "source": [
    "# duas plots seguidas aparecem em gráficos separados\n",
    "plot(runif(20, 0, 10), type = \"l\", col = \"blue\")\n",
    "plot(runif(20, 0, 10), type = \"l\", col = \"blue\")"
   ]
  },
  {
   "cell_type": "code",
   "execution_count": 112,
   "metadata": {},
   "outputs": [
    {
     "data": {
      "image/png": "[encoded data removed]",
      "text/plain": [
       "plot without title"
      ]
     },
     "metadata": {},
     "output_type": "display_data"
    }
   ],
   "source": [
    "# adicionando mais de uma plot no meus gráfico\n",
    "plot(runif(20, 0, 10), type = \"l\", col = \"blue\", ylim = c(0, 30))\n",
    "lines(runif(20, 0, 30), col = \"red\")\n",
    "points(runif(20, 0, 10), col = \"green\")"
   ]
  },
  {
   "cell_type": "markdown",
   "metadata": {},
   "source": [
    "# Resolvendo ODEs em R"
   ]
  },
  {
   "cell_type": "code",
   "execution_count": 114,
   "metadata": {},
   "outputs": [],
   "source": [
    "library(deSolve)"
   ]
  },
  {
   "cell_type": "markdown",
   "metadata": {},
   "source": [
    "Modelo Arenstorf do livro \"Solving Differential Equations in R\"."
   ]
  },
  {
   "cell_type": "code",
   "execution_count": 115,
   "metadata": {},
   "outputs": [
    {
     "data": {
      "image/png": "[encoded data removed]",
      "text/plain": [
       "plot without title"
      ]
     },
     "metadata": {},
     "output_type": "display_data"
    },
    {
     "data": {
      "image/png": "[encoded data removed]",
      "text/plain": [
       "Plot with title \"dy2\""
      ]
     },
     "metadata": {},
     "output_type": "display_data"
    }
   ],
   "source": [
    "mu1 <- 0.012277471\n",
    "mu2 <- 1 - mu1\n",
    "yini <- c(y1 = 0.994, y2 = 0,\n",
    "dy1 = 0, dy2 = -2.00158510637908252240537862224)\n",
    "\n",
    "Arenstorf <- function(t, y, p) {\n",
    "    D1 <- ((y[1] + mu1)^2 + y[2]^2)^(3/2)\n",
    "    D2 <- ((y[1] - mu2)^2 + y[2]^2)^(3/2)\n",
    "    dy1 <- y[3]\n",
    "    dy2 <- y[4]\n",
    "    dy3 <- y[1] + 2*y[4] - mu2*(y[1]+mu1)/D1 - mu1*(y[1]-mu2)/D2\n",
    "    dy4 <- y[2] - 2*y[3] - mu2*y[2]/D1 - mu1*y[2]/D2\n",
    "    return(list( c(dy1, dy2, dy3, dy4) ))\n",
    "}\n",
    "\n",
    "times <- seq(from = 0, to = 18, by = 0.01)\n",
    "\n",
    "out <- ode(func = Arenstorf, \n",
    "           y = yini, times = times,\n",
    "           parms = 0, method = \"ode45\")\n",
    "\n",
    "plot(out[,c(\"y1\", \"y2\")], type = \"l\")\n",
    "plot(out)"
   ]
  },
  {
   "cell_type": "code",
   "execution_count": 116,
   "metadata": {},
   "outputs": [
    {
     "data": {
      "text/html": [
       "<table>\n",
       "<thead><tr><th scope=col>time</th><th scope=col>y1</th><th scope=col>y2</th><th scope=col>dy1</th><th scope=col>dy2</th></tr></thead>\n",
       "<tbody>\n",
       "\t<tr><td>0.00        </td><td>0.9940000   </td><td> 0.00000000 </td><td> 0.0000000  </td><td>-2.001585106</td></tr>\n",
       "\t<tr><td>0.01        </td><td>0.9861221   </td><td>-0.01419898 </td><td>-0.9983320  </td><td>-0.903572884</td></tr>\n",
       "\t<tr><td>0.02        </td><td>0.9765690   </td><td>-0.02112413 </td><td>-0.9082996  </td><td>-0.545820594</td></tr>\n",
       "\t<tr><td>0.03        </td><td>0.9678843   </td><td>-0.02575336 </td><td>-0.8331598  </td><td>-0.396207894</td></tr>\n",
       "\t<tr><td>0.04        </td><td>0.9598318   </td><td>-0.02924944 </td><td>-0.7802489  </td><td>-0.309364435</td></tr>\n",
       "\t<tr><td>0.05        </td><td>0.9522331   </td><td>-0.03202993 </td><td>-0.7413253  </td><td>-0.249900638</td></tr>\n",
       "\t<tr><td>0.06        </td><td>0.9449755   </td><td>-0.03429534 </td><td>-0.7114173  </td><td>-0.205004660</td></tr>\n",
       "\t<tr><td>0.07        </td><td>0.9379844   </td><td>-0.03615896 </td><td>-0.6876469  </td><td>-0.168871905</td></tr>\n",
       "\t<tr><td>0.08        </td><td>0.9312080   </td><td>-0.03769174 </td><td>-0.6682600  </td><td>-0.138467450</td></tr>\n",
       "\t<tr><td>0.09        </td><td>0.9246084   </td><td>-0.03894149 </td><td>-0.6521284  </td><td>-0.112038709</td></tr>\n",
       "\t<tr><td>0.10        </td><td>0.9181571   </td><td>-0.03994210 </td><td>-0.6384920  </td><td>-0.088496748</td></tr>\n",
       "\t<tr><td>0.11        </td><td>0.9118320   </td><td>-0.04071864 </td><td>-0.6268192  </td><td>-0.067125858</td></tr>\n",
       "\t<tr><td>0.12        </td><td>0.9056155   </td><td>-0.04129020 </td><td>-0.6167254  </td><td>-0.047434200</td></tr>\n",
       "\t<tr><td>0.13        </td><td>0.8994932   </td><td>-0.04167174 </td><td>-0.6079257  </td><td>-0.029071323</td></tr>\n",
       "\t<tr><td>0.14        </td><td>0.8934534   </td><td>-0.04187519 </td><td>-0.6002037  </td><td>-0.011779924</td></tr>\n",
       "\t<tr><td>0.15        </td><td>0.8874861   </td><td>-0.04191026 </td><td>-0.5933920  </td><td> 0.004633742</td></tr>\n",
       "\t<tr><td>0.16        </td><td>0.8815830   </td><td>-0.04178494 </td><td>-0.5873591  </td><td> 0.020318731</td></tr>\n",
       "\t<tr><td>0.17        </td><td>0.8757367   </td><td>-0.04150592 </td><td>-0.5820001  </td><td> 0.035391872</td></tr>\n",
       "\t<tr><td>0.18        </td><td>0.8699410   </td><td>-0.04107883 </td><td>-0.5772304  </td><td> 0.049946218</td></tr>\n",
       "\t<tr><td>0.19        </td><td>0.8641903   </td><td>-0.04050847 </td><td>-0.5729810  </td><td> 0.064056948</td></tr>\n",
       "\t<tr><td>0.20        </td><td>0.8584798   </td><td>-0.03979897 </td><td>-0.5691951  </td><td> 0.077785557</td></tr>\n",
       "\t<tr><td>0.21        </td><td>0.8528051   </td><td>-0.03895387 </td><td>-0.5658256  </td><td> 0.091182909</td></tr>\n",
       "\t<tr><td>0.22        </td><td>0.8471621   </td><td>-0.03797627 </td><td>-0.5628333  </td><td> 0.104291485</td></tr>\n",
       "\t<tr><td>0.23        </td><td>0.8415472   </td><td>-0.03686888 </td><td>-0.5601851  </td><td> 0.117147078</td></tr>\n",
       "\t<tr><td>0.24        </td><td>0.8359573   </td><td>-0.03563407 </td><td>-0.5578533  </td><td> 0.129780075</td></tr>\n",
       "\t<tr><td>0.25        </td><td>0.8303892   </td><td>-0.03427393 </td><td>-0.5558144  </td><td> 0.142216451</td></tr>\n",
       "\t<tr><td>0.26        </td><td>0.8248401   </td><td>-0.03279032 </td><td>-0.5540484  </td><td> 0.154478543</td></tr>\n",
       "\t<tr><td>0.27        </td><td>0.8193074   </td><td>-0.03118488 </td><td>-0.5525384  </td><td> 0.166585657</td></tr>\n",
       "\t<tr><td>0.28        </td><td>0.8137885   </td><td>-0.02945907 </td><td>-0.5512701  </td><td> 0.178554551</td></tr>\n",
       "\t<tr><td>0.29        </td><td>0.8082812   </td><td>-0.02761420 </td><td>-0.5502313  </td><td> 0.190399823</td></tr>\n",
       "\t<tr><td>...</td><td>...</td><td>...</td><td>...</td><td>...</td></tr>\n",
       "\t<tr><td>17.71     </td><td>0.6044446 </td><td>0.1094063 </td><td>-0.6418437</td><td>0.5696105 </td></tr>\n",
       "\t<tr><td>17.72     </td><td>0.5979926 </td><td>0.1151487 </td><td>-0.6485959</td><td>0.5788543 </td></tr>\n",
       "\t<tr><td>17.73     </td><td>0.5914717 </td><td>0.1209828 </td><td>-0.6556359</td><td>0.5879352 </td></tr>\n",
       "\t<tr><td>17.74     </td><td>0.5848789 </td><td>0.1269069 </td><td>-0.6629688</td><td>0.5968402 </td></tr>\n",
       "\t<tr><td>17.75     </td><td>0.5782114 </td><td>0.1329190 </td><td>-0.6705989</td><td>0.6055556 </td></tr>\n",
       "\t<tr><td>17.76     </td><td>0.5714660 </td><td>0.1390173 </td><td>-0.6785305</td><td>0.6140668 </td></tr>\n",
       "\t<tr><td>17.77     </td><td>0.5646397 </td><td>0.1451996 </td><td>-0.6867672</td><td>0.6223585 </td></tr>\n",
       "\t<tr><td>17.78     </td><td>0.5577296 </td><td>0.1514637 </td><td>-0.6953122</td><td>0.6304144 </td></tr>\n",
       "\t<tr><td>17.79     </td><td>0.5507325 </td><td>0.1578071 </td><td>-0.7041680</td><td>0.6382176 </td></tr>\n",
       "\t<tr><td>17.80     </td><td>0.5436452 </td><td>0.1642271 </td><td>-0.7133365</td><td>0.6457502 </td></tr>\n",
       "\t<tr><td>17.81     </td><td>0.5364647 </td><td>0.1707211 </td><td>-0.7228187</td><td>0.6529937 </td></tr>\n",
       "\t<tr><td>17.82     </td><td>0.5291878 </td><td>0.1772860 </td><td>-0.7326147</td><td>0.6599286 </td></tr>\n",
       "\t<tr><td>17.83     </td><td>0.5218113 </td><td>0.1839186 </td><td>-0.7427237</td><td>0.6665348 </td></tr>\n",
       "\t<tr><td>17.84     </td><td>0.5143323 </td><td>0.1906155 </td><td>-0.7531436</td><td>0.6727915 </td></tr>\n",
       "\t<tr><td>17.85     </td><td>0.5067474 </td><td>0.1973732 </td><td>-0.7638712</td><td>0.6786771 </td></tr>\n",
       "\t<tr><td>17.86     </td><td>0.4990538 </td><td>0.2041877 </td><td>-0.7749021</td><td>0.6841694 </td></tr>\n",
       "\t<tr><td>17.87     </td><td>0.4912484 </td><td>0.2110552 </td><td>-0.7862302</td><td>0.6892459 </td></tr>\n",
       "\t<tr><td>17.88     </td><td>0.4833283 </td><td>0.2179712 </td><td>-0.7978478</td><td>0.6938832 </td></tr>\n",
       "\t<tr><td>17.89     </td><td>0.4752905 </td><td>0.2249313 </td><td>-0.8097457</td><td>0.6980581 </td></tr>\n",
       "\t<tr><td>17.90     </td><td>0.4671324 </td><td>0.2319307 </td><td>-0.8219128</td><td>0.7017468 </td></tr>\n",
       "\t<tr><td>17.91     </td><td>0.4588514 </td><td>0.2389645 </td><td>-0.8343360</td><td>0.7049254 </td></tr>\n",
       "\t<tr><td>17.92     </td><td>0.4504449 </td><td>0.2460275 </td><td>-0.8470001</td><td>0.7075703 </td></tr>\n",
       "\t<tr><td>17.93     </td><td>0.4419107 </td><td>0.2531141 </td><td>-0.8598879</td><td>0.7096579 </td></tr>\n",
       "\t<tr><td>17.94     </td><td>0.4332465 </td><td>0.2602187 </td><td>-0.8729800</td><td>0.7111651 </td></tr>\n",
       "\t<tr><td>17.95     </td><td>0.4244505 </td><td>0.2673354 </td><td>-0.8862545</td><td>0.7120696 </td></tr>\n",
       "\t<tr><td>17.96     </td><td>0.4155209 </td><td>0.2744580 </td><td>-0.8996872</td><td>0.7123497 </td></tr>\n",
       "\t<tr><td>17.97     </td><td>0.4064563 </td><td>0.2815802 </td><td>-0.9132517</td><td>0.7119848 </td></tr>\n",
       "\t<tr><td>17.98     </td><td>0.3972555 </td><td>0.2886955 </td><td>-0.9269188</td><td>0.7109559 </td></tr>\n",
       "\t<tr><td>17.99     </td><td>0.3879177 </td><td>0.2957971 </td><td>-0.9406573</td><td>0.7092454 </td></tr>\n",
       "\t<tr><td>18.00     </td><td>0.3784422 </td><td>0.3028781 </td><td>-0.9544333</td><td>0.7068376 </td></tr>\n",
       "</tbody>\n",
       "</table>\n"
      ],
      "text/latex": [
       "\\begin{tabular}{lllll}\n",
       " time & y1 & y2 & dy1 & dy2\\\\\n",
       "\\hline\n",
       "\t 0.00         & 0.9940000    &  0.00000000  &  0.0000000   & -2.001585106\\\\\n",
       "\t 0.01         & 0.9861221    & -0.01419898  & -0.9983320   & -0.903572884\\\\\n",
       "\t 0.02         & 0.9765690    & -0.02112413  & -0.9082996   & -0.545820594\\\\\n",
       "\t 0.03         & 0.9678843    & -0.02575336  & -0.8331598   & -0.396207894\\\\\n",
       "\t 0.04         & 0.9598318    & -0.02924944  & -0.7802489   & -0.309364435\\\\\n",
       "\t 0.05         & 0.9522331    & -0.03202993  & -0.7413253   & -0.249900638\\\\\n",
       "\t 0.06         & 0.9449755    & -0.03429534  & -0.7114173   & -0.205004660\\\\\n",
       "\t 0.07         & 0.9379844    & -0.03615896  & -0.6876469   & -0.168871905\\\\\n",
       "\t 0.08         & 0.9312080    & -0.03769174  & -0.6682600   & -0.138467450\\\\\n",
       "\t 0.09         & 0.9246084    & -0.03894149  & -0.6521284   & -0.112038709\\\\\n",
       "\t 0.10         & 0.9181571    & -0.03994210  & -0.6384920   & -0.088496748\\\\\n",
       "\t 0.11         & 0.9118320    & -0.04071864  & -0.6268192   & -0.067125858\\\\\n",
       "\t 0.12         & 0.9056155    & -0.04129020  & -0.6167254   & -0.047434200\\\\\n",
       "\t 0.13         & 0.8994932    & -0.04167174  & -0.6079257   & -0.029071323\\\\\n",
       "\t 0.14         & 0.8934534    & -0.04187519  & -0.6002037   & -0.011779924\\\\\n",
       "\t 0.15         & 0.8874861    & -0.04191026  & -0.5933920   &  0.004633742\\\\\n",
       "\t 0.16         & 0.8815830    & -0.04178494  & -0.5873591   &  0.020318731\\\\\n",
       "\t 0.17         & 0.8757367    & -0.04150592  & -0.5820001   &  0.035391872\\\\\n",
       "\t 0.18         & 0.8699410    & -0.04107883  & -0.5772304   &  0.049946218\\\\\n",
       "\t 0.19         & 0.8641903    & -0.04050847  & -0.5729810   &  0.064056948\\\\\n",
       "\t 0.20         & 0.8584798    & -0.03979897  & -0.5691951   &  0.077785557\\\\\n",
       "\t 0.21         & 0.8528051    & -0.03895387  & -0.5658256   &  0.091182909\\\\\n",
       "\t 0.22         & 0.8471621    & -0.03797627  & -0.5628333   &  0.104291485\\\\\n",
       "\t 0.23         & 0.8415472    & -0.03686888  & -0.5601851   &  0.117147078\\\\\n",
       "\t 0.24         & 0.8359573    & -0.03563407  & -0.5578533   &  0.129780075\\\\\n",
       "\t 0.25         & 0.8303892    & -0.03427393  & -0.5558144   &  0.142216451\\\\\n",
       "\t 0.26         & 0.8248401    & -0.03279032  & -0.5540484   &  0.154478543\\\\\n",
       "\t 0.27         & 0.8193074    & -0.03118488  & -0.5525384   &  0.166585657\\\\\n",
       "\t 0.28         & 0.8137885    & -0.02945907  & -0.5512701   &  0.178554551\\\\\n",
       "\t 0.29         & 0.8082812    & -0.02761420  & -0.5502313   &  0.190399823\\\\\n",
       "\t ... & ... & ... & ... & ...\\\\\n",
       "\t 17.71      & 0.6044446  & 0.1094063  & -0.6418437 & 0.5696105 \\\\\n",
       "\t 17.72      & 0.5979926  & 0.1151487  & -0.6485959 & 0.5788543 \\\\\n",
       "\t 17.73      & 0.5914717  & 0.1209828  & -0.6556359 & 0.5879352 \\\\\n",
       "\t 17.74      & 0.5848789  & 0.1269069  & -0.6629688 & 0.5968402 \\\\\n",
       "\t 17.75      & 0.5782114  & 0.1329190  & -0.6705989 & 0.6055556 \\\\\n",
       "\t 17.76      & 0.5714660  & 0.1390173  & -0.6785305 & 0.6140668 \\\\\n",
       "\t 17.77      & 0.5646397  & 0.1451996  & -0.6867672 & 0.6223585 \\\\\n",
       "\t 17.78      & 0.5577296  & 0.1514637  & -0.6953122 & 0.6304144 \\\\\n",
       "\t 17.79      & 0.5507325  & 0.1578071  & -0.7041680 & 0.6382176 \\\\\n",
       "\t 17.80      & 0.5436452  & 0.1642271  & -0.7133365 & 0.6457502 \\\\\n",
       "\t 17.81      & 0.5364647  & 0.1707211  & -0.7228187 & 0.6529937 \\\\\n",
       "\t 17.82      & 0.5291878  & 0.1772860  & -0.7326147 & 0.6599286 \\\\\n",
       "\t 17.83      & 0.5218113  & 0.1839186  & -0.7427237 & 0.6665348 \\\\\n",
       "\t 17.84      & 0.5143323  & 0.1906155  & -0.7531436 & 0.6727915 \\\\\n",
       "\t 17.85      & 0.5067474  & 0.1973732  & -0.7638712 & 0.6786771 \\\\\n",
       "\t 17.86      & 0.4990538  & 0.2041877  & -0.7749021 & 0.6841694 \\\\\n",
       "\t 17.87      & 0.4912484  & 0.2110552  & -0.7862302 & 0.6892459 \\\\\n",
       "\t 17.88      & 0.4833283  & 0.2179712  & -0.7978478 & 0.6938832 \\\\\n",
       "\t 17.89      & 0.4752905  & 0.2249313  & -0.8097457 & 0.6980581 \\\\\n",
       "\t 17.90      & 0.4671324  & 0.2319307  & -0.8219128 & 0.7017468 \\\\\n",
       "\t 17.91      & 0.4588514  & 0.2389645  & -0.8343360 & 0.7049254 \\\\\n",
       "\t 17.92      & 0.4504449  & 0.2460275  & -0.8470001 & 0.7075703 \\\\\n",
       "\t 17.93      & 0.4419107  & 0.2531141  & -0.8598879 & 0.7096579 \\\\\n",
       "\t 17.94      & 0.4332465  & 0.2602187  & -0.8729800 & 0.7111651 \\\\\n",
       "\t 17.95      & 0.4244505  & 0.2673354  & -0.8862545 & 0.7120696 \\\\\n",
       "\t 17.96      & 0.4155209  & 0.2744580  & -0.8996872 & 0.7123497 \\\\\n",
       "\t 17.97      & 0.4064563  & 0.2815802  & -0.9132517 & 0.7119848 \\\\\n",
       "\t 17.98      & 0.3972555  & 0.2886955  & -0.9269188 & 0.7109559 \\\\\n",
       "\t 17.99      & 0.3879177  & 0.2957971  & -0.9406573 & 0.7092454 \\\\\n",
       "\t 18.00      & 0.3784422  & 0.3028781  & -0.9544333 & 0.7068376 \\\\\n",
       "\\end{tabular}\n"
      ],
      "text/markdown": [
       "\n",
       "time | y1 | y2 | dy1 | dy2 | \n",
       "|---|---|---|---|---|---|---|---|---|---|---|---|---|---|---|---|---|---|---|---|---|---|---|---|---|---|---|---|---|---|---|---|---|---|---|---|---|---|---|---|---|---|---|---|---|---|---|---|---|---|---|---|---|---|---|---|---|---|---|---|---|\n",
       "| 0.00         | 0.9940000    |  0.00000000  |  0.0000000   | -2.001585106 | \n",
       "| 0.01         | 0.9861221    | -0.01419898  | -0.9983320   | -0.903572884 | \n",
       "| 0.02         | 0.9765690    | -0.02112413  | -0.9082996   | -0.545820594 | \n",
       "| 0.03         | 0.9678843    | -0.02575336  | -0.8331598   | -0.396207894 | \n",
       "| 0.04         | 0.9598318    | -0.02924944  | -0.7802489   | -0.309364435 | \n",
       "| 0.05         | 0.9522331    | -0.03202993  | -0.7413253   | -0.249900638 | \n",
       "| 0.06         | 0.9449755    | -0.03429534  | -0.7114173   | -0.205004660 | \n",
       "| 0.07         | 0.9379844    | -0.03615896  | -0.6876469   | -0.168871905 | \n",
       "| 0.08         | 0.9312080    | -0.03769174  | -0.6682600   | -0.138467450 | \n",
       "| 0.09         | 0.9246084    | -0.03894149  | -0.6521284   | -0.112038709 | \n",
       "| 0.10         | 0.9181571    | -0.03994210  | -0.6384920   | -0.088496748 | \n",
       "| 0.11         | 0.9118320    | -0.04071864  | -0.6268192   | -0.067125858 | \n",
       "| 0.12         | 0.9056155    | -0.04129020  | -0.6167254   | -0.047434200 | \n",
       "| 0.13         | 0.8994932    | -0.04167174  | -0.6079257   | -0.029071323 | \n",
       "| 0.14         | 0.8934534    | -0.04187519  | -0.6002037   | -0.011779924 | \n",
       "| 0.15         | 0.8874861    | -0.04191026  | -0.5933920   |  0.004633742 | \n",
       "| 0.16         | 0.8815830    | -0.04178494  | -0.5873591   |  0.020318731 | \n",
       "| 0.17         | 0.8757367    | -0.04150592  | -0.5820001   |  0.035391872 | \n",
       "| 0.18         | 0.8699410    | -0.04107883  | -0.5772304   |  0.049946218 | \n",
       "| 0.19         | 0.8641903    | -0.04050847  | -0.5729810   |  0.064056948 | \n",
       "| 0.20         | 0.8584798    | -0.03979897  | -0.5691951   |  0.077785557 | \n",
       "| 0.21         | 0.8528051    | -0.03895387  | -0.5658256   |  0.091182909 | \n",
       "| 0.22         | 0.8471621    | -0.03797627  | -0.5628333   |  0.104291485 | \n",
       "| 0.23         | 0.8415472    | -0.03686888  | -0.5601851   |  0.117147078 | \n",
       "| 0.24         | 0.8359573    | -0.03563407  | -0.5578533   |  0.129780075 | \n",
       "| 0.25         | 0.8303892    | -0.03427393  | -0.5558144   |  0.142216451 | \n",
       "| 0.26         | 0.8248401    | -0.03279032  | -0.5540484   |  0.154478543 | \n",
       "| 0.27         | 0.8193074    | -0.03118488  | -0.5525384   |  0.166585657 | \n",
       "| 0.28         | 0.8137885    | -0.02945907  | -0.5512701   |  0.178554551 | \n",
       "| 0.29         | 0.8082812    | -0.02761420  | -0.5502313   |  0.190399823 | \n",
       "| ... | ... | ... | ... | ... | \n",
       "| 17.71      | 0.6044446  | 0.1094063  | -0.6418437 | 0.5696105  | \n",
       "| 17.72      | 0.5979926  | 0.1151487  | -0.6485959 | 0.5788543  | \n",
       "| 17.73      | 0.5914717  | 0.1209828  | -0.6556359 | 0.5879352  | \n",
       "| 17.74      | 0.5848789  | 0.1269069  | -0.6629688 | 0.5968402  | \n",
       "| 17.75      | 0.5782114  | 0.1329190  | -0.6705989 | 0.6055556  | \n",
       "| 17.76      | 0.5714660  | 0.1390173  | -0.6785305 | 0.6140668  | \n",
       "| 17.77      | 0.5646397  | 0.1451996  | -0.6867672 | 0.6223585  | \n",
       "| 17.78      | 0.5577296  | 0.1514637  | -0.6953122 | 0.6304144  | \n",
       "| 17.79      | 0.5507325  | 0.1578071  | -0.7041680 | 0.6382176  | \n",
       "| 17.80      | 0.5436452  | 0.1642271  | -0.7133365 | 0.6457502  | \n",
       "| 17.81      | 0.5364647  | 0.1707211  | -0.7228187 | 0.6529937  | \n",
       "| 17.82      | 0.5291878  | 0.1772860  | -0.7326147 | 0.6599286  | \n",
       "| 17.83      | 0.5218113  | 0.1839186  | -0.7427237 | 0.6665348  | \n",
       "| 17.84      | 0.5143323  | 0.1906155  | -0.7531436 | 0.6727915  | \n",
       "| 17.85      | 0.5067474  | 0.1973732  | -0.7638712 | 0.6786771  | \n",
       "| 17.86      | 0.4990538  | 0.2041877  | -0.7749021 | 0.6841694  | \n",
       "| 17.87      | 0.4912484  | 0.2110552  | -0.7862302 | 0.6892459  | \n",
       "| 17.88      | 0.4833283  | 0.2179712  | -0.7978478 | 0.6938832  | \n",
       "| 17.89      | 0.4752905  | 0.2249313  | -0.8097457 | 0.6980581  | \n",
       "| 17.90      | 0.4671324  | 0.2319307  | -0.8219128 | 0.7017468  | \n",
       "| 17.91      | 0.4588514  | 0.2389645  | -0.8343360 | 0.7049254  | \n",
       "| 17.92      | 0.4504449  | 0.2460275  | -0.8470001 | 0.7075703  | \n",
       "| 17.93      | 0.4419107  | 0.2531141  | -0.8598879 | 0.7096579  | \n",
       "| 17.94      | 0.4332465  | 0.2602187  | -0.8729800 | 0.7111651  | \n",
       "| 17.95      | 0.4244505  | 0.2673354  | -0.8862545 | 0.7120696  | \n",
       "| 17.96      | 0.4155209  | 0.2744580  | -0.8996872 | 0.7123497  | \n",
       "| 17.97      | 0.4064563  | 0.2815802  | -0.9132517 | 0.7119848  | \n",
       "| 17.98      | 0.3972555  | 0.2886955  | -0.9269188 | 0.7109559  | \n",
       "| 17.99      | 0.3879177  | 0.2957971  | -0.9406573 | 0.7092454  | \n",
       "| 18.00      | 0.3784422  | 0.3028781  | -0.9544333 | 0.7068376  | \n",
       "\n",
       "\n"
      ],
      "text/plain": [
       "      time  y1        y2          dy1        dy2         \n",
       " [1,] 0.00  0.9940000  0.00000000  0.0000000 -2.001585106\n",
       " [2,] 0.01  0.9861221 -0.01419898 -0.9983320 -0.903572884\n",
       " [3,] 0.02  0.9765690 -0.02112413 -0.9082996 -0.545820594\n",
       " [4,] 0.03  0.9678843 -0.02575336 -0.8331598 -0.396207894\n",
       " [5,] 0.04  0.9598318 -0.02924944 -0.7802489 -0.309364435\n",
       " [6,] 0.05  0.9522331 -0.03202993 -0.7413253 -0.249900638\n",
       " [7,] 0.06  0.9449755 -0.03429534 -0.7114173 -0.205004660\n",
       " [8,] 0.07  0.9379844 -0.03615896 -0.6876469 -0.168871905\n",
       " [9,] 0.08  0.9312080 -0.03769174 -0.6682600 -0.138467450\n",
       "[10,] 0.09  0.9246084 -0.03894149 -0.6521284 -0.112038709\n",
       "[11,] 0.10  0.9181571 -0.03994210 -0.6384920 -0.088496748\n",
       "[12,] 0.11  0.9118320 -0.04071864 -0.6268192 -0.067125858\n",
       "[13,] 0.12  0.9056155 -0.04129020 -0.6167254 -0.047434200\n",
       "[14,] 0.13  0.8994932 -0.04167174 -0.6079257 -0.029071323\n",
       "[15,] 0.14  0.8934534 -0.04187519 -0.6002037 -0.011779924\n",
       "[16,] 0.15  0.8874861 -0.04191026 -0.5933920  0.004633742\n",
       "[17,] 0.16  0.8815830 -0.04178494 -0.5873591  0.020318731\n",
       "[18,] 0.17  0.8757367 -0.04150592 -0.5820001  0.035391872\n",
       "[19,] 0.18  0.8699410 -0.04107883 -0.5772304  0.049946218\n",
       "[20,] 0.19  0.8641903 -0.04050847 -0.5729810  0.064056948\n",
       "[21,] 0.20  0.8584798 -0.03979897 -0.5691951  0.077785557\n",
       "[22,] 0.21  0.8528051 -0.03895387 -0.5658256  0.091182909\n",
       "[23,] 0.22  0.8471621 -0.03797627 -0.5628333  0.104291485\n",
       "[24,] 0.23  0.8415472 -0.03686888 -0.5601851  0.117147078\n",
       "[25,] 0.24  0.8359573 -0.03563407 -0.5578533  0.129780075\n",
       "[26,] 0.25  0.8303892 -0.03427393 -0.5558144  0.142216451\n",
       "[27,] 0.26  0.8248401 -0.03279032 -0.5540484  0.154478543\n",
       "[28,] 0.27  0.8193074 -0.03118488 -0.5525384  0.166585657\n",
       "[29,] 0.28  0.8137885 -0.02945907 -0.5512701  0.178554551\n",
       "[30,] 0.29  0.8082812 -0.02761420 -0.5502313  0.190399823\n",
       "[31,] ...   ...       ...         ...        ...         \n",
       "[32,] 17.71 0.6044446 0.1094063   -0.6418437 0.5696105   \n",
       "[33,] 17.72 0.5979926 0.1151487   -0.6485959 0.5788543   \n",
       "[34,] 17.73 0.5914717 0.1209828   -0.6556359 0.5879352   \n",
       "[35,] 17.74 0.5848789 0.1269069   -0.6629688 0.5968402   \n",
       "[36,] 17.75 0.5782114 0.1329190   -0.6705989 0.6055556   \n",
       "[37,] 17.76 0.5714660 0.1390173   -0.6785305 0.6140668   \n",
       "[38,] 17.77 0.5646397 0.1451996   -0.6867672 0.6223585   \n",
       "[39,] 17.78 0.5577296 0.1514637   -0.6953122 0.6304144   \n",
       "[40,] 17.79 0.5507325 0.1578071   -0.7041680 0.6382176   \n",
       "[41,] 17.80 0.5436452 0.1642271   -0.7133365 0.6457502   \n",
       "[42,] 17.81 0.5364647 0.1707211   -0.7228187 0.6529937   \n",
       "[43,] 17.82 0.5291878 0.1772860   -0.7326147 0.6599286   \n",
       "[44,] 17.83 0.5218113 0.1839186   -0.7427237 0.6665348   \n",
       "[45,] 17.84 0.5143323 0.1906155   -0.7531436 0.6727915   \n",
       "[46,] 17.85 0.5067474 0.1973732   -0.7638712 0.6786771   \n",
       "[47,] 17.86 0.4990538 0.2041877   -0.7749021 0.6841694   \n",
       "[48,] 17.87 0.4912484 0.2110552   -0.7862302 0.6892459   \n",
       "[49,] 17.88 0.4833283 0.2179712   -0.7978478 0.6938832   \n",
       "[50,] 17.89 0.4752905 0.2249313   -0.8097457 0.6980581   \n",
       "[51,] 17.90 0.4671324 0.2319307   -0.8219128 0.7017468   \n",
       "[52,] 17.91 0.4588514 0.2389645   -0.8343360 0.7049254   \n",
       "[53,] 17.92 0.4504449 0.2460275   -0.8470001 0.7075703   \n",
       "[54,] 17.93 0.4419107 0.2531141   -0.8598879 0.7096579   \n",
       "[55,] 17.94 0.4332465 0.2602187   -0.8729800 0.7111651   \n",
       "[56,] 17.95 0.4244505 0.2673354   -0.8862545 0.7120696   \n",
       "[57,] 17.96 0.4155209 0.2744580   -0.8996872 0.7123497   \n",
       "[58,] 17.97 0.4064563 0.2815802   -0.9132517 0.7119848   \n",
       "[59,] 17.98 0.3972555 0.2886955   -0.9269188 0.7109559   \n",
       "[60,] 17.99 0.3879177 0.2957971   -0.9406573 0.7092454   \n",
       "[61,] 18.00 0.3784422 0.3028781   -0.9544333 0.7068376   "
      ]
     },
     "metadata": {},
     "output_type": "display_data"
    }
   ],
   "source": [
    "out"
   ]
  }
 ],
 "metadata": {
  "kernelspec": {
   "display_name": "R",
   "language": "R",
   "name": "ir"
  },
  "language_info": {
   "codemirror_mode": "r",
   "file_extension": ".r",
   "mimetype": "text/x-r-source",
   "name": "R",
   "pygments_lexer": "r",
   "version": "3.5.1"
  },
  "toc-autonumbering": true
 },
 "nbformat": 4,
 "nbformat_minor": 2
}
